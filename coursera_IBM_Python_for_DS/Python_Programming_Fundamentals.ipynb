{
 "cells": [
  {
   "cell_type": "markdown",
   "metadata": {},
   "source": [
    "# Python Programming Fundamentals\n",
    "\n",
    "- Author: Jason J Ortiz Jr\n",
    "- Github Repository: https://github.com/BbBot64/Python_Essentials\n",
    "\n",
    "- Programming Fundamentals:\n",
    "- --> Conditions and Branching\n",
    "- --> Loops\n",
    "- --> Functions\n",
    "- --> Exception Handeling\n",
    "- --> Objects and Classes\n"
   ]
  },
  {
   "cell_type": "markdown",
   "metadata": {},
   "source": [
    "### Conditions and Branching\n",
    "\n",
    "- Comparison Operations: Compare some value or opperand and return a boolean\n",
    "- Comparison operators can be \"chained\"\n",
    "\n",
    "##### Comparison operators include:\n",
    "\n",
    "- \\> | < | == | >= | <= | != | is [not] | [not] in\n"
   ]
  },
  {
   "cell_type": "markdown",
   "metadata": {},
   "source": [
    "#### Examples of Python Comparison Operators:\n"
   ]
  },
  {
   "cell_type": "markdown",
   "metadata": {},
   "source": [
    "##### Comparison Operators w/ int & float\n"
   ]
  },
  {
   "cell_type": "code",
   "execution_count": 2,
   "metadata": {},
   "outputs": [
    {
     "name": "stdout",
     "output_type": "stream",
     "text": [
      "a = 6\n",
      "a == 6: True\n",
      "a == 7: False\n",
      "a > 4: True\n",
      "a < 4: False\n",
      "a >= 12.5: False\n",
      "a <= 12.5: True\n",
      "a != 6: False\n"
     ]
    }
   ],
   "source": [
    "a = 6\n",
    "print('a = 6')\n",
    "print(f'a == 6: {a == 6}')\n",
    "print(f'a == 7: {a == 7}')\n",
    "print(f'a > 4: {a > 4}')\n",
    "print(f'a < 4: {a < 4}')\n",
    "print(f'a >= 12.5: {a >= 12.5}')\n",
    "print(f'a <= 12.5: {a <= 12.5}')\n",
    "print(f'a != 6: {a != 6}')"
   ]
  },
  {
   "cell_type": "markdown",
   "metadata": {},
   "source": [
    "##### Comparison Operators w/ str\n"
   ]
  },
  {
   "cell_type": "code",
   "execution_count": 3,
   "metadata": {},
   "outputs": [
    {
     "name": "stdout",
     "output_type": "stream",
     "text": [
      "Unit of Measure: Kilogram\n",
      "Famous Physicist: Albert Einstein\n",
      "\n",
      "kilogram == physicist: False\n",
      "kilogram > physicist: True\n",
      "kilogram < physicist: False\n",
      "kilogram >= physicist: True\n",
      "kilogram <= physicist: False\n",
      "kilogram != physicist: True\n"
     ]
    }
   ],
   "source": [
    "kilogram = \"Kilogram\"\n",
    "physicist = \"Albert Einstein\"\n",
    "print(f'Unit of Measure: {kilogram}')\n",
    "print(f'Famous Physicist: {physicist}')\n",
    "print(f'\\nkilogram == physicist: {kilogram == physicist}')\n",
    "print(f'kilogram > physicist: {kilogram > physicist}')\n",
    "print(f'kilogram < physicist: {kilogram < physicist}')\n",
    "print(f'kilogram >= physicist: {kilogram >= physicist}')\n",
    "print(f'kilogram <= physicist: {kilogram <= physicist}')\n",
    "print(f'kilogram != physicist: {kilogram != physicist}')\n"
   ]
  },
  {
   "cell_type": "markdown",
   "metadata": {},
   "source": [
    "#### Branching:\n",
    "\n",
    "- if statement:\n",
    "- elif:\n",
    "- else:\n"
   ]
  },
  {
   "cell_type": "code",
   "execution_count": 4,
   "metadata": {},
   "outputs": [
    {
     "name": "stdout",
     "output_type": "stream",
     "text": [
      "Minimum age requirement for ACDC Concert: 18\n",
      "Age: 16\n",
      "\n",
      "Go to Nintendo World. \n",
      "Move on.\n"
     ]
    }
   ],
   "source": [
    "age = 16\n",
    "mimimum_age = 18\n",
    "\n",
    "print(f'Minimum age requirement for ACDC Concert: {mimimum_age}')\n",
    "print(f'Age: {age}\\n')\n",
    "\n",
    "if (age > mimimum_age):\n",
    "    print(\"You can enter ACDC concert.\")\n",
    "elif (age == mimimum_age):\n",
    "    print('Go see Pink Floyd.')\n",
    "else:\n",
    "    print('Go to Nintendo World. ')\n",
    "print(\"Move on.\")"
   ]
  },
  {
   "cell_type": "code",
   "execution_count": 5,
   "metadata": {},
   "outputs": [
    {
     "name": "stdout",
     "output_type": "stream",
     "text": [
      "Minimum age requirement for ACDC Concert: 18\n",
      "Age: 20\n",
      "\n",
      "You can enter ACDC concert.\n",
      "Move on.\n"
     ]
    }
   ],
   "source": [
    "age = 20\n",
    "mimimum_age = 18\n",
    "\n",
    "print(f'Minimum age requirement for ACDC Concert: {mimimum_age}')\n",
    "print(f'Age: {age}\\n')\n",
    "\n",
    "if (age > mimimum_age):\n",
    "    print(\"You can enter ACDC concert.\")\n",
    "elif (age == mimimum_age):\n",
    "    print('Go see Pink Floyd.')\n",
    "else:\n",
    "    print('Go to Nintendo World. ')\n",
    "print(\"Move on.\")"
   ]
  },
  {
   "cell_type": "code",
   "execution_count": 6,
   "metadata": {},
   "outputs": [
    {
     "name": "stdout",
     "output_type": "stream",
     "text": [
      "Minimum age requirement for ACDC Concert: 18\n",
      "Age: 18\n",
      "\n",
      "Go see Pink Floyd.\n",
      "Move on.\n"
     ]
    }
   ],
   "source": [
    "age = 18\n",
    "mimimum_age = 18\n",
    "\n",
    "print(f'Minimum age requirement for ACDC Concert: {mimimum_age}')\n",
    "print(f'Age: {age}\\n')\n",
    "\n",
    "if (age > mimimum_age):\n",
    "    print(\"You can enter ACDC concert.\")\n",
    "elif (age == mimimum_age):\n",
    "    print('Go see Pink Floyd.')\n",
    "else:\n",
    "    print('Go to Nintendo World. ')\n",
    "print(\"Move on.\")"
   ]
  },
  {
   "cell_type": "markdown",
   "metadata": {},
   "source": [
    "#### Logic Operators:\n",
    "\n",
    "- OR:\n",
    "- AND:\n",
    "- NOT:\n",
    "- NOR:\n",
    "-\n"
   ]
  },
  {
   "cell_type": "markdown",
   "metadata": {},
   "source": [
    "##### OR operator\n"
   ]
  },
  {
   "cell_type": "code",
   "execution_count": 7,
   "metadata": {},
   "outputs": [
    {
     "name": "stdout",
     "output_type": "stream",
     "text": [
      "The album was made in the 70's or 90's\n"
     ]
    }
   ],
   "source": [
    "album_year = 1990\n",
    "\n",
    "if (album_year < 1980) or (album_year > 1989):\n",
    "    print(\"The album was made in the 70's or 90's\")\n",
    "else:\n",
    "    print(\"The Album was made in the 1980's\")"
   ]
  },
  {
   "cell_type": "markdown",
   "metadata": {},
   "source": [
    "##### AND operator\n"
   ]
  },
  {
   "cell_type": "code",
   "execution_count": 8,
   "metadata": {},
   "outputs": [
    {
     "name": "stdout",
     "output_type": "stream",
     "text": [
      "The Album was made in the 80's\n"
     ]
    }
   ],
   "source": [
    "album_year = 1983\n",
    "\n",
    "if (album_year > 1979) and (album_year < 1990):\n",
    "    print(\"The Album was made in the 80's\")"
   ]
  },
  {
   "cell_type": "markdown",
   "metadata": {},
   "source": [
    "### Loops\n",
    "\n",
    "- range(N)\n",
    "- for loops\n",
    "- while loops\n"
   ]
  },
  {
   "cell_type": "markdown",
   "metadata": {},
   "source": [
    "#### Range Function\n",
    "\n",
    "- range(N) -> [0, ..., N-1]\n"
   ]
  },
  {
   "cell_type": "code",
   "execution_count": 9,
   "metadata": {},
   "outputs": [
    {
     "name": "stdout",
     "output_type": "stream",
     "text": [
      "range(0, 3)\n",
      "First element of range(0, 3): 0\n",
      "Last element of range(0, 3): 2\n",
      "\n",
      "range(10, 15)\n",
      "First element of range(10, 15): 10\n",
      "Last element of range(10, 15): 14\n"
     ]
    }
   ],
   "source": [
    "range_3 = range(3)\n",
    "print(range_3)\n",
    "print(f'First element of {range_3}: {range_3[0]}')\n",
    "print(f'Last element of {range_3}: {range_3[-1]}\\n')\n",
    "\n",
    "range_10_to_15 = range(10, 15)\n",
    "print(range_10_to_15)\n",
    "print(f'First element of {range_10_to_15}: {range_10_to_15[0]}')\n",
    "print(f'Last element of {range_10_to_15}: {range_10_to_15[-1]}')"
   ]
  },
  {
   "cell_type": "markdown",
   "metadata": {},
   "source": [
    "#### For loops\n",
    "\n",
    "- for \\_ in list/tuple\n"
   ]
  },
  {
   "cell_type": "code",
   "execution_count": 10,
   "metadata": {},
   "outputs": [
    {
     "name": "stdout",
     "output_type": "stream",
     "text": [
      "['red', 'yellow', 'green', 'purple', 'blue']\n",
      "['white', 'white', 'white', 'white', 'white']\n"
     ]
    }
   ],
   "source": [
    "range_squares = [\"red\", \"yellow\", \"green\", \"purple\", \"blue\"]\n",
    "print(range_squares)\n",
    "\n",
    "for i in range(0,5):\n",
    "    range_squares[i] = \"white\"\n",
    "\n",
    "print(range_squares)"
   ]
  },
  {
   "cell_type": "code",
   "execution_count": 11,
   "metadata": {},
   "outputs": [
    {
     "name": "stdout",
     "output_type": "stream",
     "text": [
      "['red', 'yellow', 'green', 'purple', 'blue']\n",
      "red\n",
      "yellow\n",
      "green\n",
      "purple\n",
      "blue\n"
     ]
    }
   ],
   "source": [
    "for_squares = [\"red\", \"yellow\", \"green\", \"purple\", \"blue\"]\n",
    "print(for_squares)\n",
    "\n",
    "for square in for_squares:\n",
    "    print(square)"
   ]
  },
  {
   "cell_type": "code",
   "execution_count": 12,
   "metadata": {},
   "outputs": [
    {
     "name": "stdout",
     "output_type": "stream",
     "text": [
      "red\n",
      "0\n",
      "yellow\n",
      "1\n",
      "green\n",
      "2\n",
      "purple\n",
      "3\n",
      "blue\n",
      "4\n"
     ]
    }
   ],
   "source": [
    "for i, square in enumerate(for_squares):\n",
    "    print(square)\n",
    "    print(i)"
   ]
  },
  {
   "cell_type": "markdown",
   "metadata": {},
   "source": [
    "#### While loops\n",
    "\n",
    "- while (condition):\n"
   ]
  },
  {
   "cell_type": "code",
   "execution_count": 13,
   "metadata": {},
   "outputs": [
    {
     "name": "stdout",
     "output_type": "stream",
     "text": [
      "index 0 is orange\n",
      "index 1 is orange\n",
      "index 2 is orange\n",
      "index 3 is orange\n",
      "index 4 is orange\n",
      "index 5 is orange\n",
      "index 6 is orange\n"
     ]
    }
   ],
   "source": [
    "mostly_orange_squares = [\"orange\", \"orange\", \"orange\",\n",
    "                         \"orange\", \"orange\", \"orange\",\n",
    "                         \"orange\", \"red\", \"orange\", \n",
    "                         \"orange\", \"orange\", \"orange\"]\n",
    "                        \n",
    "i = 0\n",
    "while (mostly_orange_squares[i] == \"orange\"):\n",
    "    print(f'index {i} is {mostly_orange_squares[i]}')\n",
    "    i += 1"
   ]
  },
  {
   "cell_type": "markdown",
   "metadata": {},
   "source": [
    "### Functions\n",
    "\n",
    "- Functions take an input and have an output\n",
    "- built-in python functions\n",
    "- fucntions are created by the \"def:\" syntax ie.\n",
    "- documentation strings with triple quotes \"\"\"_doctring_\"\"\"\n"
   ]
  },
  {
   "cell_type": "code",
   "execution_count": 14,
   "metadata": {},
   "outputs": [],
   "source": [
    "def function_1(input):\n",
    "    print(f'Add 1 to input ({input})')\n",
    "    output = input + 1\n",
    "    return output\n",
    "\n",
    "def function_2(input):\n",
    "    print(f'Add 2 to input ({input})')\n",
    "    output = input + 2\n",
    "    return output"
   ]
  },
  {
   "cell_type": "code",
   "execution_count": 15,
   "metadata": {},
   "outputs": [
    {
     "name": "stdout",
     "output_type": "stream",
     "text": [
      "Add 1 to input (3)\n",
      "Function 1 output with input of 3: 4\n",
      "Add 2 to input (3)\n",
      "Function 2 output with input of 3: 5\n"
     ]
    }
   ],
   "source": [
    "print(f'Function 1 output with input of 3: {function_1(3)}')\n",
    "print(f'Function 2 output with input of 3: {function_2(3)}')"
   ]
  },
  {
   "cell_type": "markdown",
   "metadata": {},
   "source": [
    "#### Built-in Python Functions\n",
    "\n",
    "- len()\n",
    "- sum()\n",
    "- sorted() vs sort()\n",
    "- pass\n"
   ]
  },
  {
   "cell_type": "markdown",
   "metadata": {},
   "source": [
    "##### Len\n"
   ]
  },
  {
   "cell_type": "code",
   "execution_count": 16,
   "metadata": {},
   "outputs": [
    {
     "name": "stdout",
     "output_type": "stream",
     "text": [
      "Length of Album Ratings list: 8\n"
     ]
    }
   ],
   "source": [
    "album_ratings = [10.0, 8.5, 9.5, 7.0, 7.0, 9.5, 9.0, 9.5]\n",
    "print(f'Length of Album Ratings list: {len(album_ratings)}')"
   ]
  },
  {
   "cell_type": "markdown",
   "metadata": {},
   "source": [
    "##### Sum\n"
   ]
  },
  {
   "cell_type": "code",
   "execution_count": 17,
   "metadata": {},
   "outputs": [
    {
     "name": "stdout",
     "output_type": "stream",
     "text": [
      "Sum of Album Ratings list: 70.0\n"
     ]
    }
   ],
   "source": [
    "album_ratings = [10.0, 8.5, 9.5, 7.0, 7.0, 9.5, 9.0, 9.5]\n",
    "print(f'Sum of Album Ratings list: {sum(album_ratings)}')"
   ]
  },
  {
   "cell_type": "markdown",
   "metadata": {},
   "source": [
    "##### Sorted vs Sort\n",
    "\n",
    "- sorted(list) -> creates a new list consisting of the sorted elements in the original list: O(n) space\n",
    "- list.sort() -> sorts the original list: in-place\n"
   ]
  },
  {
   "cell_type": "code",
   "execution_count": 18,
   "metadata": {},
   "outputs": [
    {
     "name": "stdout",
     "output_type": "stream",
     "text": [
      "Album Ratings list unsorted: [10.0, 8.5, 9.5, 7.0, 7.0, 9.5, 9.0, 9.5]\n",
      "\n",
      "Album Ratings list sorted(): [7.0, 7.0, 8.5, 9.0, 9.5, 9.5, 9.5, 10.0]\n",
      "\n",
      "Original Album Ratings list left unsorted: [10.0, 8.5, 9.5, 7.0, 7.0, 9.5, 9.0, 9.5]\n",
      "\n",
      "Album Ratings list.sort() as variable: None\n",
      "album_ratings.sort()\n",
      "Original Album Ratings list was sorted: [7.0, 7.0, 8.5, 9.0, 9.5, 9.5, 9.5, 10.0]\n"
     ]
    }
   ],
   "source": [
    "album_ratings = [10.0, 8.5, 9.5, 7.0, 7.0, 9.5, 9.0, 9.5]\n",
    "sorted_album_ratings = sorted(album_ratings)\n",
    "\n",
    "print(f'Album Ratings list unsorted: {album_ratings}\\n')\n",
    "print(f'Album Ratings list sorted(): {sorted_album_ratings}\\n')\n",
    "print(f'Original Album Ratings list left unsorted: {album_ratings}\\n')\n",
    "\n",
    "\n",
    "print(f'Album Ratings list.sort() as variable: {album_ratings.sort()}')\n",
    "album_ratings.sort()\n",
    "print('album_ratings.sort()')\n",
    "print(f'Original Album Ratings list was sorted: {album_ratings}')"
   ]
  },
  {
   "cell_type": "markdown",
   "metadata": {},
   "source": [
    "##### Making Functions\n"
   ]
  },
  {
   "cell_type": "code",
   "execution_count": 19,
   "metadata": {},
   "outputs": [
    {
     "name": "stdout",
     "output_type": "stream",
     "text": [
      "Help on function add1 in module __main__:\n",
      "\n",
      "add1(a)\n",
      "    _Adds 1 to input_\n",
      "    \n",
      "    Args:\n",
      "        a (int): _Input: integer to add 1 to_\n",
      "    \n",
      "    Returns:\n",
      "        _int_: _ 1 more than the input integer_\n",
      "\n"
     ]
    }
   ],
   "source": [
    "def add1(a):\n",
    "    \"\"\"_Adds 1 to input_\n",
    "\n",
    "    Args:\n",
    "        a (int): _Input: integer to add 1 to_\n",
    "\n",
    "    Returns:\n",
    "        _int_: _ 1 more than the input integer_\n",
    "    \"\"\"\n",
    "    b = a + 1\n",
    "    return b\n",
    "\n",
    "# OR\n",
    "\n",
    "def add1_return(a):\n",
    "    return(a+1)\n",
    "    \n",
    "help(add1)"
   ]
  },
  {
   "cell_type": "code",
   "execution_count": 20,
   "metadata": {},
   "outputs": [
    {
     "name": "stdout",
     "output_type": "stream",
     "text": [
      "Add 1 w/variable assignment (input 8): 9\n",
      "Add 1 w/return directly (input 8): 9\n"
     ]
    }
   ],
   "source": [
    "print(f'Add 1 w/variable assignment (input 8): {add1(8)}')\n",
    "print(f'Add 1 w/return directly (input 8): {add1_return(8)}')"
   ]
  },
  {
   "cell_type": "markdown",
   "metadata": {},
   "source": [
    "##### Multiple Parameters\n",
    "\n",
    "- a function can have multiple parameters\n"
   ]
  },
  {
   "cell_type": "code",
   "execution_count": 26,
   "metadata": {},
   "outputs": [],
   "source": [
    "def Multiply(a, b):\n",
    "    \"\"\"Multiply 2 numbers (int, float, or str)\n",
    "\n",
    "    Args:\n",
    "        a (int, float, or str): Input 1: Factor 1 of multiplication\n",
    "        b int, float, or str): Input 2: Factor 2 of multiplication\n",
    "    \n",
    "    Returns:\n",
    "        c (int, float, or str): Product of two factors/inputs\n",
    "    \"\"\"\n",
    "    c = a * b\n",
    "    return c\n",
    "\n",
    "def Multiply_return(a, b):\n",
    "    \"\"\"Multiply 2 numbers, or at most one string (int, float, or str)\n",
    "\n",
    "    Args:\n",
    "        a (int, float, or str): Input 1: Factor 1 of multiplication\n",
    "        b (int, float, or str): Input 2: Factor 2 of multiplication\n",
    "    \n",
    "    Returns:\n",
    "        (int, float, or str): Product of two factors/inputs\n",
    "    \"\"\"\n",
    "    return(a * b)"
   ]
  },
  {
   "cell_type": "code",
   "execution_count": 31,
   "metadata": {},
   "outputs": [
    {
     "name": "stdout",
     "output_type": "stream",
     "text": [
      "Album 0 Rating is 7.0\n",
      "Album 1 Rating is 7.0\n",
      "Album 2 Rating is 8.5\n",
      "Album 3 Rating is 9.0\n",
      "Album 4 Rating is 9.5\n",
      "Album 5 Rating is 9.5\n",
      "Album 6 Rating is 9.5\n",
      "Album 7 Rating is 10.0\n"
     ]
    }
   ],
   "source": [
    "def print_items(list_of_items):\n",
    "    for i, item in enumerate(list_of_items):\n",
    "        print(\"Album\", i, \"Rating is\", item)\n",
    "\n",
    "print_items(album_ratings)"
   ]
  },
  {
   "cell_type": "code",
   "execution_count": 32,
   "metadata": {},
   "outputs": [
    {
     "name": "stdout",
     "output_type": "stream",
     "text": [
      "Multiply 2 numbers w/variable assignment (input (8, 7)): 56\n",
      "Multiply 2 numbers w/return directly (input (8, 7)): 56\n",
      "\n",
      "Multiply 2 numbers w/return directly (input (3, \"Alan Turing \")): Alan Turing Alan Turing Alan Turing \n"
     ]
    }
   ],
   "source": [
    "print(f'Multiply 2 numbers w/variable assignment (input (8, 7)): {Multiply(8, 7)}')\n",
    "print(f'Multiply 2 numbers w/return directly (input (8, 7)): {Multiply_return(8, 7)}')\n",
    "print()\n",
    "print(f'Multiply 2 numbers w/return directly (input (3, \"Alan Turing \")): {Multiply_return(3, \"Alan Turing \")}')"
   ]
  },
  {
   "cell_type": "markdown",
   "metadata": {},
   "source": [
    "##### Loops in Functions\n"
   ]
  },
  {
   "cell_type": "code",
   "execution_count": 33,
   "metadata": {},
   "outputs": [
    {
     "name": "stdout",
     "output_type": "stream",
     "text": [
      "Alan Turing\n",
      "Albert Einstein\n",
      "Heinz Doofenshmirtz\n"
     ]
    }
   ],
   "source": [
    "def scientist_names(*names):\n",
    "    for name in names:\n",
    "        print(name)\n",
    "\n",
    "scientist_names(\"Alan Turing\", \"Albert Einstein\", \"Heinz Doofenshmirtz\")"
   ]
  },
  {
   "cell_type": "markdown",
   "metadata": {},
   "source": [
    "##### Scope: Variables\n"
   ]
  },
  {
   "cell_type": "code",
   "execution_count": 49,
   "metadata": {},
   "outputs": [
    {
     "name": "stdout",
     "output_type": "stream",
     "text": [
      "Pokemon \n"
     ]
    }
   ],
   "source": [
    "# Global Scope\n",
    "def add_mon(x):\n",
    "    x = x + \"mon \"\n",
    "    print(x)\n",
    "    return(x)\n",
    "\n",
    "x = \"Poke\"\n",
    "z = add_mon(x)"
   ]
  },
  {
   "cell_type": "markdown",
   "metadata": {},
   "source": [
    "##### Example functions\n"
   ]
  },
  {
   "cell_type": "code",
   "execution_count": 8,
   "metadata": {},
   "outputs": [],
   "source": [
    "def screen_flood(word, times):\n",
    "    print(word * times)"
   ]
  },
  {
   "cell_type": "code",
   "execution_count": 23,
   "metadata": {},
   "outputs": [
    {
     "name": "stdout",
     "output_type": "stream",
     "text": [
      "Alan Turing \n"
     ]
    }
   ],
   "source": [
    "def AT():\n",
    "    print(\"Alan Turing \")\n",
    "\n",
    "AT()"
   ]
  },
  {
   "cell_type": "code",
   "execution_count": 38,
   "metadata": {},
   "outputs": [
    {
     "name": "stdout",
     "output_type": "stream",
     "text": [
      "Overwatch FPS\n",
      "Current FPS: 30\n",
      "New FPS: 1030\n"
     ]
    }
   ],
   "source": [
    "def add_FPS(input):\n",
    "    b = input + 1000\n",
    "    return b\n",
    "\n",
    "print(f'Overwatch FPS\\nCurrent FPS: {30}\\nNew FPS: {add_FPS(30)}')"
   ]
  },
  {
   "cell_type": "code",
   "execution_count": 42,
   "metadata": {},
   "outputs": [
    {
     "name": "stdout",
     "output_type": "stream",
     "text": [
      "Overwatch PING\n",
      "Current PING: 100\n",
      "New PING: 90\n"
     ]
    }
   ],
   "source": [
    "def subtract_PING(input):\n",
    "    default_ping = 100\n",
    "    if (input > default_ping):\n",
    "        b = input - 100\n",
    "    else:\n",
    "        b = input - 10\n",
    "    return b\n",
    "\n",
    "print(f'Overwatch PING\\nCurrent PING: {100}\\nNew PING: {subtract_PING(100)}')"
   ]
  },
  {
   "cell_type": "markdown",
   "metadata": {},
   "source": [
    "### Exception Handeling\n",
    "\n",
    "- Catching errors before they have the opportunity to crash the program, Handling them accordingly.\n",
    "- generally formatted in the Try ... Except Statement\n",
    "-\n"
   ]
  },
  {
   "cell_type": "markdown",
   "metadata": {},
   "source": [
    "##### Try ... Except Statement\n"
   ]
  },
  {
   "cell_type": "code",
   "execution_count": 4,
   "metadata": {},
   "outputs": [
    {
     "name": "stdout",
     "output_type": "stream",
     "text": [
      "Unable to open or read the data in the file requested.\n",
      "File is now closed\n"
     ]
    }
   ],
   "source": [
    "try:\n",
    "    getfile = open(\"myfile\", \"r\")\n",
    "    getfile.write(\"For for exception handling.\")\n",
    "except IOError:\n",
    "    print(\"Unable to open or read the data in the file requested.\")\n",
    "except:\n",
    "    print(\"Some other error occured!\")\n",
    "else:\n",
    "    print(\"The file was written successfully!\")\n",
    "finally:\n",
    "    # Close commented out because dummy files were used as strings,\n",
    "    # and thus can't be closed\n",
    "    #getfile.close()\n",
    "    print(\"File is now closed\")"
   ]
  },
  {
   "cell_type": "markdown",
   "metadata": {},
   "source": [
    "### Objects and Classes\n",
    "\n",
    "- Built-in Types in Python\n",
    "-\n",
    "-\n"
   ]
  },
  {
   "cell_type": "markdown",
   "metadata": {},
   "source": [
    "#### Built-in Types in Python\n",
    "\n",
    "- every object has:\n",
    "  - a type\n",
    "  - an internal data representation (a blueprint)\n",
    "  - a set of procedures for interacting with the object (methods)\n",
    "- an object is an instance of a particular type\n"
   ]
  },
  {
   "cell_type": "markdown",
   "metadata": {},
   "source": [
    "##### Types of Objects\n",
    "\n",
    "- Python Built-in types include (but not limited to):\n",
    "  - int\n",
    "  - str\n",
    "  - dict\n",
    "  - list\n",
    "- You can get the type of an object by calling the type() function\n"
   ]
  },
  {
   "cell_type": "code",
   "execution_count": 7,
   "metadata": {},
   "outputs": [
    {
     "name": "stdout",
     "output_type": "stream",
     "text": [
      "Variable sample_int type: <class 'int'>\n"
     ]
    }
   ],
   "source": [
    "sample_int = 42\n",
    "print(f'Variable sample_int type: {type(sample_int)}')"
   ]
  },
  {
   "cell_type": "code",
   "execution_count": 9,
   "metadata": {},
   "outputs": [
    {
     "name": "stdout",
     "output_type": "stream",
     "text": [
      "Variable sample_str type: <class 'str'>\n"
     ]
    }
   ],
   "source": [
    "sample_str = \"Python is super useful!\"\n",
    "print(f'Variable sample_str type: {type(sample_str)}')"
   ]
  },
  {
   "cell_type": "code",
   "execution_count": 11,
   "metadata": {},
   "outputs": [
    {
     "name": "stdout",
     "output_type": "stream",
     "text": [
      "Variable sample_dict type: <class 'dict'>\n"
     ]
    }
   ],
   "source": [
    "sample_dict = {\"Key 1\": 42, \"Key 2\": 27, \"Key 3\": 15, \"Key 4\": 83, \"Key 5\": 64}\n",
    "print(f'Variable sample_dict type: {type(sample_dict)}')"
   ]
  },
  {
   "cell_type": "code",
   "execution_count": 10,
   "metadata": {},
   "outputs": [
    {
     "name": "stdout",
     "output_type": "stream",
     "text": [
      "Variable sample_list type: <class 'list'>\n"
     ]
    }
   ],
   "source": [
    "sample_list = [42, 73, 20, 64, 99]\n",
    "print(f'Variable sample_list type: {type(sample_list)}')"
   ]
  },
  {
   "cell_type": "markdown",
   "metadata": {},
   "source": [
    "#### Methods\n",
    "\n",
    "- A class or type's methods are the functions that every instance of that class or type provides\n",
    "- It's how you interact with the data in an object\n",
    "- Sorting is an example of a method that interacts with the data in the object\n"
   ]
  },
  {
   "cell_type": "code",
   "execution_count": 8,
   "metadata": {},
   "outputs": [
    {
     "name": "stdout",
     "output_type": "stream",
     "text": [
      "Object variable after instantiation:\n",
      "[10, 9, 6, 5, 19, 8, 9, 6, 2]\n",
      "Object variable after sorting with .sort() method:\n",
      "[2, 5, 6, 6, 8, 9, 9, 10, 19]\n"
     ]
    }
   ],
   "source": [
    "ratings = [10, 9, 6, 5, 19, 8, 9, 6, 2]\n",
    "print(f'Object variable after instantiation:\\n{ratings}')\n",
    "\n",
    "ratings.sort()\n",
    "print(f'Object variable after sorting with .sort() method:\\n{ratings}')"
   ]
  },
  {
   "cell_type": "markdown",
   "metadata": {},
   "source": [
    "#### Creating Your Own Types: Defining Classes\n",
    "\n",
    "- Classes consist of Data Attributes and Methods to access and manipulate those Data Attributes\n",
    "-\n"
   ]
  },
  {
   "cell_type": "code",
   "execution_count": 29,
   "metadata": {},
   "outputs": [],
   "source": [
    "import matplotlib.pyplot as plt\n",
    "%matplotlib inline"
   ]
  },
  {
   "cell_type": "markdown",
   "metadata": {},
   "source": [
    "##### Circle Object"
   ]
  },
  {
   "cell_type": "code",
   "execution_count": 31,
   "metadata": {},
   "outputs": [],
   "source": [
    "class Circle(object):\n",
    "    \n",
    "    def __init__(self, radius = 3, color = \"red\"):\n",
    "\n",
    "        self.radius = radius\n",
    "        self.color = color\n",
    "\n",
    "    def add_radius(self, radius):\n",
    "        self.radius = self.radius + radius\n",
    "\n",
    "    def draw_circle(self):\n",
    "        plt.gca().add_patch(plt.Circle((0, 0), radius=self.radius, fc=self.color))\n",
    "        plt.axis('scaled')\n",
    "        plt.show()"
   ]
  },
  {
   "cell_type": "code",
   "execution_count": 34,
   "metadata": {},
   "outputs": [],
   "source": [
    "red_circle = Circle(5, \"red\")"
   ]
  },
  {
   "cell_type": "code",
   "execution_count": 36,
   "metadata": {},
   "outputs": [
    {
     "name": "stdout",
     "output_type": "stream",
     "text": [
      "red_circle.radius = 5\n",
      "red_circle.color = red\n"
     ]
    },
    {
     "data": {
      "image/png": "[encoded data removed]",
      "text/plain": [
       "<Figure size 432x288 with 1 Axes>"
      ]
     },
     "metadata": {
      "needs_background": "light"
     },
     "output_type": "display_data"
    }
   ],
   "source": [
    "print(f'red_circle.radius = {red_circle.radius}')\n",
    "print(f'red_circle.color = {red_circle.color}')\n",
    "red_circle.draw_circle()"
   ]
  },
  {
   "cell_type": "markdown",
   "metadata": {},
   "source": [
    "##### Rectangle Object"
   ]
  },
  {
   "cell_type": "code",
   "execution_count": 48,
   "metadata": {},
   "outputs": [],
   "source": [
    "class Rectangle(object):\n",
    "\n",
    "    def __init__(self, length = 6, width = 4, color = \"blue\"):\n",
    "\n",
    "        self.length = length\n",
    "        self.width = width\n",
    "        self.color = color\n",
    "\n",
    "    def draw_rectangle(self):\n",
    "        plt.gca().add_patch(plt.Rectangle((0,0), self.width, self.length, fc=self.color))\n",
    "        plt.axis('scaled')\n",
    "        plt.show()"
   ]
  },
  {
   "cell_type": "code",
   "execution_count": 56,
   "metadata": {},
   "outputs": [],
   "source": [
    "blue_rectangle = Rectangle(10, 6, \"blue\")"
   ]
  },
  {
   "cell_type": "code",
   "execution_count": 57,
   "metadata": {},
   "outputs": [
    {
     "name": "stdout",
     "output_type": "stream",
     "text": [
      "blue_rectangle.length = 10\n",
      "blue_rectangle.width = 6\n",
      "blue_rectangle.color = blue\n"
     ]
    },
    {
     "data": {
      "image/png": "[encoded data removed]",
      "text/plain": [
       "<Figure size 432x288 with 1 Axes>"
      ]
     },
     "metadata": {
      "needs_background": "light"
     },
     "output_type": "display_data"
    }
   ],
   "source": [
    "print(f'blue_rectangle.length = {blue_rectangle.length}')\n",
    "print(f'blue_rectangle.width = {blue_rectangle.width}')\n",
    "print(f'blue_rectangle.color = {blue_rectangle.color}')\n",
    "blue_rectangle.draw_rectangle()"
   ]
  },
  {
   "cell_type": "code",
   "execution_count": 58,
   "metadata": {},
   "outputs": [
    {
     "name": "stdout",
     "output_type": "stream",
     "text": [
      "\n",
      "blue_rectangle.length after updating length value with = 7\n"
     ]
    },
    {
     "data": {
      "image/png": "[encoded data removed]",
      "text/plain": [
       "<Figure size 432x288 with 1 Axes>"
      ]
     },
     "metadata": {
      "needs_background": "light"
     },
     "output_type": "display_data"
    }
   ],
   "source": [
    "blue_rectangle.length = 7\n",
    "print(f'\\nblue_rectangle.length after updating length value with = {blue_rectangle.length}')\n",
    "blue_rectangle.draw_rectangle()"
   ]
  },
  {
   "cell_type": "markdown",
   "metadata": {},
   "source": [
    "#### Exercises\n",
    "\n",
    "##### Text Analysis\n"
   ]
  },
  {
   "cell_type": "markdown",
   "metadata": {},
   "source": [
    "You have been recruited by your friend, a linguistics enthusiast, to create a utility tool that can perform analysis on a given piece of text. Complete the class\n",
    "'analysedText' with the following methods -\n",
    "\n",
    "<ul>\n",
    "    <li> Constructor (__init__) - This method should take the argument <code>text</code>, make it lower case, and remove all punctuation.  Assume only the following punctuation is used: period (.), exclamation mark (!), comma (,) and question mark (?). Assign this newly formatted text to a new attribute called <code>fmtText</code>.\n",
    "    <li> freqAll - This method should create and <strong>return</strong> dictionary of all unique words in the text, along with the number of times they occur in the text. Each key in the dictionary should be the unique word appearing in the text and the associated value should be the number of times it occurs in the text. Create this dictionary from the <code>fmtText</code> attribute.\n",
    "    <li> freqOf - This method should take a word as an argument and <strong>return</strong> the number of occurrences of that word in <code>fmtText</code>.\n",
    "</ul>\n",
    " The skeleton code has been given to you. Docstrings can be ignored for the purpose of the exercise. <br>\n",
    " <i> Hint: Some useful functions are <code>replace()</code>, <code>lower()</code>, <code>split()</code>, <code>count()</code> </i><br>\n"
   ]
  },
  {
   "cell_type": "markdown",
   "metadata": {},
   "source": []
  }
 ],
 "metadata": {
  "kernelspec": {
   "display_name": "Python 3.10.4 ('Python_Essentials_Github')",
   "language": "python",
   "name": "python3"
  },
  "language_info": {
   "codemirror_mode": {
    "name": "ipython",
    "version": 3
   },
   "file_extension": ".py",
   "mimetype": "text/x-python",
   "name": "python",
   "nbconvert_exporter": "python",
   "pygments_lexer": "ipython3",
   "version": "3.10.4"
  },
  "orig_nbformat": 4,
  "vscode": {
   "interpreter": {
    "hash": "a92a794119949382cfb5b11c14ff263b01df46fe10f9c42f8aa7fc83345d2959"
   }
  }
 },
 "nbformat": 4,
 "nbformat_minor": 2
}
