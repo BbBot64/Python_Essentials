{
 "cells": [
  {
   "cell_type": "markdown",
   "metadata": {},
   "source": [
    "# Python Programming Fundamentals\n",
    "* Author: Jason J Ortiz Jr \n",
    "* Github Repository: https://github.com/BbBot64/Python_Essentials \n",
    "\n",
    "* Programming Fundamentals:\n",
    "* --> Conditions and Branching\n",
    "* --> Loops\n",
    "* --> Functions\n",
    "* --> Exception Handeling\n",
    "* --> Objects and Classes\n"
   ]
  },
  {
   "cell_type": "markdown",
   "metadata": {},
   "source": [
    "### Conditions and Branching\n",
    "* Comparison Operations: Compare some value or opperand and return a boolean\n",
    "* Comparison operators can be \"chained\"\n",
    "##### Comparison operators include:\n",
    "* \\> | < | == | >= | <= | != | is [not] | [not] in"
   ]
  },
  {
   "cell_type": "markdown",
   "metadata": {},
   "source": [
    "#### Examples of Python Comparison Operators:"
   ]
  },
  {
   "cell_type": "markdown",
   "metadata": {},
   "source": [
    "##### Comparison Operators w/ int & float"
   ]
  },
  {
   "cell_type": "code",
   "execution_count": 10,
   "metadata": {},
   "outputs": [
    {
     "name": "stdout",
     "output_type": "stream",
     "text": [
      "a = 6\n",
      "a == 6: True\n",
      "a == 7: False\n",
      "a > 4: True\n",
      "a < 4: False\n",
      "a >= 12.5: False\n",
      "a <= 12.5: True\n",
      "a != 6: False\n"
     ]
    }
   ],
   "source": [
    "a = 6\n",
    "print('a = 6')\n",
    "print(f'a == 6: {a == 6}')\n",
    "print(f'a == 7: {a == 7}')\n",
    "print(f'a > 4: {a > 4}')\n",
    "print(f'a < 4: {a < 4}')\n",
    "print(f'a >= 12.5: {a >= 12.5}')\n",
    "print(f'a <= 12.5: {a <= 12.5}')\n",
    "print(f'a != 6: {a != 6}')"
   ]
  },
  {
   "cell_type": "markdown",
   "metadata": {},
   "source": [
    "##### Comparison Operators w/ str"
   ]
  },
  {
   "cell_type": "code",
   "execution_count": 11,
   "metadata": {},
   "outputs": [
    {
     "name": "stdout",
     "output_type": "stream",
     "text": [
      "Unit of Measure: Kilogram\n",
      "Famous Physicist: Albert Einstein\n",
      "\n",
      "kilogram == physicist: False\n",
      "kilogram > physicist: True\n",
      "kilogram < physicist: False\n",
      "kilogram >= physicist: True\n",
      "kilogram <= physicist: False\n",
      "kilogram != physicist: True\n"
     ]
    }
   ],
   "source": [
    "kilogram = \"Kilogram\"\n",
    "physicist = \"Albert Einstein\"\n",
    "print(f'Unit of Measure: {kilogram}')\n",
    "print(f'Famous Physicist: {physicist}')\n",
    "print(f'\\nkilogram == physicist: {kilogram == physicist}')\n",
    "print(f'kilogram > physicist: {kilogram > physicist}')\n",
    "print(f'kilogram < physicist: {kilogram < physicist}')\n",
    "print(f'kilogram >= physicist: {kilogram >= physicist}')\n",
    "print(f'kilogram <= physicist: {kilogram <= physicist}')\n",
    "print(f'kilogram != physicist: {kilogram != physicist}')\n"
   ]
  },
  {
   "cell_type": "markdown",
   "metadata": {},
   "source": [
    "#### Branching:\n",
    "* if statement: "
   ]
  },
  {
   "cell_type": "code",
   "execution_count": 27,
   "metadata": {},
   "outputs": [
    {
     "name": "stdout",
     "output_type": "stream",
     "text": [
      "Minimum age requirement for ACDC Concert: 18\n",
      "Age: 16\n",
      "\n",
      "Go to Nintendo World. \n",
      "Move on.\n"
     ]
    }
   ],
   "source": [
    "age = 16\n",
    "mimimum_age = 18\n",
    "\n",
    "print(f'Minimum age requirement for ACDC Concert: {mimimum_age}')\n",
    "print(f'Age: {age}\\n')\n",
    "\n",
    "if (age > mimimum_age):\n",
    "    print(\"You can enter ACDC concert.\")\n",
    "elif (age == mimimum_age):\n",
    "    print('Go see Pink Floyd.')\n",
    "else:\n",
    "    print('Go to Nintendo World. ')\n",
    "print(\"Move on.\")"
   ]
  },
  {
   "cell_type": "code",
   "execution_count": 25,
   "metadata": {},
   "outputs": [
    {
     "name": "stdout",
     "output_type": "stream",
     "text": [
      "Minimum age requirement for ACDC Concert: 18\n",
      "Age: 20\n",
      "\n",
      "You can enter ACDC concert.\n",
      "Move on.\n"
     ]
    }
   ],
   "source": [
    "age = 20\n",
    "mimimum_age = 18\n",
    "\n",
    "print(f'Minimum age requirement for ACDC Concert: {mimimum_age}')\n",
    "print(f'Age: {age}\\n')\n",
    "\n",
    "if (age > mimimum_age):\n",
    "    print(\"You can enter ACDC concert.\")\n",
    "elif (age == mimimum_age):\n",
    "    print('Go see Pink Floyd.')\n",
    "else:\n",
    "    print('Go to Nintendo World. ')\n",
    "print(\"Move on.\")"
   ]
  },
  {
   "cell_type": "code",
   "execution_count": 26,
   "metadata": {},
   "outputs": [
    {
     "name": "stdout",
     "output_type": "stream",
     "text": [
      "Minimum age requirement for ACDC Concert: 18\n",
      "Age: 18\n",
      "\n",
      "Go see Pink Floyd.\n",
      "Move on.\n"
     ]
    }
   ],
   "source": [
    "age = 18\n",
    "mimimum_age = 18\n",
    "\n",
    "print(f'Minimum age requirement for ACDC Concert: {mimimum_age}')\n",
    "print(f'Age: {age}\\n')\n",
    "\n",
    "if (age > mimimum_age):\n",
    "    print(\"You can enter ACDC concert.\")\n",
    "elif (age == mimimum_age):\n",
    "    print('Go see Pink Floyd.')\n",
    "else:\n",
    "    print('Go to Nintendo World. ')\n",
    "print(\"Move on.\")"
   ]
  },
  {
   "cell_type": "markdown",
   "metadata": {},
   "source": [
    "#### Logic Operators:\n",
    "* OR:\n",
    "* AND: \n",
    "* NOT: \n",
    "* NOR: \n",
    "* "
   ]
  },
  {
   "cell_type": "markdown",
   "metadata": {},
   "source": [
    "##### OR operator"
   ]
  },
  {
   "cell_type": "code",
   "execution_count": 28,
   "metadata": {},
   "outputs": [
    {
     "name": "stdout",
     "output_type": "stream",
     "text": [
      "The album was made in the 70's or 90's\n"
     ]
    }
   ],
   "source": [
    "album_year = 1990\n",
    "\n",
    "if (album_year < 1980) or (album_year > 1989):\n",
    "    print(\"The album was made in the 70's or 90's\")\n",
    "else:\n",
    "    print(\"The Album was made in the 1980's\")"
   ]
  },
  {
   "cell_type": "markdown",
   "metadata": {},
   "source": [
    "##### AND operator"
   ]
  },
  {
   "cell_type": "code",
   "execution_count": 29,
   "metadata": {},
   "outputs": [
    {
     "name": "stdout",
     "output_type": "stream",
     "text": [
      "The Album was made in the 80's\n"
     ]
    }
   ],
   "source": [
    "album_year = 1983\n",
    "\n",
    "if (album_year > 1979) and (album_year < 1990):\n",
    "    print(\"The Album was made in the 80's\")"
   ]
  },
  {
   "cell_type": "markdown",
   "metadata": {},
   "source": [
    "### Loops\n",
    "* range(N)\n",
    "* \n",
    "* "
   ]
  },
  {
   "cell_type": "markdown",
   "metadata": {},
   "source": [
    "#### Range Function\n",
    "* range(N) -> [0, ..., N-1]"
   ]
  },
  {
   "cell_type": "code",
   "execution_count": 37,
   "metadata": {},
   "outputs": [
    {
     "name": "stdout",
     "output_type": "stream",
     "text": [
      "range(0, 3)\n",
      "First element of range(0, 3): 0\n",
      "Last element of range(0, 3): 2\n",
      "\n",
      "range(10, 15)\n",
      "First element of range(10, 15): 10\n",
      "Last element of range(10, 15): 14\n"
     ]
    }
   ],
   "source": [
    "range_3 = range(3)\n",
    "print(range_3)\n",
    "print(f'First element of {range_3}: {range_3[0]}')\n",
    "print(f'Last element of {range_3}: {range_3[-1]}\\n')\n",
    "\n",
    "range_10_to_15 = range(10, 15)\n",
    "print(range_10_to_15)\n",
    "print(f'First element of {range_10_to_15}: {range_10_to_15[0]}')\n",
    "print(f'Last element of {range_10_to_15}: {range_10_to_15[-1]}')"
   ]
  },
  {
   "cell_type": "markdown",
   "metadata": {},
   "source": [
    "### Functions\n",
    "* \n",
    "* \n",
    "* "
   ]
  },
  {
   "cell_type": "code",
   "execution_count": null,
   "metadata": {},
   "outputs": [],
   "source": []
  },
  {
   "cell_type": "markdown",
   "metadata": {},
   "source": [
    "### Exception Handeling\n",
    "* \n",
    "* \n",
    "* "
   ]
  },
  {
   "cell_type": "code",
   "execution_count": null,
   "metadata": {},
   "outputs": [],
   "source": []
  },
  {
   "cell_type": "markdown",
   "metadata": {},
   "source": [
    "### Objects and Classes\n",
    "* \n",
    "* \n",
    "* "
   ]
  },
  {
   "cell_type": "code",
   "execution_count": null,
   "metadata": {},
   "outputs": [],
   "source": []
  }
 ],
 "metadata": {
  "kernelspec": {
   "display_name": "Python 3.10.4 ('Python_Essentials_Github')",
   "language": "python",
   "name": "python3"
  },
  "language_info": {
   "codemirror_mode": {
    "name": "ipython",
    "version": 3
   },
   "file_extension": ".py",
   "mimetype": "text/x-python",
   "name": "python",
   "nbconvert_exporter": "python",
   "pygments_lexer": "ipython3",
   "version": "3.10.4"
  },
  "orig_nbformat": 4,
  "vscode": {
   "interpreter": {
    "hash": "a92a794119949382cfb5b11c14ff263b01df46fe10f9c42f8aa7fc83345d2959"
   }
  }
 },
 "nbformat": 4,
 "nbformat_minor": 2
}
