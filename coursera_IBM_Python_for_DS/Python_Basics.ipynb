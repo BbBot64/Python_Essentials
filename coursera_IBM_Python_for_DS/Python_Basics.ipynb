{
 "cells": [
  {
   "cell_type": "markdown",
   "metadata": {},
   "source": [
    "# Python Basics\n",
    "* Author: Jason J Ortiz Jr\n",
    "* Github Repository: https://github.com/BbBot64/Python_Essentials\n",
    "* Hello World\n",
    "* Types & Variables\n",
    "* Expressions\n",
    "* String Operations\n"
   ]
  },
  {
   "cell_type": "markdown",
   "metadata": {},
   "source": [
    "### Hello World\n",
    "* print()\n",
    "* print(f'')"
   ]
  },
  {
   "cell_type": "code",
   "execution_count": 3,
   "metadata": {},
   "outputs": [
    {
     "name": "stdout",
     "output_type": "stream",
     "text": [
      "Method 1: Hello World!\n"
     ]
    }
   ],
   "source": [
    "# Prints Hello World\n",
    "print('Method 1: Hello World!')"
   ]
  },
  {
   "cell_type": "markdown",
   "metadata": {},
   "source": [
    "OR"
   ]
  },
  {
   "cell_type": "code",
   "execution_count": 4,
   "metadata": {},
   "outputs": [
    {
     "name": "stdout",
     "output_type": "stream",
     "text": [
      "Method 2: Hello World!\n"
     ]
    }
   ],
   "source": [
    "# Stores 'Hello World' in variable hello_world to print\n",
    "# using f-strings\n",
    "hello_world = 'Hello World!'\n",
    "print(f'Method 2: {hello_world}')"
   ]
  },
  {
   "cell_type": "markdown",
   "metadata": {},
   "source": [
    "### Types & Variables\n",
    "* int: Integer-64\n",
    "* float: Float-64\n",
    "* str: String\n",
    "* Type Casting\n",
    "* Boolean"
   ]
  },
  {
   "cell_type": "markdown",
   "metadata": {},
   "source": [
    "#### Intro to types & variables"
   ]
  },
  {
   "cell_type": "code",
   "execution_count": 35,
   "metadata": {},
   "outputs": [
    {
     "name": "stdout",
     "output_type": "stream",
     "text": [
      "Int Data Type Example: 42 <class 'int'>\n",
      "Float Data Type Example: 4.2 <class 'float'>\n",
      "String Data Type Example: \"42\" <class 'str'>\n"
     ]
    }
   ],
   "source": [
    "# Assigning the afformentioned data types to variables\n",
    "# Python is Dynamically-Typed so no need to specify type\n",
    "int_type = 42\n",
    "float_type = 4.2\n",
    "string_type = \"42\"\n",
    "\n",
    "# Printing the data types using f-strings\n",
    "print(f'Int Data Type Example: {int_type} {type(int_type)}')\n",
    "print(f'Float Data Type Example: {float_type} {type(float_type)}')\n",
    "print(f'String Data Type Example: \"{string_type}\" {type(string_type)}')"
   ]
  },
  {
   "cell_type": "markdown",
   "metadata": {},
   "source": [
    "#### Typecasting\n",
    "* Allows for transformation of a variable to another type, possible loss of information"
   ]
  },
  {
   "cell_type": "code",
   "execution_count": 14,
   "metadata": {},
   "outputs": [
    {
     "name": "stdout",
     "output_type": "stream",
     "text": [
      "From int -> float: 42 -> 42.0\n",
      "From float -> int: 4.2 -> 4\n",
      "From string -> int: \"42\" -> 42\n"
     ]
    }
   ],
   "source": [
    "# Using f-strings to print the before & after effects of typecasting\n",
    "print(f'From int -> float: {int_type} -> {float(int_type)}')\n",
    "print(f'From float -> int: {float_type} -> {int(float_type)}')\n",
    "print(f'From string -> int: \"{string_type}\" -> {int(string_type)}')"
   ]
  },
  {
   "cell_type": "markdown",
   "metadata": {},
   "source": [
    "#### Boolean\n",
    "* Boolean: {True, False}\n",
    "* T and F of True & False must be Capitalized\n",
    "* Allows for control flow"
   ]
  },
  {
   "cell_type": "code",
   "execution_count": 36,
   "metadata": {},
   "outputs": [
    {
     "name": "stdout",
     "output_type": "stream",
     "text": [
      "Boolean True: True <class 'bool'>\n",
      "Boolean False: False <class 'bool'>\n"
     ]
    }
   ],
   "source": [
    "bool_true = True\n",
    "bool_false = False\n",
    "print(f'Boolean True: {bool_true} {type(bool_true)}')\n",
    "print(f'Boolean False: {bool_false} {type(bool_false)}')"
   ]
  },
  {
   "cell_type": "code",
   "execution_count": 39,
   "metadata": {},
   "outputs": [
    {
     "name": "stdout",
     "output_type": "stream",
     "text": [
      "It's Daytime: True\n",
      "Lights On?: False\n"
     ]
    }
   ],
   "source": [
    "day_time = True\n",
    "#day_time = input('Look outside, is it daytime? (True/False)')\n",
    "lights_on = False\n",
    "if day_time == True:\n",
    "    print(f'It\\'s Daytime: {day_time}')\n",
    "    print(f'Lights On?: {lights_on}')\n",
    "else:\n",
    "    print(f'It\\'s Daytime: {not day_time}')\n",
    "    print(f'Lights On?: {not lights_on}')"
   ]
  },
  {
   "cell_type": "markdown",
   "metadata": {},
   "source": [
    "### Expressions\n",
    "* Mathematical Operations\n",
    "* Expressions with Variables"
   ]
  },
  {
   "cell_type": "markdown",
   "metadata": {},
   "source": [
    "#### Mathematical Operations"
   ]
  },
  {
   "cell_type": "code",
   "execution_count": 30,
   "metadata": {},
   "outputs": [
    {
     "name": "stdout",
     "output_type": "stream",
     "text": [
      "Addition: 100 + 20 = 120\n",
      "Subtracion: 50 - 60 = -10\n",
      "\n",
      "Multiplication: 5 * 6 = 30\n",
      "Exponents: 10 ** 5 = 100000\n",
      "\n",
      "Division: 100 / 3 = 33.333333333333336\n",
      "Floor Division: 100 // 3 = 33\n",
      "\n",
      "Order of Operations: 10 + 6 * 4 = 34\n"
     ]
    }
   ],
   "source": [
    "print(f'Addition: 100 + 20 = {100 + 20}')\n",
    "print(f'Subtracion: 50 - 60 = {50 - 60}\\n')\n",
    "print(f'Multiplication: 5 * 6 = {5 * 6}')\n",
    "print(f'Exponents: 10 ** 5 = {10 ** 5}\\n')\n",
    "print(f'Division: 100 / 3 = {100 / 3}')\n",
    "print(f'Floor Division: 100 // 3 = {100 // 3}\\n')\n",
    "print(f'Order of Operations: 10 + 6 * 4 = {10 + 6 * 4}')"
   ]
  },
  {
   "cell_type": "markdown",
   "metadata": {},
   "source": [
    "#### Expressions with Variables"
   ]
  },
  {
   "cell_type": "code",
   "execution_count": 33,
   "metadata": {},
   "outputs": [
    {
     "name": "stdout",
     "output_type": "stream",
     "text": [
      "Initial Value of x = 160\n",
      "Final Value of x = 40.0\n"
     ]
    }
   ],
   "source": [
    "x = 160\n",
    "print(f'Initial Value of x = {x}')\n",
    "x = x / 4\n",
    "print(f'Final Value of x = {x}')"
   ]
  },
  {
   "cell_type": "markdown",
   "metadata": {},
   "source": [
    "### String Operations\n",
    "* Strings are tuples of characters, and can be accessed as such\n",
    "* String Slicing\n",
    "* Strings are Immutable"
   ]
  },
  {
   "cell_type": "markdown",
   "metadata": {},
   "source": [
    "#### Accessing Strings as tuples"
   ]
  },
  {
   "cell_type": "code",
   "execution_count": 56,
   "metadata": {},
   "outputs": [
    {
     "name": "stdout",
     "output_type": "stream",
     "text": [
      "Father of Artificial Intelligence: Alan Turing\n",
      "Length of Full Name: 11\n"
     ]
    }
   ],
   "source": [
    "full_name = \"Alan Turing\"\n",
    "print(f'Father of Artificial Intelligence: {full_name}')\n",
    "print(f'Length of Full Name: {len(full_name)}')"
   ]
  },
  {
   "cell_type": "code",
   "execution_count": 62,
   "metadata": {},
   "outputs": [
    {
     "name": "stdout",
     "output_type": "stream",
     "text": [
      "Initials: AT\n",
      "Initials (negative indices): AT\n"
     ]
    }
   ],
   "source": [
    "print(f'Initials: {full_name[0]}{full_name[5]}')\n",
    "print(f'Initials (negative indices): {full_name[-11]}{full_name[-6]}')"
   ]
  },
  {
   "cell_type": "markdown",
   "metadata": {},
   "source": [
    "#### String Slicing"
   ]
  },
  {
   "cell_type": "code",
   "execution_count": 67,
   "metadata": {},
   "outputs": [
    {
     "name": "stdout",
     "output_type": "stream",
     "text": [
      "First Name: Alan\n",
      "Length of First Name: 4\n"
     ]
    }
   ],
   "source": [
    "first_name = full_name[:4]\n",
    "print(f'First Name: {first_name}')\n",
    "print(f'Length of First Name: {len(first_name)}')"
   ]
  },
  {
   "cell_type": "code",
   "execution_count": 66,
   "metadata": {},
   "outputs": [
    {
     "name": "stdout",
     "output_type": "stream",
     "text": [
      "First Name: Turing\n",
      "Length of Last Name: 6\n"
     ]
    }
   ],
   "source": [
    "last_name = full_name[5:]\n",
    "print(f'First Name: {last_name}')\n",
    "print(f'Length of Last Name: {len(last_name)}')"
   ]
  },
  {
   "cell_type": "markdown",
   "metadata": {},
   "source": [
    "#### Strings are Immutable"
   ]
  },
  {
   "cell_type": "code",
   "execution_count": 71,
   "metadata": {},
   "outputs": [
    {
     "name": "stdout",
     "output_type": "stream",
     "text": [
      "Since strings are immutable you can't do full_name[0] = J\n",
      "Instead you can concatenate strings!\n",
      "e.g.:\n",
      "Alan Turing is the best!\n"
     ]
    }
   ],
   "source": [
    "print(f'Since strings are immutable you can\\'t do full_name[0] = J')\n",
    "print(f'Instead you can concatenate strings!\\ne.g.:')\n",
    "statement = ' is the best!'\n",
    "print(full_name + statement)"
   ]
  },
  {
   "cell_type": "markdown",
   "metadata": {},
   "source": [
    "#### String Methods\n",
    "* .upper()\n",
    "* .lower()\n",
    "* .replace()\n",
    "* .find()"
   ]
  },
  {
   "cell_type": "markdown",
   "metadata": {},
   "source": [
    "##### .upper()\n",
    "* .upper() turns all lower case letters to uppercase"
   ]
  },
  {
   "cell_type": "code",
   "execution_count": 84,
   "metadata": {},
   "outputs": [
    {
     "name": "stdout",
     "output_type": "stream",
     "text": [
      "Alan Turing -> ALAN TURING\n"
     ]
    }
   ],
   "source": [
    "upper_case_name = full_name.upper()\n",
    "print(f'{full_name} -> {upper_case_name}')"
   ]
  },
  {
   "cell_type": "markdown",
   "metadata": {},
   "source": [
    "##### .lower()\n",
    "* .lower() turns all uppercase letters to lowercase"
   ]
  },
  {
   "cell_type": "code",
   "execution_count": 82,
   "metadata": {},
   "outputs": [
    {
     "name": "stdout",
     "output_type": "stream",
     "text": [
      "Alan Turing -> alan turing\n"
     ]
    }
   ],
   "source": [
    "lower_case_name = full_name.lower()\n",
    "print(f'{full_name} -> {lower_case_name}')"
   ]
  },
  {
   "cell_type": "markdown",
   "metadata": {},
   "source": [
    "##### .replace()\n",
    "* .replace() replaces the substring you enter with the string of your choice"
   ]
  },
  {
   "cell_type": "code",
   "execution_count": 81,
   "metadata": {},
   "outputs": [
    {
     "name": "stdout",
     "output_type": "stream",
     "text": [
      "Alan Turing -> John Turing\n"
     ]
    }
   ],
   "source": [
    "replaced_name = full_name.replace('Alan', 'John')\n",
    "print(f'{full_name} -> {replaced_name}')"
   ]
  },
  {
   "cell_type": "markdown",
   "metadata": {},
   "source": [
    "##### .find()\n",
    "* .find() returns the first indx of the substring you search for\n",
    " * else: -1"
   ]
  },
  {
   "cell_type": "code",
   "execution_count": 86,
   "metadata": {},
   "outputs": [
    {
     "name": "stdout",
     "output_type": "stream",
     "text": [
      "Index of Sequence 1: 7\n",
      "Index of Sequence 2: 1\n",
      "Index of Sequence 3: -1\n"
     ]
    }
   ],
   "source": [
    "search_sequence_1 = 'ring'\n",
    "search_sequence_2 = 'lan'\n",
    "invalid_sequence = 'Python Rocks!'\n",
    "\n",
    "print(f'Index of Sequence 1: {full_name.find(search_sequence_1)}')\n",
    "print(f'Index of Sequence 2: {full_name.find(search_sequence_2)}')\n",
    "print(f'Index of Sequence 3: {full_name.find(invalid_sequence)}')"
   ]
  }
 ],
 "metadata": {
  "kernelspec": {
   "display_name": "Python 3.10.4 ('Python_Essentials_Github')",
   "language": "python",
   "name": "python3"
  },
  "language_info": {
   "codemirror_mode": {
    "name": "ipython",
    "version": 3
   },
   "file_extension": ".py",
   "mimetype": "text/x-python",
   "name": "python",
   "nbconvert_exporter": "python",
   "pygments_lexer": "ipython3",
   "version": "3.10.4"
  },
  "orig_nbformat": 4,
  "vscode": {
   "interpreter": {
    "hash": "a92a794119949382cfb5b11c14ff263b01df46fe10f9c42f8aa7fc83345d2959"
   }
  }
 },
 "nbformat": 4,
 "nbformat_minor": 2
}
