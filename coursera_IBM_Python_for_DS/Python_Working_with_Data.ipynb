{
 "cells": [
  {
   "cell_type": "markdown",
   "metadata": {},
   "source": [
    "# Python Working with Data\n",
    "* Author: Jason J Ortiz \n",
    "* Github Repository: https://github.com/BbBot64/Python_Essentials \n",
    "\n",
    "* Reading & Writing Files with Open\n",
    "  * Reading Files with Open\n",
    "  * Writing Files with Open\n",
    "* Pandas\n",
    "  * Loading Data with Pandas\n",
    "  * Working with and Saving Data with Pandas\n",
    "* Numpy\n",
    "  * One-Dimensional Numpy\n",
    "  * Two-Dimensional Numpy\n"
   ]
  },
  {
   "cell_type": "markdown",
   "metadata": {},
   "source": [
    "### Reading & Writing Files with Open\n",
    "* General Formatting\n",
    "* "
   ]
  },
  {
   "cell_type": "markdown",
   "metadata": {},
   "source": [
    "#### General Formatting\n",
    "* Start with creating a File Object\n",
    "  * File_1 = open(\"supporting_data\\Example_File_1.txt\", \"r/w/a\")\n",
    "#\n",
    "  * open() -> Open function\n",
    "#\n",
    "  * \"supporting_data\\Example_File_1.txt\" -> File Path\n",
    "    * supporting_data\\ -> Directory \n",
    "    * Example_File_1.txt -> File Name\n",
    "#\n",
    "  * \"r/w/a\" -> Mode\n",
    "    * r -> Read\n",
    "    * w -> Write\n",
    "    * a -> Append\n",
    "#\n",
    "  * File_1 -> File Object\n",
    "    * Attributes/methods such as:\n",
    "      * .name\n",
    "      * .mode\n",
    "      * .read()\n",
    "      * .close() -> Super Important! Will solve with \"with _ as _ :\" statement which automatically closes the file object"
   ]
  },
  {
   "cell_type": "markdown",
   "metadata": {},
   "source": [
    "##### Reading Data from a File"
   ]
  },
  {
   "cell_type": "code",
   "execution_count": 1,
   "metadata": {},
   "outputs": [
    {
     "name": "stdout",
     "output_type": "stream",
     "text": [
      "Example_File_1 Contents:\n",
      "Congratulations: You Found the Secret!\n",
      "\n",
      "This is some Dummy text.\n",
      "There's a possibility nobody ever reads this.\n",
      "    If you do please feel free to sign your name below.\n",
      "I'll start using Python to read and write the file!\n",
      "\n",
      "Names:\n",
      "\n",
      "\n",
      "File is closed: True\n",
      "\n",
      "Confirmation that data is stored in variable file_contents_1 after closing file:\n",
      "Congratulations: You Found the Secret!\n",
      "\n",
      "This is some Dummy text.\n",
      "There's a possibility nobody ever reads this.\n",
      "    If you do please feel free to sign your name below.\n",
      "I'll start using Python to read and write the file!\n",
      "\n",
      "Names:\n",
      "\n"
     ]
    }
   ],
   "source": [
    "with open(\"supporting_data\\Example_File_1.txt\", \"r\") as File_1:\n",
    "\n",
    "    file_contents_1 = File_1.read()\n",
    "\n",
    "    print(f'Example_File_1 Contents:\\n{file_contents_1}')\n",
    "\n",
    "print(f'\\nFile is closed: {File_1.closed}')\n",
    "print(f'\\nConfirmation that data is stored in variable file_contents_1 after closing file:\\n{file_contents_1}')"
   ]
  },
  {
   "cell_type": "markdown",
   "metadata": {},
   "source": [
    "##### Reading Individual Lines:\n",
    "* .readline() -> Everytime it's called it prints the lines one at a time\n"
   ]
  },
  {
   "cell_type": "code",
   "execution_count": 2,
   "metadata": {},
   "outputs": [
    {
     "name": "stdout",
     "output_type": "stream",
     "text": [
      "Congratulations: You Found the Secret!\n",
      "\n"
     ]
    }
   ],
   "source": [
    "with open(\"supporting_data\\Example_File_1.txt\", \"r\") as File_1:\n",
    "    file_contents_1_line_1 = File_1.readline()\n",
    "    print(file_contents_1_line_1)"
   ]
  },
  {
   "cell_type": "code",
   "execution_count": 3,
   "metadata": {},
   "outputs": [
    {
     "name": "stdout",
     "output_type": "stream",
     "text": [
      "First Line of Example_File_1.txt:\n",
      "Congratulations: You Found the Secret!\n",
      "\n",
      "Third Line of Example_File_1.txt:\n",
      "This is some Dummy text.\n",
      "\n"
     ]
    }
   ],
   "source": [
    "with open(\"supporting_data\\Example_File_1.txt\", \"r\") as File_1:\n",
    "    \n",
    "    file_1_line_1 = File_1.readline()\n",
    "    print(f'First Line of Example_File_1.txt:\\n{file_1_line_1}')\n",
    "    \n",
    "    File_1.readline()\n",
    "\n",
    "    file_1_line_3 = File_1.readline()\n",
    "    print(f'Third Line of Example_File_1.txt:\\n{file_1_line_3}')"
   ]
  },
  {
   "cell_type": "markdown",
   "metadata": {},
   "source": [
    "##### Writing Data to a File\n",
    "* Creates a file with the name of your choice, in the directory of your choice.\n",
    "* Usually end with \"\\n\" for new line -> equivalent to using Java println()\n",
    "* Can use loops to write multiple lines to a file"
   ]
  },
  {
   "cell_type": "code",
   "execution_count": 6,
   "metadata": {},
   "outputs": [],
   "source": [
    "with open(\"supporting_data\\Example_File_2.txt\", \"w\") as File_2:\n",
    "    File_2.write(\"This is a second dummy text file.\\n\")\n",
    "    File_2.write(\"This is just here to show off the power of Python I/O.\\n\")"
   ]
  },
  {
   "cell_type": "code",
   "execution_count": 7,
   "metadata": {},
   "outputs": [
    {
     "name": "stdout",
     "output_type": "stream",
     "text": [
      "Example_File_2 contents\n",
      "This is a second dummy text file.\n",
      "This is just here to show off the power of Python I/O.\n",
      "\n"
     ]
    }
   ],
   "source": [
    "with open(\"supporting_data/Example_File_2.txt\", 'r') as File_2:\n",
    "    file_2 = File_2.read()\n",
    "    print(f'Example_File_2 contents\\n{file_2}')"
   ]
  },
  {
   "cell_type": "markdown",
   "metadata": {},
   "source": [
    "##### Writing with Loops"
   ]
  },
  {
   "cell_type": "code",
   "execution_count": 8,
   "metadata": {},
   "outputs": [],
   "source": [
    "lines_to_write = [\"This is Line A\\n\", \"This is Line B\\n\", \"This is Line C\\n...\"]\n",
    "\n",
    "with open(\"supporting_data\\Example_File_3.txt\", \"w\") as File_3:\n",
    "    \n",
    "    for line in lines_to_write:\n",
    "        File_3.write(line)"
   ]
  },
  {
   "cell_type": "code",
   "execution_count": 10,
   "metadata": {},
   "outputs": [
    {
     "name": "stdout",
     "output_type": "stream",
     "text": [
      "Example_File_3 contents\n",
      "This is Line A\n",
      "This is Line B\n",
      "This is Line C\n",
      "...\n"
     ]
    }
   ],
   "source": [
    "with open(\"supporting_data/Example_File_3.txt\", 'r') as File_3:\n",
    "    file_3 = File_3.read()\n",
    "    print(f'Example_File_3 contents\\n{file_3}')"
   ]
  },
  {
   "cell_type": "markdown",
   "metadata": {},
   "source": [
    "##### Appending to a File\n",
    "* Adds new data into a new line in the File"
   ]
  },
  {
   "cell_type": "code",
   "execution_count": 11,
   "metadata": {},
   "outputs": [],
   "source": [
    "with open(\"supporting_data/Example_File_1.txt\", \"a\") as File_1_modified:\n",
    "    File_1_modified.write(\"Jason J Ortiz -> Creator\\n\")"
   ]
  },
  {
   "cell_type": "code",
   "execution_count": 16,
   "metadata": {},
   "outputs": [
    {
     "name": "stdout",
     "output_type": "stream",
     "text": [
      "Example_File_1 contents after being modified\n",
      "Congratulations: You Found the Secret!\n",
      "\n",
      "This is some Dummy text.\n",
      "There's a possibility nobody ever reads this.\n",
      "    If you do please feel free to sign your name below.\n",
      "I'll start using Python to read and append the file!\n",
      "\n",
      "Names:\n",
      "Jason J Ortiz -> Creator\n",
      "\n"
     ]
    }
   ],
   "source": [
    "with open(\"supporting_data/Example_File_1.txt\", 'r') as File_1_modified:\n",
    "    file_1_modified_content = File_1_modified.read()\n",
    "    print(f'Example_File_1 contents after being modified\\n{file_1_modified_content}')"
   ]
  },
  {
   "cell_type": "markdown",
   "metadata": {},
   "source": [
    "##### Copying one File to a new File"
   ]
  },
  {
   "cell_type": "code",
   "execution_count": 18,
   "metadata": {},
   "outputs": [],
   "source": [
    "with open(\"supporting_data/Example_File_2.txt\") as read_file:\n",
    "    with open(\"supporting_data/Example_File_4.txt\", \"w\") as write_file:\n",
    "        for line in read_file:\n",
    "            write_file.write(line)"
   ]
  },
  {
   "cell_type": "code",
   "execution_count": 19,
   "metadata": {},
   "outputs": [
    {
     "name": "stdout",
     "output_type": "stream",
     "text": [
      "Example_File_4 contents\n",
      "This is a second dummy text file.\n",
      "This is just here to show off the power of Python I/O.\n",
      "\n"
     ]
    }
   ],
   "source": [
    "with open(\"supporting_data/Example_File_4.txt\", 'r') as File_4:\n",
    "    file_4_content = File_4.read()\n",
    "    print(f'Example_File_4 contents\\n{file_4_content}')"
   ]
  },
  {
   "cell_type": "markdown",
   "metadata": {},
   "source": [
    "### Pandas\n",
    "* Loading Data with Pandas\n",
    "* Working with and Saving Data"
   ]
  },
  {
   "cell_type": "code",
   "execution_count": 4,
   "metadata": {},
   "outputs": [],
   "source": [
    "# Importing Pandas Library\n",
    "import pandas as pd"
   ]
  },
  {
   "cell_type": "markdown",
   "metadata": {},
   "source": [
    "#### Loading Data with Pandas\n",
    "* Mock data generated by https://www.mockaroo.com/"
   ]
  },
  {
   "cell_type": "code",
   "execution_count": 5,
   "metadata": {},
   "outputs": [],
   "source": [
    "# Saving csv_path in separate variable for readability/reusability\n",
    "csv_path = 'supporting_data/mockaroo_data_coursera_IMB.csv'\n",
    "dataframe = pd.read_csv(csv_path)"
   ]
  },
  {
   "cell_type": "code",
   "execution_count": 6,
   "metadata": {},
   "outputs": [
    {
     "data": {
      "text/html": [
       "<div>\n",
       "<style scoped>\n",
       "    .dataframe tbody tr th:only-of-type {\n",
       "        vertical-align: middle;\n",
       "    }\n",
       "\n",
       "    .dataframe tbody tr th {\n",
       "        vertical-align: top;\n",
       "    }\n",
       "\n",
       "    .dataframe thead th {\n",
       "        text-align: right;\n",
       "    }\n",
       "</style>\n",
       "<table border=\"1\" class=\"dataframe\">\n",
       "  <thead>\n",
       "    <tr style=\"text-align: right;\">\n",
       "      <th></th>\n",
       "      <th>id</th>\n",
       "      <th>first_name</th>\n",
       "      <th>last_name</th>\n",
       "      <th>email</th>\n",
       "      <th>gender</th>\n",
       "      <th>age</th>\n",
       "      <th>student</th>\n",
       "      <th>employed</th>\n",
       "      <th>checking_account</th>\n",
       "      <th>saving_account</th>\n",
       "    </tr>\n",
       "  </thead>\n",
       "  <tbody>\n",
       "    <tr>\n",
       "      <th>0</th>\n",
       "      <td>1</td>\n",
       "      <td>Yuri</td>\n",
       "      <td>Woollam</td>\n",
       "      <td>ywoollam0@smh.com.au</td>\n",
       "      <td>Male</td>\n",
       "      <td>33</td>\n",
       "      <td>False</td>\n",
       "      <td>False</td>\n",
       "      <td>30495.56</td>\n",
       "      <td>4244392.36</td>\n",
       "    </tr>\n",
       "    <tr>\n",
       "      <th>1</th>\n",
       "      <td>2</td>\n",
       "      <td>Consalve</td>\n",
       "      <td>Audsley</td>\n",
       "      <td>caudsley1@skyrock.com</td>\n",
       "      <td>Male</td>\n",
       "      <td>39</td>\n",
       "      <td>True</td>\n",
       "      <td>False</td>\n",
       "      <td>729910.09</td>\n",
       "      <td>3277128.00</td>\n",
       "    </tr>\n",
       "    <tr>\n",
       "      <th>2</th>\n",
       "      <td>3</td>\n",
       "      <td>Seana</td>\n",
       "      <td>Hinze</td>\n",
       "      <td>shinze2@reverbnation.com</td>\n",
       "      <td>Female</td>\n",
       "      <td>39</td>\n",
       "      <td>True</td>\n",
       "      <td>True</td>\n",
       "      <td>524771.18</td>\n",
       "      <td>2028913.50</td>\n",
       "    </tr>\n",
       "    <tr>\n",
       "      <th>3</th>\n",
       "      <td>4</td>\n",
       "      <td>Ivette</td>\n",
       "      <td>Sisse</td>\n",
       "      <td>isisse3@multiply.com</td>\n",
       "      <td>Female</td>\n",
       "      <td>16</td>\n",
       "      <td>True</td>\n",
       "      <td>True</td>\n",
       "      <td>186207.74</td>\n",
       "      <td>417373.23</td>\n",
       "    </tr>\n",
       "    <tr>\n",
       "      <th>4</th>\n",
       "      <td>5</td>\n",
       "      <td>Travers</td>\n",
       "      <td>Elmhurst</td>\n",
       "      <td>telmhurst4@gnu.org</td>\n",
       "      <td>Male</td>\n",
       "      <td>41</td>\n",
       "      <td>True</td>\n",
       "      <td>False</td>\n",
       "      <td>316689.98</td>\n",
       "      <td>1435229.19</td>\n",
       "    </tr>\n",
       "  </tbody>\n",
       "</table>\n",
       "</div>"
      ],
      "text/plain": [
       "   id first_name last_name                     email  gender  age  student  \\\n",
       "0   1       Yuri   Woollam      ywoollam0@smh.com.au    Male   33    False   \n",
       "1   2   Consalve   Audsley     caudsley1@skyrock.com    Male   39     True   \n",
       "2   3      Seana     Hinze  shinze2@reverbnation.com  Female   39     True   \n",
       "3   4     Ivette     Sisse      isisse3@multiply.com  Female   16     True   \n",
       "4   5    Travers  Elmhurst        telmhurst4@gnu.org    Male   41     True   \n",
       "\n",
       "   employed  checking_account  saving_account  \n",
       "0     False          30495.56      4244392.36  \n",
       "1     False         729910.09      3277128.00  \n",
       "2      True         524771.18      2028913.50  \n",
       "3      True         186207.74       417373.23  \n",
       "4     False         316689.98      1435229.19  "
      ]
     },
     "execution_count": 6,
     "metadata": {},
     "output_type": "execute_result"
    }
   ],
   "source": [
    "# df.head(n): Read the first n rows, default 5\n",
    "dataframe.head()"
   ]
  },
  {
   "cell_type": "code",
   "execution_count": 12,
   "metadata": {},
   "outputs": [
    {
     "data": {
      "text/html": [
       "<div>\n",
       "<style scoped>\n",
       "    .dataframe tbody tr th:only-of-type {\n",
       "        vertical-align: middle;\n",
       "    }\n",
       "\n",
       "    .dataframe tbody tr th {\n",
       "        vertical-align: top;\n",
       "    }\n",
       "\n",
       "    .dataframe thead th {\n",
       "        text-align: right;\n",
       "    }\n",
       "</style>\n",
       "<table border=\"1\" class=\"dataframe\">\n",
       "  <thead>\n",
       "    <tr style=\"text-align: right;\">\n",
       "      <th></th>\n",
       "      <th>email</th>\n",
       "    </tr>\n",
       "  </thead>\n",
       "  <tbody>\n",
       "    <tr>\n",
       "      <th>0</th>\n",
       "      <td>ywoollam0@smh.com.au</td>\n",
       "    </tr>\n",
       "    <tr>\n",
       "      <th>1</th>\n",
       "      <td>caudsley1@skyrock.com</td>\n",
       "    </tr>\n",
       "    <tr>\n",
       "      <th>2</th>\n",
       "      <td>shinze2@reverbnation.com</td>\n",
       "    </tr>\n",
       "    <tr>\n",
       "      <th>3</th>\n",
       "      <td>isisse3@multiply.com</td>\n",
       "    </tr>\n",
       "    <tr>\n",
       "      <th>4</th>\n",
       "      <td>telmhurst4@gnu.org</td>\n",
       "    </tr>\n",
       "  </tbody>\n",
       "</table>\n",
       "</div>"
      ],
      "text/plain": [
       "                      email\n",
       "0      ywoollam0@smh.com.au\n",
       "1     caudsley1@skyrock.com\n",
       "2  shinze2@reverbnation.com\n",
       "3      isisse3@multiply.com\n",
       "4        telmhurst4@gnu.org"
      ]
     },
     "execution_count": 12,
     "metadata": {},
     "output_type": "execute_result"
    }
   ],
   "source": [
    "# Saving column(s) in variables\n",
    "email = dataframe[['email']]\n",
    "email.head()"
   ]
  },
  {
   "cell_type": "code",
   "execution_count": 17,
   "metadata": {},
   "outputs": [
    {
     "data": {
      "text/html": [
       "<div>\n",
       "<style scoped>\n",
       "    .dataframe tbody tr th:only-of-type {\n",
       "        vertical-align: middle;\n",
       "    }\n",
       "\n",
       "    .dataframe tbody tr th {\n",
       "        vertical-align: top;\n",
       "    }\n",
       "\n",
       "    .dataframe thead th {\n",
       "        text-align: right;\n",
       "    }\n",
       "</style>\n",
       "<table border=\"1\" class=\"dataframe\">\n",
       "  <thead>\n",
       "    <tr style=\"text-align: right;\">\n",
       "      <th></th>\n",
       "      <th>age</th>\n",
       "    </tr>\n",
       "  </thead>\n",
       "  <tbody>\n",
       "    <tr>\n",
       "      <th>0</th>\n",
       "      <td>33</td>\n",
       "    </tr>\n",
       "    <tr>\n",
       "      <th>1</th>\n",
       "      <td>39</td>\n",
       "    </tr>\n",
       "    <tr>\n",
       "      <th>2</th>\n",
       "      <td>39</td>\n",
       "    </tr>\n",
       "    <tr>\n",
       "      <th>3</th>\n",
       "      <td>16</td>\n",
       "    </tr>\n",
       "    <tr>\n",
       "      <th>4</th>\n",
       "      <td>41</td>\n",
       "    </tr>\n",
       "    <tr>\n",
       "      <th>5</th>\n",
       "      <td>52</td>\n",
       "    </tr>\n",
       "    <tr>\n",
       "      <th>6</th>\n",
       "      <td>17</td>\n",
       "    </tr>\n",
       "    <tr>\n",
       "      <th>7</th>\n",
       "      <td>93</td>\n",
       "    </tr>\n",
       "    <tr>\n",
       "      <th>8</th>\n",
       "      <td>20</td>\n",
       "    </tr>\n",
       "    <tr>\n",
       "      <th>9</th>\n",
       "      <td>89</td>\n",
       "    </tr>\n",
       "  </tbody>\n",
       "</table>\n",
       "</div>"
      ],
      "text/plain": [
       "   age\n",
       "0   33\n",
       "1   39\n",
       "2   39\n",
       "3   16\n",
       "4   41\n",
       "5   52\n",
       "6   17\n",
       "7   93\n",
       "8   20\n",
       "9   89"
      ]
     },
     "execution_count": 17,
     "metadata": {},
     "output_type": "execute_result"
    }
   ],
   "source": [
    "age = dataframe[['age']]\n",
    "age.head(10)"
   ]
  },
  {
   "cell_type": "code",
   "execution_count": 14,
   "metadata": {},
   "outputs": [
    {
     "data": {
      "text/html": [
       "<div>\n",
       "<style scoped>\n",
       "    .dataframe tbody tr th:only-of-type {\n",
       "        vertical-align: middle;\n",
       "    }\n",
       "\n",
       "    .dataframe tbody tr th {\n",
       "        vertical-align: top;\n",
       "    }\n",
       "\n",
       "    .dataframe thead th {\n",
       "        text-align: right;\n",
       "    }\n",
       "</style>\n",
       "<table border=\"1\" class=\"dataframe\">\n",
       "  <thead>\n",
       "    <tr style=\"text-align: right;\">\n",
       "      <th></th>\n",
       "      <th>first_name</th>\n",
       "      <th>last_name</th>\n",
       "    </tr>\n",
       "  </thead>\n",
       "  <tbody>\n",
       "    <tr>\n",
       "      <th>0</th>\n",
       "      <td>Yuri</td>\n",
       "      <td>Woollam</td>\n",
       "    </tr>\n",
       "    <tr>\n",
       "      <th>1</th>\n",
       "      <td>Consalve</td>\n",
       "      <td>Audsley</td>\n",
       "    </tr>\n",
       "    <tr>\n",
       "      <th>2</th>\n",
       "      <td>Seana</td>\n",
       "      <td>Hinze</td>\n",
       "    </tr>\n",
       "    <tr>\n",
       "      <th>3</th>\n",
       "      <td>Ivette</td>\n",
       "      <td>Sisse</td>\n",
       "    </tr>\n",
       "    <tr>\n",
       "      <th>4</th>\n",
       "      <td>Travers</td>\n",
       "      <td>Elmhurst</td>\n",
       "    </tr>\n",
       "  </tbody>\n",
       "</table>\n",
       "</div>"
      ],
      "text/plain": [
       "  first_name last_name\n",
       "0       Yuri   Woollam\n",
       "1   Consalve   Audsley\n",
       "2      Seana     Hinze\n",
       "3     Ivette     Sisse\n",
       "4    Travers  Elmhurst"
      ]
     },
     "execution_count": 14,
     "metadata": {},
     "output_type": "execute_result"
    }
   ],
   "source": [
    "full_name = dataframe[['first_name', 'last_name']]\n",
    "full_name.head()"
   ]
  },
  {
   "cell_type": "markdown",
   "metadata": {},
   "source": [
    "#### Working with and Saving Data\n",
    "* List Unique Values\n",
    "* Filtering Data"
   ]
  },
  {
   "cell_type": "markdown",
   "metadata": {},
   "source": [
    "##### List Unique Values"
   ]
  },
  {
   "cell_type": "code",
   "execution_count": 30,
   "metadata": {},
   "outputs": [
    {
     "data": {
      "text/plain": [
       "array([ 33,  39,  16,  41,  52,  17,  93,  20,  89,  27,  15,  50,  28,\n",
       "        23,  61,  51,  38,  59,  42,  58, 100,  40,  65,  79,  47,  35,\n",
       "        36,  55,  68,  73,  60,  71,  81,  31,  66,  84,  32,  56,  25,\n",
       "        49,  97,  96,  78,  76,  18,  75,  63,  67,  19,  74,  85,  90,\n",
       "        82,  95,  70,  87,  53,  45,  22,  80,  77,  26,  88,  46,  14,\n",
       "        94,  29,  30,  43,  57,  62,  44,  54,  99,  72,  86,  98,  24,\n",
       "        48,  13,  83,  64,  34,  69,  92,  91,  21,  37], dtype=int64)"
      ]
     },
     "execution_count": 30,
     "metadata": {},
     "output_type": "execute_result"
    }
   ],
   "source": [
    "# age.unique() doesn't work as you need to pass a column, not a dataframe\n",
    "age['age'].unique()"
   ]
  },
  {
   "cell_type": "code",
   "execution_count": 33,
   "metadata": {},
   "outputs": [
    {
     "data": {
      "text/plain": [
       "array([ 33,  39,  16,  41,  52,  17,  93,  20,  89,  27,  15,  50,  28,\n",
       "        23,  61,  51,  38,  59,  42,  58, 100,  40,  65,  79,  47,  35,\n",
       "        36,  55,  68,  73,  60,  71,  81,  31,  66,  84,  32,  56,  25,\n",
       "        49,  97,  96,  78,  76,  18,  75,  63,  67,  19,  74,  85,  90,\n",
       "        82,  95,  70,  87,  53,  45,  22,  80,  77,  26,  88,  46,  14,\n",
       "        94,  29,  30,  43,  57,  62,  44,  54,  99,  72,  86,  98,  24,\n",
       "        48,  13,  83,  64,  34,  69,  92,  91,  21,  37], dtype=int64)"
      ]
     },
     "execution_count": 33,
     "metadata": {},
     "output_type": "execute_result"
    }
   ],
   "source": [
    "# or\n",
    "dataframe['age'].unique()"
   ]
  },
  {
   "cell_type": "code",
   "execution_count": 36,
   "metadata": {},
   "outputs": [
    {
     "data": {
      "text/plain": [
       "{13,\n",
       " 14,\n",
       " 15,\n",
       " 16,\n",
       " 17,\n",
       " 18,\n",
       " 19,\n",
       " 20,\n",
       " 21,\n",
       " 22,\n",
       " 23,\n",
       " 24,\n",
       " 25,\n",
       " 26,\n",
       " 27,\n",
       " 28,\n",
       " 29,\n",
       " 30,\n",
       " 31,\n",
       " 32,\n",
       " 33,\n",
       " 34,\n",
       " 35,\n",
       " 36,\n",
       " 37,\n",
       " 38,\n",
       " 39,\n",
       " 40,\n",
       " 41,\n",
       " 42,\n",
       " 43,\n",
       " 44,\n",
       " 45,\n",
       " 46,\n",
       " 47,\n",
       " 48,\n",
       " 49,\n",
       " 50,\n",
       " 51,\n",
       " 52,\n",
       " 53,\n",
       " 54,\n",
       " 55,\n",
       " 56,\n",
       " 57,\n",
       " 58,\n",
       " 59,\n",
       " 60,\n",
       " 61,\n",
       " 62,\n",
       " 63,\n",
       " 64,\n",
       " 65,\n",
       " 66,\n",
       " 67,\n",
       " 68,\n",
       " 69,\n",
       " 70,\n",
       " 71,\n",
       " 72,\n",
       " 73,\n",
       " 74,\n",
       " 75,\n",
       " 76,\n",
       " 77,\n",
       " 78,\n",
       " 79,\n",
       " 80,\n",
       " 81,\n",
       " 82,\n",
       " 83,\n",
       " 84,\n",
       " 85,\n",
       " 86,\n",
       " 87,\n",
       " 88,\n",
       " 89,\n",
       " 90,\n",
       " 91,\n",
       " 92,\n",
       " 93,\n",
       " 94,\n",
       " 95,\n",
       " 96,\n",
       " 97,\n",
       " 98,\n",
       " 99,\n",
       " 100}"
      ]
     },
     "execution_count": 36,
     "metadata": {},
     "output_type": "execute_result"
    }
   ],
   "source": [
    "# or you could use a set\n",
    "set(dataframe['age'].values)"
   ]
  },
  {
   "cell_type": "markdown",
   "metadata": {},
   "source": [
    "##### Filtering Data"
   ]
  },
  {
   "cell_type": "code",
   "execution_count": 49,
   "metadata": {},
   "outputs": [
    {
     "data": {
      "text/html": [
       "<div>\n",
       "<style scoped>\n",
       "    .dataframe tbody tr th:only-of-type {\n",
       "        vertical-align: middle;\n",
       "    }\n",
       "\n",
       "    .dataframe tbody tr th {\n",
       "        vertical-align: top;\n",
       "    }\n",
       "\n",
       "    .dataframe thead th {\n",
       "        text-align: right;\n",
       "    }\n",
       "</style>\n",
       "<table border=\"1\" class=\"dataframe\">\n",
       "  <thead>\n",
       "    <tr style=\"text-align: right;\">\n",
       "      <th></th>\n",
       "      <th>id</th>\n",
       "      <th>first_name</th>\n",
       "      <th>last_name</th>\n",
       "      <th>email</th>\n",
       "      <th>gender</th>\n",
       "      <th>age</th>\n",
       "      <th>student</th>\n",
       "      <th>employed</th>\n",
       "      <th>checking_account</th>\n",
       "      <th>saving_account</th>\n",
       "    </tr>\n",
       "  </thead>\n",
       "  <tbody>\n",
       "    <tr>\n",
       "      <th>5</th>\n",
       "      <td>6</td>\n",
       "      <td>Roselle</td>\n",
       "      <td>Theodore</td>\n",
       "      <td>rtheodore5@elegantthemes.com</td>\n",
       "      <td>Female</td>\n",
       "      <td>52</td>\n",
       "      <td>True</td>\n",
       "      <td>False</td>\n",
       "      <td>767879.56</td>\n",
       "      <td>2931223.04</td>\n",
       "    </tr>\n",
       "    <tr>\n",
       "      <th>7</th>\n",
       "      <td>8</td>\n",
       "      <td>Stanley</td>\n",
       "      <td>Mogie</td>\n",
       "      <td>smogie7@cafepress.com</td>\n",
       "      <td>Male</td>\n",
       "      <td>93</td>\n",
       "      <td>False</td>\n",
       "      <td>False</td>\n",
       "      <td>720380.47</td>\n",
       "      <td>2723017.00</td>\n",
       "    </tr>\n",
       "    <tr>\n",
       "      <th>9</th>\n",
       "      <td>10</td>\n",
       "      <td>Appolonia</td>\n",
       "      <td>Deek</td>\n",
       "      <td>adeek9@flickr.com</td>\n",
       "      <td>Agender</td>\n",
       "      <td>89</td>\n",
       "      <td>False</td>\n",
       "      <td>True</td>\n",
       "      <td>631998.00</td>\n",
       "      <td>2494973.76</td>\n",
       "    </tr>\n",
       "    <tr>\n",
       "      <th>15</th>\n",
       "      <td>16</td>\n",
       "      <td>Antonie</td>\n",
       "      <td>Tweedie</td>\n",
       "      <td>atweedief@biglobe.ne.jp</td>\n",
       "      <td>Female</td>\n",
       "      <td>61</td>\n",
       "      <td>True</td>\n",
       "      <td>True</td>\n",
       "      <td>327170.58</td>\n",
       "      <td>4522711.00</td>\n",
       "    </tr>\n",
       "    <tr>\n",
       "      <th>17</th>\n",
       "      <td>18</td>\n",
       "      <td>Dre</td>\n",
       "      <td>Shorbrook</td>\n",
       "      <td>dshorbrookh@angelfire.com</td>\n",
       "      <td>Bigender</td>\n",
       "      <td>51</td>\n",
       "      <td>False</td>\n",
       "      <td>True</td>\n",
       "      <td>953081.30</td>\n",
       "      <td>940340.27</td>\n",
       "    </tr>\n",
       "  </tbody>\n",
       "</table>\n",
       "</div>"
      ],
      "text/plain": [
       "    id first_name  last_name                         email    gender  age  \\\n",
       "5    6    Roselle   Theodore  rtheodore5@elegantthemes.com    Female   52   \n",
       "7    8    Stanley      Mogie         smogie7@cafepress.com      Male   93   \n",
       "9   10  Appolonia       Deek             adeek9@flickr.com   Agender   89   \n",
       "15  16    Antonie    Tweedie       atweedief@biglobe.ne.jp    Female   61   \n",
       "17  18        Dre  Shorbrook     dshorbrookh@angelfire.com  Bigender   51   \n",
       "\n",
       "    student  employed  checking_account  saving_account  \n",
       "5      True     False         767879.56      2931223.04  \n",
       "7     False     False         720380.47      2723017.00  \n",
       "9     False      True         631998.00      2494973.76  \n",
       "15     True      True         327170.58      4522711.00  \n",
       "17    False      True         953081.30       940340.27  "
      ]
     },
     "execution_count": 49,
     "metadata": {},
     "output_type": "execute_result"
    }
   ],
   "source": [
    "over_50 = dataframe[dataframe['age'] > 50]\n",
    "over_50.head()"
   ]
  },
  {
   "cell_type": "code",
   "execution_count": 51,
   "metadata": {},
   "outputs": [
    {
     "data": {
      "text/html": [
       "<div>\n",
       "<style scoped>\n",
       "    .dataframe tbody tr th:only-of-type {\n",
       "        vertical-align: middle;\n",
       "    }\n",
       "\n",
       "    .dataframe tbody tr th {\n",
       "        vertical-align: top;\n",
       "    }\n",
       "\n",
       "    .dataframe thead th {\n",
       "        text-align: right;\n",
       "    }\n",
       "</style>\n",
       "<table border=\"1\" class=\"dataframe\">\n",
       "  <thead>\n",
       "    <tr style=\"text-align: right;\">\n",
       "      <th></th>\n",
       "      <th>id</th>\n",
       "      <th>first_name</th>\n",
       "      <th>last_name</th>\n",
       "      <th>email</th>\n",
       "      <th>gender</th>\n",
       "      <th>age</th>\n",
       "      <th>student</th>\n",
       "      <th>employed</th>\n",
       "      <th>checking_account</th>\n",
       "      <th>saving_account</th>\n",
       "    </tr>\n",
       "  </thead>\n",
       "  <tbody>\n",
       "    <tr>\n",
       "      <th>5</th>\n",
       "      <td>6</td>\n",
       "      <td>Roselle</td>\n",
       "      <td>Theodore</td>\n",
       "      <td>rtheodore5@elegantthemes.com</td>\n",
       "      <td>Female</td>\n",
       "      <td>52</td>\n",
       "      <td>True</td>\n",
       "      <td>False</td>\n",
       "      <td>767879.56</td>\n",
       "      <td>2931223.04</td>\n",
       "    </tr>\n",
       "    <tr>\n",
       "      <th>7</th>\n",
       "      <td>8</td>\n",
       "      <td>Stanley</td>\n",
       "      <td>Mogie</td>\n",
       "      <td>smogie7@cafepress.com</td>\n",
       "      <td>Male</td>\n",
       "      <td>93</td>\n",
       "      <td>False</td>\n",
       "      <td>False</td>\n",
       "      <td>720380.47</td>\n",
       "      <td>2723017.00</td>\n",
       "    </tr>\n",
       "    <tr>\n",
       "      <th>9</th>\n",
       "      <td>10</td>\n",
       "      <td>Appolonia</td>\n",
       "      <td>Deek</td>\n",
       "      <td>adeek9@flickr.com</td>\n",
       "      <td>Agender</td>\n",
       "      <td>89</td>\n",
       "      <td>False</td>\n",
       "      <td>True</td>\n",
       "      <td>631998.00</td>\n",
       "      <td>2494973.76</td>\n",
       "    </tr>\n",
       "    <tr>\n",
       "      <th>15</th>\n",
       "      <td>16</td>\n",
       "      <td>Antonie</td>\n",
       "      <td>Tweedie</td>\n",
       "      <td>atweedief@biglobe.ne.jp</td>\n",
       "      <td>Female</td>\n",
       "      <td>61</td>\n",
       "      <td>True</td>\n",
       "      <td>True</td>\n",
       "      <td>327170.58</td>\n",
       "      <td>4522711.00</td>\n",
       "    </tr>\n",
       "    <tr>\n",
       "      <th>17</th>\n",
       "      <td>18</td>\n",
       "      <td>Dre</td>\n",
       "      <td>Shorbrook</td>\n",
       "      <td>dshorbrookh@angelfire.com</td>\n",
       "      <td>Bigender</td>\n",
       "      <td>51</td>\n",
       "      <td>False</td>\n",
       "      <td>True</td>\n",
       "      <td>953081.30</td>\n",
       "      <td>940340.27</td>\n",
       "    </tr>\n",
       "  </tbody>\n",
       "</table>\n",
       "</div>"
      ],
      "text/plain": [
       "    id first_name  last_name                         email    gender  age  \\\n",
       "5    6    Roselle   Theodore  rtheodore5@elegantthemes.com    Female   52   \n",
       "7    8    Stanley      Mogie         smogie7@cafepress.com      Male   93   \n",
       "9   10  Appolonia       Deek             adeek9@flickr.com   Agender   89   \n",
       "15  16    Antonie    Tweedie       atweedief@biglobe.ne.jp    Female   61   \n",
       "17  18        Dre  Shorbrook     dshorbrookh@angelfire.com  Bigender   51   \n",
       "\n",
       "    student  employed  checking_account  saving_account  \n",
       "5      True     False         767879.56      2931223.04  \n",
       "7     False     False         720380.47      2723017.00  \n",
       "9     False      True         631998.00      2494973.76  \n",
       "15     True      True         327170.58      4522711.00  \n",
       "17    False      True         953081.30       940340.27  "
      ]
     },
     "execution_count": 51,
     "metadata": {},
     "output_type": "execute_result"
    }
   ],
   "source": [
    "# Another way of achieving the same results\n",
    "over_50 = dataframe[age.values > 50]\n",
    "over_50.head()"
   ]
  },
  {
   "cell_type": "code",
   "execution_count": 61,
   "metadata": {},
   "outputs": [
    {
     "data": {
      "text/plain": [
       "'dshorbrookh@angelfire.com'"
      ]
     },
     "execution_count": 61,
     "metadata": {},
     "output_type": "execute_result"
    }
   ],
   "source": [
    "over_50.iloc[4, 3]"
   ]
  },
  {
   "cell_type": "code",
   "execution_count": 68,
   "metadata": {},
   "outputs": [
    {
     "data": {
      "text/plain": [
       "5       Female\n",
       "7         Male\n",
       "9      Agender\n",
       "15      Female\n",
       "17    Bigender\n",
       "Name: gender, dtype: object"
      ]
     },
     "execution_count": 68,
     "metadata": {},
     "output_type": "execute_result"
    }
   ],
   "source": [
    "over_50.loc[5:17, 'gender']"
   ]
  },
  {
   "cell_type": "markdown",
   "metadata": {},
   "source": [
    "##### Saving Data as .CSV\n",
    "* saving to the supporting_data directory\n",
    "* the final piece is the name you wish to give the new file, followed by .csv (since you call the to_csv() function)"
   ]
  },
  {
   "cell_type": "code",
   "execution_count": 53,
   "metadata": {},
   "outputs": [],
   "source": [
    "over_50.to_csv('supporting_data/moackaroo_bank_accounts_over_50.csv')"
   ]
  },
  {
   "cell_type": "markdown",
   "metadata": {},
   "source": [
    "### Numpy\n",
    "* One-Dimensional Numpy\n",
    "* Two-Dimensional Numpy"
   ]
  },
  {
   "cell_type": "code",
   "execution_count": null,
   "metadata": {},
   "outputs": [],
   "source": []
  }
 ],
 "metadata": {
  "kernelspec": {
   "display_name": "Python 3.10.4 64-bit",
   "language": "python",
   "name": "python3"
  },
  "language_info": {
   "codemirror_mode": {
    "name": "ipython",
    "version": 3
   },
   "file_extension": ".py",
   "mimetype": "text/x-python",
   "name": "python",
   "nbconvert_exporter": "python",
   "pygments_lexer": "ipython3",
   "version": "3.10.4"
  },
  "orig_nbformat": 4,
  "vscode": {
   "interpreter": {
    "hash": "369f2c481f4da34e4445cda3fffd2e751bd1c4d706f27375911949ba6bb62e1c"
   }
  }
 },
 "nbformat": 4,
 "nbformat_minor": 2
}
