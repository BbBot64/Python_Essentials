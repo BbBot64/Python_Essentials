{
 "cells": [
  {
   "cell_type": "markdown",
   "metadata": {},
   "source": [
    "# Python Working with Data\n",
    "* Author: Jason J Ortiz \n",
    "* Github Repository: https://github.com/BbBot64/Python_Essentials \n",
    "\n",
    "* Reading & Writing Files with Open\n",
    "  * Reading Files with Open\n",
    "  * Writing Files with Open\n",
    "* Pandas\n",
    "  * Loading Data with Pandas\n",
    "  * Working with and Saving Data with Pandas\n",
    "* Numpy\n",
    "  * One-Dimensional Numpy\n",
    "  * Two-Dimensional Numpy\n"
   ]
  },
  {
   "cell_type": "markdown",
   "metadata": {},
   "source": [
    "### Reading & Writing Files with Open\n",
    "* General Formatting\n",
    "* "
   ]
  },
  {
   "cell_type": "markdown",
   "metadata": {},
   "source": [
    "#### General Formatting\n",
    "* Start with creating a File Object\n",
    "  * File_1 = open(\"supporting_data\\Example_File_1.txt\", \"r/w/a\")\n",
    "#\n",
    "  * open() -> Open function\n",
    "#\n",
    "  * \"supporting_data\\Example_File_1.txt\" -> File Path\n",
    "    * supporting_data\\ -> Directory \n",
    "    * Example_File_1.txt -> File Name\n",
    "#\n",
    "  * \"r/w/a\" -> Mode\n",
    "    * r -> Read\n",
    "    * w -> Write\n",
    "    * a -> Append\n",
    "#\n",
    "  * File_1 -> File Object\n",
    "    * Attributes/methods such as:\n",
    "      * .name\n",
    "      * .mode\n",
    "      * .read()\n",
    "      * .close() -> Super Important! Will solve with \"with _ as _ :\" statement which automatically closes the file object"
   ]
  },
  {
   "cell_type": "markdown",
   "metadata": {},
   "source": [
    "##### Reading Data from a File"
   ]
  },
  {
   "cell_type": "code",
   "execution_count": 1,
   "metadata": {},
   "outputs": [
    {
     "name": "stdout",
     "output_type": "stream",
     "text": [
      "Example_File_1 Contents:\n",
      "Congratulations: You Found the Secret!\n",
      "\n",
      "This is some Dummy text.\n",
      "There's a possibility nobody ever reads this.\n",
      "    If you do please feel free to sign your name below.\n",
      "I'll start using Python to read and write the file!\n",
      "\n",
      "Names:\n",
      "\n",
      "\n",
      "File is closed: True\n",
      "\n",
      "Confirmation that data is stored in variable file_contents_1 after closing file:\n",
      "Congratulations: You Found the Secret!\n",
      "\n",
      "This is some Dummy text.\n",
      "There's a possibility nobody ever reads this.\n",
      "    If you do please feel free to sign your name below.\n",
      "I'll start using Python to read and write the file!\n",
      "\n",
      "Names:\n",
      "\n"
     ]
    }
   ],
   "source": [
    "with open(\"supporting_data\\Example_File_1.txt\", \"r\") as File_1:\n",
    "\n",
    "    file_contents_1 = File_1.read()\n",
    "\n",
    "    print(f'Example_File_1 Contents:\\n{file_contents_1}')\n",
    "\n",
    "print(f'\\nFile is closed: {File_1.closed}')\n",
    "print(f'\\nConfirmation that data is stored in variable file_contents_1 after closing file:\\n{file_contents_1}')"
   ]
  },
  {
   "cell_type": "markdown",
   "metadata": {},
   "source": [
    "##### Reading Individual Lines:\n",
    "* .readline() -> Everytime it's called it prints the lines one at a time\n"
   ]
  },
  {
   "cell_type": "code",
   "execution_count": 2,
   "metadata": {},
   "outputs": [
    {
     "name": "stdout",
     "output_type": "stream",
     "text": [
      "Congratulations: You Found the Secret!\n",
      "\n"
     ]
    }
   ],
   "source": [
    "with open(\"supporting_data\\Example_File_1.txt\", \"r\") as File_1:\n",
    "    file_contents_1_line_1 = File_1.readline()\n",
    "    print(file_contents_1_line_1)"
   ]
  },
  {
   "cell_type": "code",
   "execution_count": 3,
   "metadata": {},
   "outputs": [
    {
     "name": "stdout",
     "output_type": "stream",
     "text": [
      "First Line of Example_File_1.txt:\n",
      "Congratulations: You Found the Secret!\n",
      "\n",
      "Third Line of Example_File_1.txt:\n",
      "This is some Dummy text.\n",
      "\n"
     ]
    }
   ],
   "source": [
    "with open(\"supporting_data\\Example_File_1.txt\", \"r\") as File_1:\n",
    "    \n",
    "    file_1_line_1 = File_1.readline()\n",
    "    print(f'First Line of Example_File_1.txt:\\n{file_1_line_1}')\n",
    "    \n",
    "    File_1.readline()\n",
    "\n",
    "    file_1_line_3 = File_1.readline()\n",
    "    print(f'Third Line of Example_File_1.txt:\\n{file_1_line_3}')"
   ]
  },
  {
   "cell_type": "markdown",
   "metadata": {},
   "source": [
    "##### Writing Data to a File\n",
    "* Creates a file with the name of your choice, in the directory of your choice.\n",
    "* Usually end with \"\\n\" for new line -> equivalent to using Java println()\n",
    "* Can use loops to write multiple lines to a file"
   ]
  },
  {
   "cell_type": "code",
   "execution_count": 6,
   "metadata": {},
   "outputs": [],
   "source": [
    "with open(\"supporting_data\\Example_File_2.txt\", \"w\") as File_2:\n",
    "    File_2.write(\"This is a second dummy text file.\\n\")\n",
    "    File_2.write(\"This is just here to show off the power of Python I/O.\\n\")"
   ]
  },
  {
   "cell_type": "code",
   "execution_count": 7,
   "metadata": {},
   "outputs": [
    {
     "name": "stdout",
     "output_type": "stream",
     "text": [
      "Example_File_2 contents\n",
      "This is a second dummy text file.\n",
      "This is just here to show off the power of Python I/O.\n",
      "\n"
     ]
    }
   ],
   "source": [
    "with open(\"supporting_data/Example_File_2.txt\", 'r') as File_2:\n",
    "    file_2 = File_2.read()\n",
    "    print(f'Example_File_2 contents\\n{file_2}')"
   ]
  },
  {
   "cell_type": "markdown",
   "metadata": {},
   "source": [
    "##### Writing with Loops"
   ]
  },
  {
   "cell_type": "code",
   "execution_count": 8,
   "metadata": {},
   "outputs": [],
   "source": [
    "lines_to_write = [\"This is Line A\\n\", \"This is Line B\\n\", \"This is Line C\\n...\"]\n",
    "\n",
    "with open(\"supporting_data\\Example_File_3.txt\", \"w\") as File_3:\n",
    "    \n",
    "    for line in lines_to_write:\n",
    "        File_3.write(line)"
   ]
  },
  {
   "cell_type": "code",
   "execution_count": 10,
   "metadata": {},
   "outputs": [
    {
     "name": "stdout",
     "output_type": "stream",
     "text": [
      "Example_File_3 contents\n",
      "This is Line A\n",
      "This is Line B\n",
      "This is Line C\n",
      "...\n"
     ]
    }
   ],
   "source": [
    "with open(\"supporting_data/Example_File_3.txt\", 'r') as File_3:\n",
    "    file_3 = File_3.read()\n",
    "    print(f'Example_File_3 contents\\n{file_3}')"
   ]
  },
  {
   "cell_type": "markdown",
   "metadata": {},
   "source": [
    "##### Appending to a File\n",
    "* Adds new data into a new line in the File"
   ]
  },
  {
   "cell_type": "code",
   "execution_count": 11,
   "metadata": {},
   "outputs": [],
   "source": [
    "with open(\"supporting_data/Example_File_1.txt\", \"a\") as File_1_modified:\n",
    "    File_1_modified.write(\"Jason J Ortiz -> Creator\\n\")"
   ]
  },
  {
   "cell_type": "code",
   "execution_count": 16,
   "metadata": {},
   "outputs": [
    {
     "name": "stdout",
     "output_type": "stream",
     "text": [
      "Example_File_1 contents after being modified\n",
      "Congratulations: You Found the Secret!\n",
      "\n",
      "This is some Dummy text.\n",
      "There's a possibility nobody ever reads this.\n",
      "    If you do please feel free to sign your name below.\n",
      "I'll start using Python to read and append the file!\n",
      "\n",
      "Names:\n",
      "Jason J Ortiz -> Creator\n",
      "\n"
     ]
    }
   ],
   "source": [
    "with open(\"supporting_data/Example_File_1.txt\", 'r') as File_1_modified:\n",
    "    file_1_modified_content = File_1_modified.read()\n",
    "    print(f'Example_File_1 contents after being modified\\n{file_1_modified_content}')"
   ]
  },
  {
   "cell_type": "markdown",
   "metadata": {},
   "source": [
    "##### Copying one File to a new File"
   ]
  },
  {
   "cell_type": "code",
   "execution_count": 18,
   "metadata": {},
   "outputs": [],
   "source": [
    "with open(\"supporting_data/Example_File_2.txt\") as read_file:\n",
    "    with open(\"supporting_data/Example_File_4.txt\", \"w\") as write_file:\n",
    "        for line in read_file:\n",
    "            write_file.write(line)"
   ]
  },
  {
   "cell_type": "code",
   "execution_count": 19,
   "metadata": {},
   "outputs": [
    {
     "name": "stdout",
     "output_type": "stream",
     "text": [
      "Example_File_4 contents\n",
      "This is a second dummy text file.\n",
      "This is just here to show off the power of Python I/O.\n",
      "\n"
     ]
    }
   ],
   "source": [
    "with open(\"supporting_data/Example_File_4.txt\", 'r') as File_4:\n",
    "    file_4_content = File_4.read()\n",
    "    print(f'Example_File_4 contents\\n{file_4_content}')"
   ]
  }
 ],
 "metadata": {
  "kernelspec": {
   "display_name": "Python 3.10.4 64-bit",
   "language": "python",
   "name": "python3"
  },
  "language_info": {
   "codemirror_mode": {
    "name": "ipython",
    "version": 3
   },
   "file_extension": ".py",
   "mimetype": "text/x-python",
   "name": "python",
   "nbconvert_exporter": "python",
   "pygments_lexer": "ipython3",
   "version": "3.10.4"
  },
  "orig_nbformat": 4,
  "vscode": {
   "interpreter": {
    "hash": "369f2c481f4da34e4445cda3fffd2e751bd1c4d706f27375911949ba6bb62e1c"
   }
  }
 },
 "nbformat": 4,
 "nbformat_minor": 2
}
