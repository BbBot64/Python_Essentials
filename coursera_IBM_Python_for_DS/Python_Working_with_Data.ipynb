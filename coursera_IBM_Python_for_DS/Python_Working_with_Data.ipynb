{
 "cells": [
  {
   "cell_type": "markdown",
   "metadata": {},
   "source": [
    "# Python Working with Data\n",
    "* Author: Jason J Ortiz \n",
    "* Github Repository: https://github.com/BbBot64/Python_Essentials \n",
    "\n",
    "* Reading & Writing Files with Open\n",
    "  * Reading Files with Open\n",
    "  * Writing Files with Open\n",
    "* Pandas\n",
    "  * Loading Data with Pandas\n",
    "  * Working with and Saving Data with Pandas\n",
    "* Numpy\n",
    "  * One-Dimensional Numpy\n",
    "  * Two-Dimensional Numpy\n"
   ]
  },
  {
   "cell_type": "markdown",
   "metadata": {},
   "source": [
    "### Reading & Writing Files with Open\n",
    "* General Formatting\n",
    "* "
   ]
  },
  {
   "cell_type": "markdown",
   "metadata": {},
   "source": [
    "#### General Formatting\n",
    "* Start with creating a File Object\n",
    "  * File_1 = open(\"supporting_data\\Example_File_1.txt\", \"r/w/a\")\n",
    "#\n",
    "  * open() -> Open function\n",
    "#\n",
    "  * \"supporting_data\\Example_File_1.txt\" -> File Path\n",
    "    * supporting_data\\ -> Directory \n",
    "    * Example_File_1.txt -> File Name\n",
    "#\n",
    "  * \"r/w/a\" -> Mode\n",
    "    * r -> Read\n",
    "    * w -> Write\n",
    "    * a -> Append\n",
    "#\n",
    "  * File_1 -> File Object\n",
    "    * Attributes/methods such as:\n",
    "      * .name\n",
    "      * .mode\n",
    "      * .read()\n",
    "      * .close() -> Super Important! Will solve with \"with _ as _ :\" statement which automatically closes the file object"
   ]
  },
  {
   "cell_type": "markdown",
   "metadata": {},
   "source": [
    "##### Reading Data from a File"
   ]
  },
  {
   "cell_type": "code",
   "execution_count": 1,
   "metadata": {},
   "outputs": [
    {
     "name": "stdout",
     "output_type": "stream",
     "text": [
      "Example_File_1 Contents:\n",
      "Congratulations: You Found the Secret!\n",
      "\n",
      "This is some Dummy text.\n",
      "There's a possibility nobody ever reads this.\n",
      "    If you do please feel free to sign your name below.\n",
      "I'll start using Python to read and write the file!\n",
      "\n",
      "Names:\n",
      "\n",
      "\n",
      "File is closed: True\n",
      "\n",
      "Confirmation that data is stored in variable file_contents_1 after closing file:\n",
      "Congratulations: You Found the Secret!\n",
      "\n",
      "This is some Dummy text.\n",
      "There's a possibility nobody ever reads this.\n",
      "    If you do please feel free to sign your name below.\n",
      "I'll start using Python to read and write the file!\n",
      "\n",
      "Names:\n",
      "\n"
     ]
    }
   ],
   "source": [
    "with open(\"supporting_data\\Example_File_1.txt\", \"r\") as File_1:\n",
    "\n",
    "    file_contents_1 = File_1.read()\n",
    "\n",
    "    print(f'Example_File_1 Contents:\\n{file_contents_1}')\n",
    "\n",
    "print(f'\\nFile is closed: {File_1.closed}')\n",
    "print(f'\\nConfirmation that data is stored in variable file_contents_1 after closing file:\\n{file_contents_1}')"
   ]
  },
  {
   "cell_type": "markdown",
   "metadata": {},
   "source": [
    "##### Reading Individual Lines:\n",
    "* .readline() -> Everytime it's called it prints the lines one at a time\n"
   ]
  },
  {
   "cell_type": "code",
   "execution_count": 2,
   "metadata": {},
   "outputs": [
    {
     "name": "stdout",
     "output_type": "stream",
     "text": [
      "Congratulations: You Found the Secret!\n",
      "\n"
     ]
    }
   ],
   "source": [
    "with open(\"supporting_data\\Example_File_1.txt\", \"r\") as File_1:\n",
    "    file_contents_1_line_1 = File_1.readline()\n",
    "    print(file_contents_1_line_1)"
   ]
  },
  {
   "cell_type": "code",
   "execution_count": 3,
   "metadata": {},
   "outputs": [
    {
     "name": "stdout",
     "output_type": "stream",
     "text": [
      "First Line of Example_File_1.txt:\n",
      "Congratulations: You Found the Secret!\n",
      "\n",
      "Third Line of Example_File_1.txt:\n",
      "This is some Dummy text.\n",
      "\n"
     ]
    }
   ],
   "source": [
    "with open(\"supporting_data\\Example_File_1.txt\", \"r\") as File_1:\n",
    "    \n",
    "    file_1_line_1 = File_1.readline()\n",
    "    print(f'First Line of Example_File_1.txt:\\n{file_1_line_1}')\n",
    "    \n",
    "    File_1.readline()\n",
    "\n",
    "    file_1_line_3 = File_1.readline()\n",
    "    print(f'Third Line of Example_File_1.txt:\\n{file_1_line_3}')"
   ]
  },
  {
   "cell_type": "markdown",
   "metadata": {},
   "source": [
    "##### Writing Data to a File\n",
    "* Creates a file with the name of your choice, in the directory of your choice.\n",
    "* Usually end with \"\\n\" for new line -> equivalent to using Java println()\n",
    "* Can use loops to write multiple lines to a file"
   ]
  },
  {
   "cell_type": "code",
   "execution_count": 6,
   "metadata": {},
   "outputs": [],
   "source": [
    "with open(\"supporting_data\\Example_File_2.txt\", \"w\") as File_2:\n",
    "    File_2.write(\"This is a second dummy text file.\\n\")\n",
    "    File_2.write(\"This is just here to show off the power of Python I/O.\\n\")"
   ]
  },
  {
   "cell_type": "code",
   "execution_count": 7,
   "metadata": {},
   "outputs": [
    {
     "name": "stdout",
     "output_type": "stream",
     "text": [
      "Example_File_2 contents\n",
      "This is a second dummy text file.\n",
      "This is just here to show off the power of Python I/O.\n",
      "\n"
     ]
    }
   ],
   "source": [
    "with open(\"supporting_data/Example_File_2.txt\", 'r') as File_2:\n",
    "    file_2 = File_2.read()\n",
    "    print(f'Example_File_2 contents\\n{file_2}')"
   ]
  },
  {
   "cell_type": "markdown",
   "metadata": {},
   "source": [
    "##### Writing with Loops"
   ]
  },
  {
   "cell_type": "code",
   "execution_count": 8,
   "metadata": {},
   "outputs": [],
   "source": [
    "lines_to_write = [\"This is Line A\\n\", \"This is Line B\\n\", \"This is Line C\\n...\"]\n",
    "\n",
    "with open(\"supporting_data\\Example_File_3.txt\", \"w\") as File_3:\n",
    "    \n",
    "    for line in lines_to_write:\n",
    "        File_3.write(line)"
   ]
  },
  {
   "cell_type": "code",
   "execution_count": 10,
   "metadata": {},
   "outputs": [
    {
     "name": "stdout",
     "output_type": "stream",
     "text": [
      "Example_File_3 contents\n",
      "This is Line A\n",
      "This is Line B\n",
      "This is Line C\n",
      "...\n"
     ]
    }
   ],
   "source": [
    "with open(\"supporting_data/Example_File_3.txt\", 'r') as File_3:\n",
    "    file_3 = File_3.read()\n",
    "    print(f'Example_File_3 contents\\n{file_3}')"
   ]
  },
  {
   "cell_type": "markdown",
   "metadata": {},
   "source": [
    "##### Appending to a File\n",
    "* Adds new data into a new line in the File"
   ]
  },
  {
   "cell_type": "code",
   "execution_count": 11,
   "metadata": {},
   "outputs": [],
   "source": [
    "with open(\"supporting_data/Example_File_1.txt\", \"a\") as File_1_modified:\n",
    "    File_1_modified.write(\"Jason J Ortiz -> Creator\\n\")"
   ]
  },
  {
   "cell_type": "code",
   "execution_count": 16,
   "metadata": {},
   "outputs": [
    {
     "name": "stdout",
     "output_type": "stream",
     "text": [
      "Example_File_1 contents after being modified\n",
      "Congratulations: You Found the Secret!\n",
      "\n",
      "This is some Dummy text.\n",
      "There's a possibility nobody ever reads this.\n",
      "    If you do please feel free to sign your name below.\n",
      "I'll start using Python to read and append the file!\n",
      "\n",
      "Names:\n",
      "Jason J Ortiz -> Creator\n",
      "\n"
     ]
    }
   ],
   "source": [
    "with open(\"supporting_data/Example_File_1.txt\", 'r') as File_1_modified:\n",
    "    file_1_modified_content = File_1_modified.read()\n",
    "    print(f'Example_File_1 contents after being modified\\n{file_1_modified_content}')"
   ]
  },
  {
   "cell_type": "markdown",
   "metadata": {},
   "source": [
    "##### Copying one File to a new File"
   ]
  },
  {
   "cell_type": "code",
   "execution_count": 18,
   "metadata": {},
   "outputs": [],
   "source": [
    "with open(\"supporting_data/Example_File_2.txt\") as read_file:\n",
    "    with open(\"supporting_data/Example_File_4.txt\", \"w\") as write_file:\n",
    "        for line in read_file:\n",
    "            write_file.write(line)"
   ]
  },
  {
   "cell_type": "code",
   "execution_count": 19,
   "metadata": {},
   "outputs": [
    {
     "name": "stdout",
     "output_type": "stream",
     "text": [
      "Example_File_4 contents\n",
      "This is a second dummy text file.\n",
      "This is just here to show off the power of Python I/O.\n",
      "\n"
     ]
    }
   ],
   "source": [
    "with open(\"supporting_data/Example_File_4.txt\", 'r') as File_4:\n",
    "    file_4_content = File_4.read()\n",
    "    print(f'Example_File_4 contents\\n{file_4_content}')"
   ]
  },
  {
   "cell_type": "markdown",
   "metadata": {},
   "source": [
    "### Pandas\n",
    "* Loading Data with Pandas\n",
    "* Working with and Saving Data"
   ]
  },
  {
   "cell_type": "code",
   "execution_count": 4,
   "metadata": {},
   "outputs": [],
   "source": [
    "# Importing Pandas Library\n",
    "import pandas as pd"
   ]
  },
  {
   "cell_type": "markdown",
   "metadata": {},
   "source": [
    "#### Loading Data with Pandas\n",
    "* Mock data generated by https://www.mockaroo.com/"
   ]
  },
  {
   "cell_type": "code",
   "execution_count": 5,
   "metadata": {},
   "outputs": [],
   "source": [
    "# Saving csv_path in separate variable for readability/reusability\n",
    "csv_path = 'supporting_data/mockaroo_data_coursera_IMB.csv'\n",
    "dataframe = pd.read_csv(csv_path)"
   ]
  },
  {
   "cell_type": "code",
   "execution_count": 6,
   "metadata": {},
   "outputs": [
    {
     "data": {
      "text/html": [
       "<div>\n",
       "<style scoped>\n",
       "    .dataframe tbody tr th:only-of-type {\n",
       "        vertical-align: middle;\n",
       "    }\n",
       "\n",
       "    .dataframe tbody tr th {\n",
       "        vertical-align: top;\n",
       "    }\n",
       "\n",
       "    .dataframe thead th {\n",
       "        text-align: right;\n",
       "    }\n",
       "</style>\n",
       "<table border=\"1\" class=\"dataframe\">\n",
       "  <thead>\n",
       "    <tr style=\"text-align: right;\">\n",
       "      <th></th>\n",
       "      <th>id</th>\n",
       "      <th>first_name</th>\n",
       "      <th>last_name</th>\n",
       "      <th>email</th>\n",
       "      <th>gender</th>\n",
       "      <th>age</th>\n",
       "      <th>student</th>\n",
       "      <th>employed</th>\n",
       "      <th>checking_account</th>\n",
       "      <th>saving_account</th>\n",
       "    </tr>\n",
       "  </thead>\n",
       "  <tbody>\n",
       "    <tr>\n",
       "      <th>0</th>\n",
       "      <td>1</td>\n",
       "      <td>Yuri</td>\n",
       "      <td>Woollam</td>\n",
       "      <td>ywoollam0@smh.com.au</td>\n",
       "      <td>Male</td>\n",
       "      <td>33</td>\n",
       "      <td>False</td>\n",
       "      <td>False</td>\n",
       "      <td>30495.56</td>\n",
       "      <td>4244392.36</td>\n",
       "    </tr>\n",
       "    <tr>\n",
       "      <th>1</th>\n",
       "      <td>2</td>\n",
       "      <td>Consalve</td>\n",
       "      <td>Audsley</td>\n",
       "      <td>caudsley1@skyrock.com</td>\n",
       "      <td>Male</td>\n",
       "      <td>39</td>\n",
       "      <td>True</td>\n",
       "      <td>False</td>\n",
       "      <td>729910.09</td>\n",
       "      <td>3277128.00</td>\n",
       "    </tr>\n",
       "    <tr>\n",
       "      <th>2</th>\n",
       "      <td>3</td>\n",
       "      <td>Seana</td>\n",
       "      <td>Hinze</td>\n",
       "      <td>shinze2@reverbnation.com</td>\n",
       "      <td>Female</td>\n",
       "      <td>39</td>\n",
       "      <td>True</td>\n",
       "      <td>True</td>\n",
       "      <td>524771.18</td>\n",
       "      <td>2028913.50</td>\n",
       "    </tr>\n",
       "    <tr>\n",
       "      <th>3</th>\n",
       "      <td>4</td>\n",
       "      <td>Ivette</td>\n",
       "      <td>Sisse</td>\n",
       "      <td>isisse3@multiply.com</td>\n",
       "      <td>Female</td>\n",
       "      <td>16</td>\n",
       "      <td>True</td>\n",
       "      <td>True</td>\n",
       "      <td>186207.74</td>\n",
       "      <td>417373.23</td>\n",
       "    </tr>\n",
       "    <tr>\n",
       "      <th>4</th>\n",
       "      <td>5</td>\n",
       "      <td>Travers</td>\n",
       "      <td>Elmhurst</td>\n",
       "      <td>telmhurst4@gnu.org</td>\n",
       "      <td>Male</td>\n",
       "      <td>41</td>\n",
       "      <td>True</td>\n",
       "      <td>False</td>\n",
       "      <td>316689.98</td>\n",
       "      <td>1435229.19</td>\n",
       "    </tr>\n",
       "  </tbody>\n",
       "</table>\n",
       "</div>"
      ],
      "text/plain": [
       "   id first_name last_name                     email  gender  age  student  \\\n",
       "0   1       Yuri   Woollam      ywoollam0@smh.com.au    Male   33    False   \n",
       "1   2   Consalve   Audsley     caudsley1@skyrock.com    Male   39     True   \n",
       "2   3      Seana     Hinze  shinze2@reverbnation.com  Female   39     True   \n",
       "3   4     Ivette     Sisse      isisse3@multiply.com  Female   16     True   \n",
       "4   5    Travers  Elmhurst        telmhurst4@gnu.org    Male   41     True   \n",
       "\n",
       "   employed  checking_account  saving_account  \n",
       "0     False          30495.56      4244392.36  \n",
       "1     False         729910.09      3277128.00  \n",
       "2      True         524771.18      2028913.50  \n",
       "3      True         186207.74       417373.23  \n",
       "4     False         316689.98      1435229.19  "
      ]
     },
     "execution_count": 6,
     "metadata": {},
     "output_type": "execute_result"
    }
   ],
   "source": [
    "# df.head(n): Read the first n rows, default 5\n",
    "dataframe.head()"
   ]
  },
  {
   "cell_type": "code",
   "execution_count": 12,
   "metadata": {},
   "outputs": [
    {
     "data": {
      "text/html": [
       "<div>\n",
       "<style scoped>\n",
       "    .dataframe tbody tr th:only-of-type {\n",
       "        vertical-align: middle;\n",
       "    }\n",
       "\n",
       "    .dataframe tbody tr th {\n",
       "        vertical-align: top;\n",
       "    }\n",
       "\n",
       "    .dataframe thead th {\n",
       "        text-align: right;\n",
       "    }\n",
       "</style>\n",
       "<table border=\"1\" class=\"dataframe\">\n",
       "  <thead>\n",
       "    <tr style=\"text-align: right;\">\n",
       "      <th></th>\n",
       "      <th>email</th>\n",
       "    </tr>\n",
       "  </thead>\n",
       "  <tbody>\n",
       "    <tr>\n",
       "      <th>0</th>\n",
       "      <td>ywoollam0@smh.com.au</td>\n",
       "    </tr>\n",
       "    <tr>\n",
       "      <th>1</th>\n",
       "      <td>caudsley1@skyrock.com</td>\n",
       "    </tr>\n",
       "    <tr>\n",
       "      <th>2</th>\n",
       "      <td>shinze2@reverbnation.com</td>\n",
       "    </tr>\n",
       "    <tr>\n",
       "      <th>3</th>\n",
       "      <td>isisse3@multiply.com</td>\n",
       "    </tr>\n",
       "    <tr>\n",
       "      <th>4</th>\n",
       "      <td>telmhurst4@gnu.org</td>\n",
       "    </tr>\n",
       "  </tbody>\n",
       "</table>\n",
       "</div>"
      ],
      "text/plain": [
       "                      email\n",
       "0      ywoollam0@smh.com.au\n",
       "1     caudsley1@skyrock.com\n",
       "2  shinze2@reverbnation.com\n",
       "3      isisse3@multiply.com\n",
       "4        telmhurst4@gnu.org"
      ]
     },
     "execution_count": 12,
     "metadata": {},
     "output_type": "execute_result"
    }
   ],
   "source": [
    "# Saving column(s) in variables\n",
    "email = dataframe[['email']]\n",
    "email.head()"
   ]
  },
  {
   "cell_type": "code",
   "execution_count": 17,
   "metadata": {},
   "outputs": [
    {
     "data": {
      "text/html": [
       "<div>\n",
       "<style scoped>\n",
       "    .dataframe tbody tr th:only-of-type {\n",
       "        vertical-align: middle;\n",
       "    }\n",
       "\n",
       "    .dataframe tbody tr th {\n",
       "        vertical-align: top;\n",
       "    }\n",
       "\n",
       "    .dataframe thead th {\n",
       "        text-align: right;\n",
       "    }\n",
       "</style>\n",
       "<table border=\"1\" class=\"dataframe\">\n",
       "  <thead>\n",
       "    <tr style=\"text-align: right;\">\n",
       "      <th></th>\n",
       "      <th>age</th>\n",
       "    </tr>\n",
       "  </thead>\n",
       "  <tbody>\n",
       "    <tr>\n",
       "      <th>0</th>\n",
       "      <td>33</td>\n",
       "    </tr>\n",
       "    <tr>\n",
       "      <th>1</th>\n",
       "      <td>39</td>\n",
       "    </tr>\n",
       "    <tr>\n",
       "      <th>2</th>\n",
       "      <td>39</td>\n",
       "    </tr>\n",
       "    <tr>\n",
       "      <th>3</th>\n",
       "      <td>16</td>\n",
       "    </tr>\n",
       "    <tr>\n",
       "      <th>4</th>\n",
       "      <td>41</td>\n",
       "    </tr>\n",
       "    <tr>\n",
       "      <th>5</th>\n",
       "      <td>52</td>\n",
       "    </tr>\n",
       "    <tr>\n",
       "      <th>6</th>\n",
       "      <td>17</td>\n",
       "    </tr>\n",
       "    <tr>\n",
       "      <th>7</th>\n",
       "      <td>93</td>\n",
       "    </tr>\n",
       "    <tr>\n",
       "      <th>8</th>\n",
       "      <td>20</td>\n",
       "    </tr>\n",
       "    <tr>\n",
       "      <th>9</th>\n",
       "      <td>89</td>\n",
       "    </tr>\n",
       "  </tbody>\n",
       "</table>\n",
       "</div>"
      ],
      "text/plain": [
       "   age\n",
       "0   33\n",
       "1   39\n",
       "2   39\n",
       "3   16\n",
       "4   41\n",
       "5   52\n",
       "6   17\n",
       "7   93\n",
       "8   20\n",
       "9   89"
      ]
     },
     "execution_count": 17,
     "metadata": {},
     "output_type": "execute_result"
    }
   ],
   "source": [
    "age = dataframe[['age']]\n",
    "age.head(10)"
   ]
  },
  {
   "cell_type": "code",
   "execution_count": 14,
   "metadata": {},
   "outputs": [
    {
     "data": {
      "text/html": [
       "<div>\n",
       "<style scoped>\n",
       "    .dataframe tbody tr th:only-of-type {\n",
       "        vertical-align: middle;\n",
       "    }\n",
       "\n",
       "    .dataframe tbody tr th {\n",
       "        vertical-align: top;\n",
       "    }\n",
       "\n",
       "    .dataframe thead th {\n",
       "        text-align: right;\n",
       "    }\n",
       "</style>\n",
       "<table border=\"1\" class=\"dataframe\">\n",
       "  <thead>\n",
       "    <tr style=\"text-align: right;\">\n",
       "      <th></th>\n",
       "      <th>first_name</th>\n",
       "      <th>last_name</th>\n",
       "    </tr>\n",
       "  </thead>\n",
       "  <tbody>\n",
       "    <tr>\n",
       "      <th>0</th>\n",
       "      <td>Yuri</td>\n",
       "      <td>Woollam</td>\n",
       "    </tr>\n",
       "    <tr>\n",
       "      <th>1</th>\n",
       "      <td>Consalve</td>\n",
       "      <td>Audsley</td>\n",
       "    </tr>\n",
       "    <tr>\n",
       "      <th>2</th>\n",
       "      <td>Seana</td>\n",
       "      <td>Hinze</td>\n",
       "    </tr>\n",
       "    <tr>\n",
       "      <th>3</th>\n",
       "      <td>Ivette</td>\n",
       "      <td>Sisse</td>\n",
       "    </tr>\n",
       "    <tr>\n",
       "      <th>4</th>\n",
       "      <td>Travers</td>\n",
       "      <td>Elmhurst</td>\n",
       "    </tr>\n",
       "  </tbody>\n",
       "</table>\n",
       "</div>"
      ],
      "text/plain": [
       "  first_name last_name\n",
       "0       Yuri   Woollam\n",
       "1   Consalve   Audsley\n",
       "2      Seana     Hinze\n",
       "3     Ivette     Sisse\n",
       "4    Travers  Elmhurst"
      ]
     },
     "execution_count": 14,
     "metadata": {},
     "output_type": "execute_result"
    }
   ],
   "source": [
    "full_name = dataframe[['first_name', 'last_name']]\n",
    "full_name.head()"
   ]
  },
  {
   "cell_type": "markdown",
   "metadata": {},
   "source": [
    "#### Working with and Saving Data\n",
    "* List Unique Values\n",
    "* Filtering Data"
   ]
  },
  {
   "cell_type": "markdown",
   "metadata": {},
   "source": [
    "##### List Unique Values"
   ]
  },
  {
   "cell_type": "code",
   "execution_count": 30,
   "metadata": {},
   "outputs": [
    {
     "data": {
      "text/plain": [
       "array([ 33,  39,  16,  41,  52,  17,  93,  20,  89,  27,  15,  50,  28,\n",
       "        23,  61,  51,  38,  59,  42,  58, 100,  40,  65,  79,  47,  35,\n",
       "        36,  55,  68,  73,  60,  71,  81,  31,  66,  84,  32,  56,  25,\n",
       "        49,  97,  96,  78,  76,  18,  75,  63,  67,  19,  74,  85,  90,\n",
       "        82,  95,  70,  87,  53,  45,  22,  80,  77,  26,  88,  46,  14,\n",
       "        94,  29,  30,  43,  57,  62,  44,  54,  99,  72,  86,  98,  24,\n",
       "        48,  13,  83,  64,  34,  69,  92,  91,  21,  37], dtype=int64)"
      ]
     },
     "execution_count": 30,
     "metadata": {},
     "output_type": "execute_result"
    }
   ],
   "source": [
    "# age.unique() doesn't work as you need to pass a column, not a dataframe\n",
    "age['age'].unique()"
   ]
  },
  {
   "cell_type": "code",
   "execution_count": 33,
   "metadata": {},
   "outputs": [
    {
     "data": {
      "text/plain": [
       "array([ 33,  39,  16,  41,  52,  17,  93,  20,  89,  27,  15,  50,  28,\n",
       "        23,  61,  51,  38,  59,  42,  58, 100,  40,  65,  79,  47,  35,\n",
       "        36,  55,  68,  73,  60,  71,  81,  31,  66,  84,  32,  56,  25,\n",
       "        49,  97,  96,  78,  76,  18,  75,  63,  67,  19,  74,  85,  90,\n",
       "        82,  95,  70,  87,  53,  45,  22,  80,  77,  26,  88,  46,  14,\n",
       "        94,  29,  30,  43,  57,  62,  44,  54,  99,  72,  86,  98,  24,\n",
       "        48,  13,  83,  64,  34,  69,  92,  91,  21,  37], dtype=int64)"
      ]
     },
     "execution_count": 33,
     "metadata": {},
     "output_type": "execute_result"
    }
   ],
   "source": [
    "# or\n",
    "dataframe['age'].unique()"
   ]
  },
  {
   "cell_type": "code",
   "execution_count": 36,
   "metadata": {},
   "outputs": [
    {
     "data": {
      "text/plain": [
       "{13,\n",
       " 14,\n",
       " 15,\n",
       " 16,\n",
       " 17,\n",
       " 18,\n",
       " 19,\n",
       " 20,\n",
       " 21,\n",
       " 22,\n",
       " 23,\n",
       " 24,\n",
       " 25,\n",
       " 26,\n",
       " 27,\n",
       " 28,\n",
       " 29,\n",
       " 30,\n",
       " 31,\n",
       " 32,\n",
       " 33,\n",
       " 34,\n",
       " 35,\n",
       " 36,\n",
       " 37,\n",
       " 38,\n",
       " 39,\n",
       " 40,\n",
       " 41,\n",
       " 42,\n",
       " 43,\n",
       " 44,\n",
       " 45,\n",
       " 46,\n",
       " 47,\n",
       " 48,\n",
       " 49,\n",
       " 50,\n",
       " 51,\n",
       " 52,\n",
       " 53,\n",
       " 54,\n",
       " 55,\n",
       " 56,\n",
       " 57,\n",
       " 58,\n",
       " 59,\n",
       " 60,\n",
       " 61,\n",
       " 62,\n",
       " 63,\n",
       " 64,\n",
       " 65,\n",
       " 66,\n",
       " 67,\n",
       " 68,\n",
       " 69,\n",
       " 70,\n",
       " 71,\n",
       " 72,\n",
       " 73,\n",
       " 74,\n",
       " 75,\n",
       " 76,\n",
       " 77,\n",
       " 78,\n",
       " 79,\n",
       " 80,\n",
       " 81,\n",
       " 82,\n",
       " 83,\n",
       " 84,\n",
       " 85,\n",
       " 86,\n",
       " 87,\n",
       " 88,\n",
       " 89,\n",
       " 90,\n",
       " 91,\n",
       " 92,\n",
       " 93,\n",
       " 94,\n",
       " 95,\n",
       " 96,\n",
       " 97,\n",
       " 98,\n",
       " 99,\n",
       " 100}"
      ]
     },
     "execution_count": 36,
     "metadata": {},
     "output_type": "execute_result"
    }
   ],
   "source": [
    "# or you could use a set\n",
    "set(dataframe['age'].values)"
   ]
  },
  {
   "cell_type": "markdown",
   "metadata": {},
   "source": [
    "##### Filtering Data"
   ]
  },
  {
   "cell_type": "code",
   "execution_count": 49,
   "metadata": {},
   "outputs": [
    {
     "data": {
      "text/html": [
       "<div>\n",
       "<style scoped>\n",
       "    .dataframe tbody tr th:only-of-type {\n",
       "        vertical-align: middle;\n",
       "    }\n",
       "\n",
       "    .dataframe tbody tr th {\n",
       "        vertical-align: top;\n",
       "    }\n",
       "\n",
       "    .dataframe thead th {\n",
       "        text-align: right;\n",
       "    }\n",
       "</style>\n",
       "<table border=\"1\" class=\"dataframe\">\n",
       "  <thead>\n",
       "    <tr style=\"text-align: right;\">\n",
       "      <th></th>\n",
       "      <th>id</th>\n",
       "      <th>first_name</th>\n",
       "      <th>last_name</th>\n",
       "      <th>email</th>\n",
       "      <th>gender</th>\n",
       "      <th>age</th>\n",
       "      <th>student</th>\n",
       "      <th>employed</th>\n",
       "      <th>checking_account</th>\n",
       "      <th>saving_account</th>\n",
       "    </tr>\n",
       "  </thead>\n",
       "  <tbody>\n",
       "    <tr>\n",
       "      <th>5</th>\n",
       "      <td>6</td>\n",
       "      <td>Roselle</td>\n",
       "      <td>Theodore</td>\n",
       "      <td>rtheodore5@elegantthemes.com</td>\n",
       "      <td>Female</td>\n",
       "      <td>52</td>\n",
       "      <td>True</td>\n",
       "      <td>False</td>\n",
       "      <td>767879.56</td>\n",
       "      <td>2931223.04</td>\n",
       "    </tr>\n",
       "    <tr>\n",
       "      <th>7</th>\n",
       "      <td>8</td>\n",
       "      <td>Stanley</td>\n",
       "      <td>Mogie</td>\n",
       "      <td>smogie7@cafepress.com</td>\n",
       "      <td>Male</td>\n",
       "      <td>93</td>\n",
       "      <td>False</td>\n",
       "      <td>False</td>\n",
       "      <td>720380.47</td>\n",
       "      <td>2723017.00</td>\n",
       "    </tr>\n",
       "    <tr>\n",
       "      <th>9</th>\n",
       "      <td>10</td>\n",
       "      <td>Appolonia</td>\n",
       "      <td>Deek</td>\n",
       "      <td>adeek9@flickr.com</td>\n",
       "      <td>Agender</td>\n",
       "      <td>89</td>\n",
       "      <td>False</td>\n",
       "      <td>True</td>\n",
       "      <td>631998.00</td>\n",
       "      <td>2494973.76</td>\n",
       "    </tr>\n",
       "    <tr>\n",
       "      <th>15</th>\n",
       "      <td>16</td>\n",
       "      <td>Antonie</td>\n",
       "      <td>Tweedie</td>\n",
       "      <td>atweedief@biglobe.ne.jp</td>\n",
       "      <td>Female</td>\n",
       "      <td>61</td>\n",
       "      <td>True</td>\n",
       "      <td>True</td>\n",
       "      <td>327170.58</td>\n",
       "      <td>4522711.00</td>\n",
       "    </tr>\n",
       "    <tr>\n",
       "      <th>17</th>\n",
       "      <td>18</td>\n",
       "      <td>Dre</td>\n",
       "      <td>Shorbrook</td>\n",
       "      <td>dshorbrookh@angelfire.com</td>\n",
       "      <td>Bigender</td>\n",
       "      <td>51</td>\n",
       "      <td>False</td>\n",
       "      <td>True</td>\n",
       "      <td>953081.30</td>\n",
       "      <td>940340.27</td>\n",
       "    </tr>\n",
       "  </tbody>\n",
       "</table>\n",
       "</div>"
      ],
      "text/plain": [
       "    id first_name  last_name                         email    gender  age  \\\n",
       "5    6    Roselle   Theodore  rtheodore5@elegantthemes.com    Female   52   \n",
       "7    8    Stanley      Mogie         smogie7@cafepress.com      Male   93   \n",
       "9   10  Appolonia       Deek             adeek9@flickr.com   Agender   89   \n",
       "15  16    Antonie    Tweedie       atweedief@biglobe.ne.jp    Female   61   \n",
       "17  18        Dre  Shorbrook     dshorbrookh@angelfire.com  Bigender   51   \n",
       "\n",
       "    student  employed  checking_account  saving_account  \n",
       "5      True     False         767879.56      2931223.04  \n",
       "7     False     False         720380.47      2723017.00  \n",
       "9     False      True         631998.00      2494973.76  \n",
       "15     True      True         327170.58      4522711.00  \n",
       "17    False      True         953081.30       940340.27  "
      ]
     },
     "execution_count": 49,
     "metadata": {},
     "output_type": "execute_result"
    }
   ],
   "source": [
    "over_50 = dataframe[dataframe['age'] > 50]\n",
    "over_50.head()"
   ]
  },
  {
   "cell_type": "code",
   "execution_count": 51,
   "metadata": {},
   "outputs": [
    {
     "data": {
      "text/html": [
       "<div>\n",
       "<style scoped>\n",
       "    .dataframe tbody tr th:only-of-type {\n",
       "        vertical-align: middle;\n",
       "    }\n",
       "\n",
       "    .dataframe tbody tr th {\n",
       "        vertical-align: top;\n",
       "    }\n",
       "\n",
       "    .dataframe thead th {\n",
       "        text-align: right;\n",
       "    }\n",
       "</style>\n",
       "<table border=\"1\" class=\"dataframe\">\n",
       "  <thead>\n",
       "    <tr style=\"text-align: right;\">\n",
       "      <th></th>\n",
       "      <th>id</th>\n",
       "      <th>first_name</th>\n",
       "      <th>last_name</th>\n",
       "      <th>email</th>\n",
       "      <th>gender</th>\n",
       "      <th>age</th>\n",
       "      <th>student</th>\n",
       "      <th>employed</th>\n",
       "      <th>checking_account</th>\n",
       "      <th>saving_account</th>\n",
       "    </tr>\n",
       "  </thead>\n",
       "  <tbody>\n",
       "    <tr>\n",
       "      <th>5</th>\n",
       "      <td>6</td>\n",
       "      <td>Roselle</td>\n",
       "      <td>Theodore</td>\n",
       "      <td>rtheodore5@elegantthemes.com</td>\n",
       "      <td>Female</td>\n",
       "      <td>52</td>\n",
       "      <td>True</td>\n",
       "      <td>False</td>\n",
       "      <td>767879.56</td>\n",
       "      <td>2931223.04</td>\n",
       "    </tr>\n",
       "    <tr>\n",
       "      <th>7</th>\n",
       "      <td>8</td>\n",
       "      <td>Stanley</td>\n",
       "      <td>Mogie</td>\n",
       "      <td>smogie7@cafepress.com</td>\n",
       "      <td>Male</td>\n",
       "      <td>93</td>\n",
       "      <td>False</td>\n",
       "      <td>False</td>\n",
       "      <td>720380.47</td>\n",
       "      <td>2723017.00</td>\n",
       "    </tr>\n",
       "    <tr>\n",
       "      <th>9</th>\n",
       "      <td>10</td>\n",
       "      <td>Appolonia</td>\n",
       "      <td>Deek</td>\n",
       "      <td>adeek9@flickr.com</td>\n",
       "      <td>Agender</td>\n",
       "      <td>89</td>\n",
       "      <td>False</td>\n",
       "      <td>True</td>\n",
       "      <td>631998.00</td>\n",
       "      <td>2494973.76</td>\n",
       "    </tr>\n",
       "    <tr>\n",
       "      <th>15</th>\n",
       "      <td>16</td>\n",
       "      <td>Antonie</td>\n",
       "      <td>Tweedie</td>\n",
       "      <td>atweedief@biglobe.ne.jp</td>\n",
       "      <td>Female</td>\n",
       "      <td>61</td>\n",
       "      <td>True</td>\n",
       "      <td>True</td>\n",
       "      <td>327170.58</td>\n",
       "      <td>4522711.00</td>\n",
       "    </tr>\n",
       "    <tr>\n",
       "      <th>17</th>\n",
       "      <td>18</td>\n",
       "      <td>Dre</td>\n",
       "      <td>Shorbrook</td>\n",
       "      <td>dshorbrookh@angelfire.com</td>\n",
       "      <td>Bigender</td>\n",
       "      <td>51</td>\n",
       "      <td>False</td>\n",
       "      <td>True</td>\n",
       "      <td>953081.30</td>\n",
       "      <td>940340.27</td>\n",
       "    </tr>\n",
       "  </tbody>\n",
       "</table>\n",
       "</div>"
      ],
      "text/plain": [
       "    id first_name  last_name                         email    gender  age  \\\n",
       "5    6    Roselle   Theodore  rtheodore5@elegantthemes.com    Female   52   \n",
       "7    8    Stanley      Mogie         smogie7@cafepress.com      Male   93   \n",
       "9   10  Appolonia       Deek             adeek9@flickr.com   Agender   89   \n",
       "15  16    Antonie    Tweedie       atweedief@biglobe.ne.jp    Female   61   \n",
       "17  18        Dre  Shorbrook     dshorbrookh@angelfire.com  Bigender   51   \n",
       "\n",
       "    student  employed  checking_account  saving_account  \n",
       "5      True     False         767879.56      2931223.04  \n",
       "7     False     False         720380.47      2723017.00  \n",
       "9     False      True         631998.00      2494973.76  \n",
       "15     True      True         327170.58      4522711.00  \n",
       "17    False      True         953081.30       940340.27  "
      ]
     },
     "execution_count": 51,
     "metadata": {},
     "output_type": "execute_result"
    }
   ],
   "source": [
    "# Another way of achieving the same results\n",
    "over_50 = dataframe[age.values > 50]\n",
    "over_50.head()"
   ]
  },
  {
   "cell_type": "code",
   "execution_count": 61,
   "metadata": {},
   "outputs": [
    {
     "data": {
      "text/plain": [
       "'dshorbrookh@angelfire.com'"
      ]
     },
     "execution_count": 61,
     "metadata": {},
     "output_type": "execute_result"
    }
   ],
   "source": [
    "over_50.iloc[4, 3]"
   ]
  },
  {
   "cell_type": "code",
   "execution_count": 68,
   "metadata": {},
   "outputs": [
    {
     "data": {
      "text/plain": [
       "5       Female\n",
       "7         Male\n",
       "9      Agender\n",
       "15      Female\n",
       "17    Bigender\n",
       "Name: gender, dtype: object"
      ]
     },
     "execution_count": 68,
     "metadata": {},
     "output_type": "execute_result"
    }
   ],
   "source": [
    "over_50.loc[5:17, 'gender']"
   ]
  },
  {
   "cell_type": "markdown",
   "metadata": {},
   "source": [
    "##### Saving Data as .CSV\n",
    "* saving to the supporting_data directory\n",
    "* the final piece is the name you wish to give the new file, followed by .csv (since you call the to_csv() function)"
   ]
  },
  {
   "cell_type": "code",
   "execution_count": 53,
   "metadata": {},
   "outputs": [],
   "source": [
    "over_50.to_csv('supporting_data/moackaroo_bank_accounts_over_50.csv')"
   ]
  },
  {
   "cell_type": "markdown",
   "metadata": {},
   "source": [
    "### Numpy\n",
    "* One-Dimensional Numpy\n",
    "* Two-Dimensional Numpy"
   ]
  },
  {
   "cell_type": "code",
   "execution_count": 2,
   "metadata": {},
   "outputs": [],
   "source": [
    "import numpy as np"
   ]
  },
  {
   "cell_type": "markdown",
   "metadata": {},
   "source": [
    "#### One-Dimensional Numpy\n",
    "* The Basics and Array Creation\n",
    "* Indexing and Slicing\n",
    "* Basic Operations\n",
    "* Universal Functions"
   ]
  },
  {
   "cell_type": "markdown",
   "metadata": {},
   "source": [
    "##### The Basics and Array Creation\n",
    "* Numpy array is similar to (but not the same as) a Python list.\n",
    "  * Numpy array is indexed the same way but every element must be of the same type, unlike Python lists which can store multiple types of element within a single list.\n",
    "* Numpy arrays change all elements of the list you pass it to a single data type\n",
    "* Numpy array attributes include (but aren't limited to):\n",
    "  * .size -> returns the number of elements in the array\n",
    "  * .ndim\n",
    "  * .shape"
   ]
  },
  {
   "cell_type": "code",
   "execution_count": 4,
   "metadata": {},
   "outputs": [],
   "source": [
    "random_list = [1, \"two\", 3.0, 8/2, \"5\"]\n",
    "numpy_array = np.array(random_list)"
   ]
  },
  {
   "cell_type": "code",
   "execution_count": 5,
   "metadata": {},
   "outputs": [
    {
     "data": {
      "text/plain": [
       "[1, 'two', 3.0, 4.0, '5']"
      ]
     },
     "execution_count": 5,
     "metadata": {},
     "output_type": "execute_result"
    }
   ],
   "source": [
    "random_list"
   ]
  },
  {
   "cell_type": "code",
   "execution_count": 6,
   "metadata": {},
   "outputs": [
    {
     "data": {
      "text/plain": [
       "array(['1', 'two', '3.0', '4.0', '5'], dtype='<U32')"
      ]
     },
     "execution_count": 6,
     "metadata": {},
     "output_type": "execute_result"
    }
   ],
   "source": [
    "numpy_array"
   ]
  },
  {
   "cell_type": "code",
   "execution_count": 7,
   "metadata": {},
   "outputs": [
    {
     "data": {
      "text/plain": [
       "dtype('<U32')"
      ]
     },
     "execution_count": 7,
     "metadata": {},
     "output_type": "execute_result"
    }
   ],
   "source": [
    "numpy_array.dtype"
   ]
  },
  {
   "cell_type": "code",
   "execution_count": 12,
   "metadata": {},
   "outputs": [
    {
     "data": {
      "text/plain": [
       "5"
      ]
     },
     "execution_count": 12,
     "metadata": {},
     "output_type": "execute_result"
    }
   ],
   "source": [
    "# .size returns the number of elements in the array\n",
    "numpy_array.size"
   ]
  },
  {
   "cell_type": "code",
   "execution_count": 10,
   "metadata": {},
   "outputs": [
    {
     "data": {
      "text/plain": [
       "1"
      ]
     },
     "execution_count": 10,
     "metadata": {},
     "output_type": "execute_result"
    }
   ],
   "source": [
    "# .ndim returns the number of dimensions\n",
    "numpy_array.ndim"
   ]
  },
  {
   "cell_type": "code",
   "execution_count": 11,
   "metadata": {},
   "outputs": [
    {
     "data": {
      "text/plain": [
       "(5,)"
      ]
     },
     "execution_count": 11,
     "metadata": {},
     "output_type": "execute_result"
    }
   ],
   "source": [
    "# .shape returns the size of the array in each dimension\n",
    "numpy_array.shape"
   ]
  },
  {
   "cell_type": "code",
   "execution_count": 16,
   "metadata": {},
   "outputs": [
    {
     "name": "stdout",
     "output_type": "stream",
     "text": [
      "Example of a Numpy array of floats:\n",
      "[ 2.9  5.2  9.1 43.5 68.3]\n",
      "The Numpy array is of type: <class 'numpy.ndarray'>\n",
      "Data Type of elements inside of the array: float64\n"
     ]
    }
   ],
   "source": [
    "# Example of another type of numpy array\n",
    "numpy_float = np.array([2.9, 5.2, 9.1, 43.5, 68.3])\n",
    "print(f'Example of a Numpy array of floats:\\n{numpy_float}')\n",
    "print(f'The Numpy array is of type: {type(numpy_float)}')\n",
    "print(f'Data Type of elements inside of the array: {numpy_float.dtype}')"
   ]
  },
  {
   "cell_type": "markdown",
   "metadata": {},
   "source": [
    "##### Indexing and Slicing\n",
    "* Indexed from 0 to n-1, with n being the total number of elements in the array\n",
    "* Negative indexes start from the last element at -1, to the first at -n"
   ]
  },
  {
   "cell_type": "code",
   "execution_count": 14,
   "metadata": {},
   "outputs": [
    {
     "data": {
      "text/plain": [
       "array([20,  1,  2,  3,  4])"
      ]
     },
     "execution_count": 14,
     "metadata": {},
     "output_type": "execute_result"
    }
   ],
   "source": [
    "numpy_int = np.array([20, 1, 2, 3, 4])\n",
    "numpy_int"
   ]
  },
  {
   "cell_type": "code",
   "execution_count": 15,
   "metadata": {},
   "outputs": [
    {
     "data": {
      "text/plain": [
       "array([100,   1,   2,   3,   4])"
      ]
     },
     "execution_count": 15,
     "metadata": {},
     "output_type": "execute_result"
    }
   ],
   "source": [
    "numpy_int[0] = 100\n",
    "numpy_int"
   ]
  },
  {
   "cell_type": "code",
   "execution_count": 33,
   "metadata": {},
   "outputs": [
    {
     "name": "stdout",
     "output_type": "stream",
     "text": [
      "Last index accessed with index of -1: 42\n",
      "Last index accessed after being modified: 42\n"
     ]
    }
   ],
   "source": [
    "print(f'Last index accessed with index of -1: {numpy_int[-1]}')\n",
    "numpy_int[-1] = 42\n",
    "print(f'Last index accessed after being modified: {numpy_int[-1]}')"
   ]
  },
  {
   "cell_type": "code",
   "execution_count": 43,
   "metadata": {},
   "outputs": [
    {
     "name": "stdout",
     "output_type": "stream",
     "text": [
      "numpy_int[1:4] = [1 2 3]\n"
     ]
    }
   ],
   "source": [
    "# Slicing like Python Lists, [inclusive : exclusive]\n",
    "sliced_array = numpy_int[1:4]\n",
    "print(f'numpy_int[1:4] = {sliced_array}')"
   ]
  },
  {
   "cell_type": "code",
   "execution_count": 46,
   "metadata": {},
   "outputs": [
    {
     "name": "stdout",
     "output_type": "stream",
     "text": [
      "sliced_array after being modified using slicing: [9 8 3]\n"
     ]
    }
   ],
   "source": [
    "sliced_array[0:2] = [9, 8]\n",
    "print(f'sliced_array after being modified using slicing: {sliced_array}')"
   ]
  },
  {
   "cell_type": "markdown",
   "metadata": {},
   "source": [
    "##### Basic Operations without vs with Numpy\n",
    "* Vector Addition and Subtractions\n",
    "* Array Multiplication with a Scalar\n",
    "* Adding Constant to an Numpy Array (AKA broadcasting)"
   ]
  },
  {
   "cell_type": "code",
   "execution_count": 21,
   "metadata": {},
   "outputs": [
    {
     "name": "stdout",
     "output_type": "stream",
     "text": [
      "Vector u_list: [1, 0]\n",
      "Vector v_list: [0, 1]\n"
     ]
    }
   ],
   "source": [
    "u_list, v_list = [1, 0], [0, 1]\n",
    "print(f'Vector u_list: {u_list}')\n",
    "print(f'Vector v_list: {v_list}')"
   ]
  },
  {
   "cell_type": "code",
   "execution_count": 6,
   "metadata": {},
   "outputs": [
    {
     "name": "stdout",
     "output_type": "stream",
     "text": [
      "[1, 1]\n"
     ]
    }
   ],
   "source": [
    "# Adding two Vectors and appending them into a new vector add_list\n",
    "#  without Numpy\n",
    "add_list = []\n",
    "for n, m in zip(u_list, v_list):\n",
    "    add_list.append(n + m)\n",
    "print(add_list)"
   ]
  },
  {
   "cell_type": "code",
   "execution_count": 7,
   "metadata": {},
   "outputs": [
    {
     "name": "stdout",
     "output_type": "stream",
     "text": [
      "[1, -1]\n"
     ]
    }
   ],
   "source": [
    "# Subtracting two Vectors and appending them into a new vector z_list\n",
    "#  without Numpy\n",
    "subtract_list = []\n",
    "for n, m in zip(u_list, v_list):\n",
    "    subtract_list.append(n - m)\n",
    "print(subtract_list)"
   ]
  },
  {
   "cell_type": "code",
   "execution_count": 12,
   "metadata": {},
   "outputs": [
    {
     "name": "stdout",
     "output_type": "stream",
     "text": [
      "[2, 0]\n"
     ]
    }
   ],
   "source": [
    "# Multiplying a vector by a Scalar and appending them into a new vector scalar_list\n",
    "#  without Numpy\n",
    "scalar_list = []\n",
    "for n in u_list:\n",
    "    scalar_list.append(2 * n)\n",
    "print(scalar_list)"
   ]
  },
  {
   "cell_type": "code",
   "execution_count": 22,
   "metadata": {},
   "outputs": [
    {
     "name": "stdout",
     "output_type": "stream",
     "text": [
      "[0, 0]\n"
     ]
    }
   ],
   "source": [
    "# Product of two vectors and appending them into a new vector multiply_list\n",
    "#  without Numpy\n",
    "multiply_list = []\n",
    "for n, m in zip(u_list, v_list):\n",
    "    multiply_list.append(n * m)\n",
    "print(multiply_list)"
   ]
  },
  {
   "cell_type": "code",
   "execution_count": 64,
   "metadata": {},
   "outputs": [
    {
     "name": "stdout",
     "output_type": "stream",
     "text": [
      "Vector u: [1 0]\n",
      "Vector v: [0 1]\n"
     ]
    }
   ],
   "source": [
    "# Creating two vectors (1-Dimensional arrays can be viewed as vectors)\n",
    "#  with Numpy\n",
    "u, v = np.array([1, 0]), np.array([0, 1])\n",
    "print(f'Vector u: {u}')\n",
    "print(f'Vector v: {v}')"
   ]
  },
  {
   "cell_type": "code",
   "execution_count": 65,
   "metadata": {},
   "outputs": [
    {
     "name": "stdout",
     "output_type": "stream",
     "text": [
      "Vector z (z = u + v): [1 1]\n"
     ]
    }
   ],
   "source": [
    "# Adding two Vectors and storing them into a new array z\n",
    "#  using Numpy\n",
    "z = u + v\n",
    "print(f'Vector z (z = u + v): {z}')"
   ]
  },
  {
   "cell_type": "code",
   "execution_count": null,
   "metadata": {},
   "outputs": [
    {
     "name": "stdout",
     "output_type": "stream",
     "text": [
      "Vector z (z = u + v): [1 1]\n"
     ]
    }
   ],
   "source": [
    "# Subtracting two Vectors and storing them into a new array z using Numpy\n",
    "z = u + v\n",
    "print(f'Vector z (z = u + v): {z}')"
   ]
  },
  {
   "cell_type": "code",
   "execution_count": 11,
   "metadata": {},
   "outputs": [
    {
     "name": "stdout",
     "output_type": "stream",
     "text": [
      "[1 2]\n",
      "[2 4]\n"
     ]
    }
   ],
   "source": [
    "# Array Multiplication with a Scalar\n",
    "#  using Numpy\n",
    "x = np.array([1, 2])\n",
    "print(x)\n",
    "y = 2 * x\n",
    "print(y)"
   ]
  },
  {
   "cell_type": "code",
   "execution_count": 88,
   "metadata": {},
   "outputs": [
    {
     "name": "stdout",
     "output_type": "stream",
     "text": [
      "[0.         0.06346652 0.12693304 0.19039955 0.25386607 0.31733259\n",
      " 0.38079911 0.44426563 0.50773215 0.57119866 0.63466518 0.6981317\n",
      " 0.76159822 0.82506474 0.88853126 0.95199777 1.01546429 1.07893081\n",
      " 1.14239733 1.20586385 1.26933037 1.33279688 1.3962634  1.45972992\n",
      " 1.52319644 1.58666296 1.65012947 1.71359599 1.77706251 1.84052903\n",
      " 1.90399555 1.96746207 2.03092858 2.0943951  2.15786162 2.22132814\n",
      " 2.28479466 2.34826118 2.41172769 2.47519421 2.53866073 2.60212725\n",
      " 2.66559377 2.72906028 2.7925268  2.85599332 2.91945984 2.98292636\n",
      " 3.04639288 3.10985939 3.17332591 3.23679243 3.30025895 3.36372547\n",
      " 3.42719199 3.4906585  3.55412502 3.61759154 3.68105806 3.74452458\n",
      " 3.8079911  3.87145761 3.93492413 3.99839065 4.06185717 4.12532369\n",
      " 4.1887902  4.25225672 4.31572324 4.37918976 4.44265628 4.5061228\n",
      " 4.56958931 4.63305583 4.69652235 4.75998887 4.82345539 4.88692191\n",
      " 4.95038842 5.01385494 5.07732146 5.14078798 5.2042545  5.26772102\n",
      " 5.33118753 5.39465405 5.45812057 5.52158709 5.58505361 5.64852012\n",
      " 5.71198664 5.77545316 5.83891968 5.9023862  5.96585272 6.02931923\n",
      " 6.09278575 6.15625227 6.21971879 6.28318531] * [ 0.00000000e+00  6.34239197e-02  1.26592454e-01  1.89251244e-01\n",
      "  2.51147987e-01  3.12033446e-01  3.71662456e-01  4.29794912e-01\n",
      "  4.86196736e-01  5.40640817e-01  5.92907929e-01  6.42787610e-01\n",
      "  6.90079011e-01  7.34591709e-01  7.76146464e-01  8.14575952e-01\n",
      "  8.49725430e-01  8.81453363e-01  9.09631995e-01  9.34147860e-01\n",
      "  9.54902241e-01  9.71811568e-01  9.84807753e-01  9.93838464e-01\n",
      "  9.98867339e-01  9.99874128e-01  9.96854776e-01  9.89821442e-01\n",
      "  9.78802446e-01  9.63842159e-01  9.45000819e-01  9.22354294e-01\n",
      "  8.95993774e-01  8.66025404e-01  8.32569855e-01  7.95761841e-01\n",
      "  7.55749574e-01  7.12694171e-01  6.66769001e-01  6.18158986e-01\n",
      "  5.67059864e-01  5.13677392e-01  4.58226522e-01  4.00930535e-01\n",
      "  3.42020143e-01  2.81732557e-01  2.20310533e-01  1.58001396e-01\n",
      "  9.50560433e-02  3.17279335e-02 -3.17279335e-02 -9.50560433e-02\n",
      " -1.58001396e-01 -2.20310533e-01 -2.81732557e-01 -3.42020143e-01\n",
      " -4.00930535e-01 -4.58226522e-01 -5.13677392e-01 -5.67059864e-01\n",
      " -6.18158986e-01 -6.66769001e-01 -7.12694171e-01 -7.55749574e-01\n",
      " -7.95761841e-01 -8.32569855e-01 -8.66025404e-01 -8.95993774e-01\n",
      " -9.22354294e-01 -9.45000819e-01 -9.63842159e-01 -9.78802446e-01\n",
      " -9.89821442e-01 -9.96854776e-01 -9.99874128e-01 -9.98867339e-01\n",
      " -9.93838464e-01 -9.84807753e-01 -9.71811568e-01 -9.54902241e-01\n",
      " -9.34147860e-01 -9.09631995e-01 -8.81453363e-01 -8.49725430e-01\n",
      " -8.14575952e-01 -7.76146464e-01 -7.34591709e-01 -6.90079011e-01\n",
      " -6.42787610e-01 -5.92907929e-01 -5.40640817e-01 -4.86196736e-01\n",
      " -4.29794912e-01 -3.71662456e-01 -3.12033446e-01 -2.51147987e-01\n",
      " -1.89251244e-01 -1.26592454e-01 -6.34239197e-02 -2.44929360e-16]\n",
      "[3 4]\n"
     ]
    }
   ],
   "source": [
    "# Hadamard Product of two vectors\n",
    "#  using Numpy\n",
    "u, v = np.array([1, 2]), np.array([3, 2])\n",
    "print(x, \"*\", y)\n",
    "z = u * v\n",
    "print(z)"
   ]
  },
  {
   "cell_type": "code",
   "execution_count": 25,
   "metadata": {},
   "outputs": [
    {
     "name": "stdout",
     "output_type": "stream",
     "text": [
      "7\n"
     ]
    }
   ],
   "source": [
    "# Dot product of two vectors\n",
    "#  using Numpy\n",
    "dot_product_numpy = np.dot(u, v)\n",
    "print(dot_product_numpy)"
   ]
  },
  {
   "cell_type": "code",
   "execution_count": 26,
   "metadata": {},
   "outputs": [
    {
     "name": "stdout",
     "output_type": "stream",
     "text": [
      "Starting company balances of employees:\n",
      "[100 200 300 150]\n",
      "Company balances of employees after payday of $500:\n",
      "[600 700 800 650]\n"
     ]
    }
   ],
   "source": [
    "# Adding Constant to a Numpy Array (AKA broadcasting)\n",
    "balances = np.array([100, 200, 300, 150])\n",
    "print(f'Starting company balances of employees:\\n{balances}')\n",
    "balances += 500\n",
    "print(f'Company balances of employees after payday of $500:\\n{balances}')"
   ]
  },
  {
   "cell_type": "markdown",
   "metadata": {},
   "source": [
    "##### Universal Functions\n",
    "* .mean()\n",
    "* .max()\n",
    "* .min()\n",
    "* np.pi\n",
    "* np.linspace()\n",
    "* Plotting Mathematical Functions"
   ]
  },
  {
   "cell_type": "code",
   "execution_count": 32,
   "metadata": {},
   "outputs": [
    {
     "name": "stdout",
     "output_type": "stream",
     "text": [
      "Number of apples each person has: [ 3 20 31 52 13]\n"
     ]
    }
   ],
   "source": [
    "# Dummy array\n",
    "apples = np.array([3, 20, 31, 52, 13])\n",
    "print(f'Number of apples each person has: {apples}')"
   ]
  },
  {
   "cell_type": "code",
   "execution_count": 33,
   "metadata": {},
   "outputs": [
    {
     "name": "stdout",
     "output_type": "stream",
     "text": [
      "Average number of apples: 23.8\n"
     ]
    }
   ],
   "source": [
    "# Numpy Universal Function .mean() to find the average of all elements in the array\n",
    "average_apples = apples.mean()\n",
    "print(f'Average number of apples: {average_apples}')"
   ]
  },
  {
   "cell_type": "code",
   "execution_count": 35,
   "metadata": {},
   "outputs": [
    {
     "name": "stdout",
     "output_type": "stream",
     "text": [
      "Max number of apples: 52\n"
     ]
    }
   ],
   "source": [
    "# Numpy Universal Function .max() to find the average of all elements in the array\n",
    "max_apples = apples.max()\n",
    "print(f'Max number of apples: {max_apples}')"
   ]
  },
  {
   "cell_type": "code",
   "execution_count": 34,
   "metadata": {},
   "outputs": [
    {
     "name": "stdout",
     "output_type": "stream",
     "text": [
      "Max number of apples: 3\n"
     ]
    }
   ],
   "source": [
    "# Numpy Universal Function .max() to find the average of all elements in the array\n",
    "min_apples = apples.min()\n",
    "print(f'Max number of apples: {min_apples}')"
   ]
  },
  {
   "cell_type": "code",
   "execution_count": 39,
   "metadata": {},
   "outputs": [
    {
     "name": "stdout",
     "output_type": "stream",
     "text": [
      "[0.0000000e+00 1.0000000e+00 1.2246468e-16]\n"
     ]
    }
   ],
   "source": [
    "# Using Pi with Numpy\n",
    "X = np.array([0, np.pi/2, np.pi])\n",
    "Y = np.sin(X)\n",
    "print(Y)"
   ]
  },
  {
   "cell_type": "code",
   "execution_count": 47,
   "metadata": {},
   "outputs": [
    {
     "name": "stdout",
     "output_type": "stream",
     "text": [
      "[-2. -1.  0.  1.  2.]\n",
      "[-2.  -1.5 -1.  -0.5  0.   0.5  1.   1.5  2. ]\n",
      "[-10.  -5.   0.   5.  10.]\n"
     ]
    }
   ],
   "source": [
    "# Multiple examples of the use of np.linspace() to create evenly spaced intervals between two numbers\n",
    "# First Input is the starting value\n",
    "# Second Input is the ending value\n",
    "# num is the number of numbers to generate\n",
    "print(np.linspace(-2, 2, num=5))\n",
    "print(np.linspace(-2, 2, num=9))\n",
    "print(np.linspace(-10, 10, num=5))"
   ]
  },
  {
   "cell_type": "markdown",
   "metadata": {},
   "source": [
    "Plotting Mathematical Functions (will be expanded upon next week of the course)"
   ]
  },
  {
   "cell_type": "code",
   "execution_count": 54,
   "metadata": {},
   "outputs": [],
   "source": [
    "import matplotlib.pyplot as plt\n",
    "%matplotlib inline"
   ]
  },
  {
   "cell_type": "code",
   "execution_count": 53,
   "metadata": {},
   "outputs": [],
   "source": [
    "x = np.linspace(0, 2*np.pi, 100)\n",
    "y = np.sin(x)"
   ]
  },
  {
   "cell_type": "code",
   "execution_count": 55,
   "metadata": {},
   "outputs": [
    {
     "data": {
      "text/plain": [
       "[<matplotlib.lines.Line2D at 0x1b854d238b0>]"
      ]
     },
     "execution_count": 55,
     "metadata": {},
     "output_type": "execute_result"
    },
    {
     "data": {
      "image/png": "[encoded data removed]",
      "text/plain": [
       "<Figure size 432x288 with 1 Axes>"
      ]
     },
     "metadata": {
      "needs_background": "light"
     },
     "output_type": "display_data"
    }
   ],
   "source": [
    "plt.plot(x, y)"
   ]
  },
  {
   "cell_type": "markdown",
   "metadata": {},
   "source": [
    "#### Two-Dimensional Numpy\n",
    "* The Basics and Array Creation in 2D\n",
    "* Indexing and Slicing in 2D\n",
    "* Basic Operations in 2D"
   ]
  },
  {
   "cell_type": "code",
   "execution_count": 72,
   "metadata": {},
   "outputs": [
    {
     "data": {
      "text/plain": [
       "[[11, 12, 13], [21, 22, 23], [31, 32, 33]]"
      ]
     },
     "execution_count": 72,
     "metadata": {},
     "output_type": "execute_result"
    }
   ],
   "source": [
    "# Two Dimensional Python List: a\n",
    "a = [[11, 12, 13], [21, 22, 23], [31, 32, 33]]\n",
    "a"
   ]
  },
  {
   "cell_type": "code",
   "execution_count": 65,
   "metadata": {},
   "outputs": [
    {
     "name": "stdout",
     "output_type": "stream",
     "text": [
      "[[11 12 13]\n",
      " [21 22 23]\n",
      " [31 32 33]]\n"
     ]
    }
   ],
   "source": [
    "# The same list inserted into a Numpy 2D array: A\n",
    "A = np.array(a)\n",
    "print(A)"
   ]
  },
  {
   "cell_type": "code",
   "execution_count": 67,
   "metadata": {},
   "outputs": [
    {
     "name": "stdout",
     "output_type": "stream",
     "text": [
      "Number of dimensions array A has: 2\n"
     ]
    }
   ],
   "source": [
    "# .ndim on a 2D Numpy array\n",
    "print(f'Number of dimensions array A has: {A.ndim}')"
   ]
  },
  {
   "cell_type": "code",
   "execution_count": 68,
   "metadata": {},
   "outputs": [
    {
     "name": "stdout",
     "output_type": "stream",
     "text": [
      "Shape of array A: (3, 3)\n"
     ]
    }
   ],
   "source": [
    "# .shape on a 2D Numpy array\n",
    "print(f'Shape of array A: {A.shape}')"
   ]
  },
  {
   "cell_type": "code",
   "execution_count": 69,
   "metadata": {},
   "outputs": [
    {
     "name": "stdout",
     "output_type": "stream",
     "text": [
      "Size of array A: 9\n"
     ]
    }
   ],
   "source": [
    "# .size on a 2D Numpy array\n",
    "print(f'Size of array A: {A.size}')"
   ]
  },
  {
   "cell_type": "code",
   "execution_count": null,
   "metadata": {},
   "outputs": [
    {
     "name": "stdout",
     "output_type": "stream",
     "text": [
      "Shape of array A: (3, 3)\n"
     ]
    }
   ],
   "source": [
    "# .shape on a 2D Numpy array\n",
    "print(f'Shape of array A: {A.shape}')"
   ]
  },
  {
   "cell_type": "code",
   "execution_count": 78,
   "metadata": {},
   "outputs": [
    {
     "name": "stdout",
     "output_type": "stream",
     "text": [
      "[[11 12 13]\n",
      " [21 22 23]\n",
      " [31 32 33]]\n",
      "Array A[0][0]: 11\n",
      "Array A[0][2]: 13\n",
      "Array A[1][1]: 22\n",
      "Array A[2][2]: 33\n",
      "Array A[-1][-1]: 33\n"
     ]
    }
   ],
   "source": [
    "# Accessing 2D Numpy Arrays: A\n",
    "print(A)\n",
    "print(f'Array A[0][0]: {A[0][0]}')\n",
    "print(f'Array A[0][2]: {A[0][2]}')\n",
    "print(f'Array A[1][1]: {A[1][1]}')\n",
    "print(f'Array A[2][2]: {A[2][2]}')\n",
    "print(f'Array A[-1][-1]: {A[-1][-1]}')"
   ]
  },
  {
   "cell_type": "code",
   "execution_count": 79,
   "metadata": {},
   "outputs": [
    {
     "name": "stdout",
     "output_type": "stream",
     "text": [
      "B (B = A[0:2, 2]): [13 23]\n"
     ]
    }
   ],
   "source": [
    "# Slicing 2d Numpy Arrays\n",
    "B = A[0:2, 2]\n",
    "print(f'B (B = A[0:2, 2]): {A[0:2, 2]}')"
   ]
  },
  {
   "cell_type": "code",
   "execution_count": 85,
   "metadata": {},
   "outputs": [
    {
     "name": "stdout",
     "output_type": "stream",
     "text": [
      "Array X:\n",
      "[[1 0]\n",
      " [0 1]]\n",
      "Array Y:\n",
      "[[2 1]\n",
      " [1 2]]\n",
      "Array Z (Z = X + Y):\n",
      "[[3 1]\n",
      " [1 3]]\n"
     ]
    }
   ],
   "source": [
    "# Adding 2D Arrays\n",
    "X = np.array([[1, 0], [0, 1]])\n",
    "print(f'Array X:\\n{X}')\n",
    "\n",
    "Y = np.array([[2, 1], [1, 2]])\n",
    "print(f'Array Y:\\n{Y}')\n",
    "\n",
    "Z = X + Y\n",
    "print(f'Array Z (Z = X + Y):\\n{Z}')"
   ]
  },
  {
   "cell_type": "code",
   "execution_count": 86,
   "metadata": {},
   "outputs": [
    {
     "name": "stdout",
     "output_type": "stream",
     "text": [
      "Array Y:\n",
      "[[2 1]\n",
      " [1 2]]\n",
      "Array two_Y (two_Y = 2 * Y):\n",
      "[[4 2]\n",
      " [2 4]]\n"
     ]
    }
   ],
   "source": [
    "# Multipling Numpy 2D Array by a Scalar\n",
    "print(f'Array Y:\\n{Y}')\n",
    "\n",
    "two_Y = 2 * Y\n",
    "print(f'Array two_Y (two_Y = 2 * Y):\\n{two_Y}')"
   ]
  },
  {
   "cell_type": "code",
   "execution_count": 89,
   "metadata": {},
   "outputs": [
    {
     "name": "stdout",
     "output_type": "stream",
     "text": [
      "Array X:\n",
      "[[1 0]\n",
      " [0 1]]\n",
      "Array Y:\n",
      "[[2 1]\n",
      " [1 2]]\n",
      "Array X_times_Y (X_times_Y = X * Y):\n",
      "[[2 0]\n",
      " [0 2]]\n"
     ]
    }
   ],
   "source": [
    "# Hadamard Product of Multiplying two 2D Arrays X and Y\n",
    "print(f'Array X:\\n{X}')\n",
    "print(f'Array Y:\\n{Y}')\n",
    "\n",
    "X_times_Y = X * Y\n",
    "print(f'Array X_times_Y (X_times_Y = X * Y):\\n{X_times_Y}')"
   ]
  },
  {
   "cell_type": "code",
   "execution_count": 92,
   "metadata": {},
   "outputs": [
    {
     "name": "stdout",
     "output_type": "stream",
     "text": [
      "Array X:\n",
      "[[0 1 1]\n",
      " [1 0 1]]\n",
      "Array Y:\n",
      "[[ 1  1]\n",
      " [ 1  1]\n",
      " [-1  1]]\n",
      "Array C (C = np.dot(A, B)):\n",
      "[[0 2]\n",
      " [0 2]]\n"
     ]
    }
   ],
   "source": [
    "# Dot Product of Multiplying two 2D Arrays A and B\n",
    "# Array A n*m shape\n",
    "# Array B m*n shape\n",
    "A = np.array([[0, 1, 1], [1, 0, 1]])\n",
    "print(f'Array X:\\n{A}')\n",
    "\n",
    "B = np.array([[1, 1], [1, 1], [-1, 1]])\n",
    "print(f'Array Y:\\n{B}')\n",
    "\n",
    "C = np.dot(A, B)\n",
    "print(f'Array C (C = np.dot(A, B)):\\n{C}')"
   ]
  }
 ],
 "metadata": {
  "kernelspec": {
   "display_name": "Python 3.10.4 64-bit",
   "language": "python",
   "name": "python3"
  },
  "language_info": {
   "codemirror_mode": {
    "name": "ipython",
    "version": 3
   },
   "file_extension": ".py",
   "mimetype": "text/x-python",
   "name": "python",
   "nbconvert_exporter": "python",
   "pygments_lexer": "ipython3",
   "version": "3.10.4"
  },
  "orig_nbformat": 4,
  "vscode": {
   "interpreter": {
    "hash": "369f2c481f4da34e4445cda3fffd2e751bd1c4d706f27375911949ba6bb62e1c"
   }
  }
 },
 "nbformat": 4,
 "nbformat_minor": 2
}
