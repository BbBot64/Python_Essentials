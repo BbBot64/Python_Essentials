{
 "cells": [
  {
   "cell_type": "markdown",
   "metadata": {},
   "source": [
    "# Python Data Structures\n",
    "* Author: Jason J Ortiz Jr \n",
    "* Github Repository: https://github.com/BbBot64/Python_Essentials \n",
    "\n",
    "* Built-In Python Data Structures:\n",
    "* --> Lists & Tuples\n",
    "* --> Dictionaries\n",
    "* --> Sets\n"
   ]
  },
  {
   "cell_type": "markdown",
   "metadata": {},
   "source": [
    "## Lists & Tuples"
   ]
  },
  {
   "cell_type": "markdown",
   "metadata": {},
   "source": [
    "### Tuples\n",
    "* Tuples are an ordered sequence\n",
    "* Tuples are written as comma-separated elements within parentheses\n",
    "* Elements can be any/mixed data-types: Including other tuples (Tuple Nesting)\n",
    "* Tuples can be concatenated\n",
    "* Tuples can be sliced\n",
    "* Tuples are Immutable"
   ]
  },
  {
   "cell_type": "code",
   "execution_count": 24,
   "metadata": {},
   "outputs": [
    {
     "name": "stdout",
     "output_type": "stream",
     "text": [
      "Full Tuple: ('disco', 10, 1.2)\n",
      "Full Tuple Length: 3\n",
      "\n",
      "Element 0: disco\n",
      "Element 1: 10\n",
      "Element 2: 1.2\n",
      "\n",
      "Element -2: 10\n",
      "Element -1: 1.2\n",
      "Element 0: disco\n"
     ]
    }
   ],
   "source": [
    "mixed_data_type_tuple = ('disco', 10, 1.2)\n",
    "\n",
    "print(f'Full Tuple: {mixed_data_type_tuple}')\n",
    "print(f'Full Tuple Length: {len(mixed_data_type_tuple)}\\n')\n",
    "\n",
    "print(f'Element 0: {mixed_data_type_tuple[0]}')\n",
    "print(f'Element 1: {mixed_data_type_tuple[1]}')\n",
    "print(f'Element 2: {mixed_data_type_tuple[2]}\\n')\n",
    "\n",
    "print(f'Element -2: {mixed_data_type_tuple[-2]}')\n",
    "print(f'Element -1: {mixed_data_type_tuple[-1]}')\n",
    "print(f'Element 0: {mixed_data_type_tuple[0]}')"
   ]
  },
  {
   "cell_type": "markdown",
   "metadata": {},
   "source": [
    "##### Concatenating Tuples"
   ]
  },
  {
   "cell_type": "code",
   "execution_count": 25,
   "metadata": {},
   "outputs": [
    {
     "name": "stdout",
     "output_type": "stream",
     "text": [
      "Concatenated Tuple: ('disco', 10, 1.2, 'hard rock', 10)\n"
     ]
    }
   ],
   "source": [
    "add_on_tuple = ('hard rock', 10)\n",
    "concatenated_tuple = mixed_data_type_tuple + add_on_tuple\n",
    "print(f'Concatenated Tuple: {concatenated_tuple}')"
   ]
  },
  {
   "cell_type": "markdown",
   "metadata": {},
   "source": [
    "##### Slicing Tuples"
   ]
  },
  {
   "cell_type": "code",
   "execution_count": 17,
   "metadata": {},
   "outputs": [
    {
     "name": "stdout",
     "output_type": "stream",
     "text": [
      "Tuple Slice 1: (10, 1.2, 'hard rock')\n"
     ]
    }
   ],
   "source": [
    "tuple_slice_1 = concatenated_tuple[1:4]\n",
    "print(f'Tuple Slice 1: {tuple_slice_1}')"
   ]
  },
  {
   "cell_type": "code",
   "execution_count": 19,
   "metadata": {},
   "outputs": [
    {
     "name": "stdout",
     "output_type": "stream",
     "text": [
      "Tuple Slice 2: (1.2, 'hard rock', 10)\n"
     ]
    }
   ],
   "source": [
    "tuple_slice_2 = concatenated_tuple[2:5]\n",
    "print(f'Tuple Slice 2: {tuple_slice_2}')"
   ]
  },
  {
   "cell_type": "markdown",
   "metadata": {},
   "source": [
    "##### Tuples are Immutable\n",
    "* But can be sorted"
   ]
  },
  {
   "cell_type": "code",
   "execution_count": 23,
   "metadata": {},
   "outputs": [
    {
     "name": "stdout",
     "output_type": "stream",
     "text": [
      "Unsorted Tuple: (10, 9, 6, 5, 10, 8, 9, 6, 2)\n",
      "Sorted Tuple: [2, 5, 6, 6, 8, 9, 9, 10, 10]\n"
     ]
    }
   ],
   "source": [
    "ratings = (10, 9, 6, 5, 10, 8, 9, 6, 2)\n",
    "ratings_sorted = sorted(ratings)\n",
    "print(f'Unsorted Tuple: {ratings}')\n",
    "print(f'Sorted Tuple: {ratings_sorted}')\n"
   ]
  },
  {
   "cell_type": "markdown",
   "metadata": {},
   "source": [
    "##### Tuple Nesting"
   ]
  },
  {
   "cell_type": "code",
   "execution_count": 38,
   "metadata": {},
   "outputs": [
    {
     "name": "stdout",
     "output_type": "stream",
     "text": [
      "Full Nested Tuple: (1, 2, ('pop', 'rock'), (3, 4), ('disco', (1, 2)))\n",
      "\n",
      "First Nested Tuple: ('pop', 'rock')\n",
      "Second Element of First Nested Tuple: rock\n",
      "\n",
      "('disco', (1, 2))\n",
      "Last Element of Last Nested Tuple: 2\n"
     ]
    }
   ],
   "source": [
    "nested_tuple = (1, 2, (\"pop\", \"rock\"), (3, 4), (\"disco\", (1, 2)))\n",
    "print(f'Full Nested Tuple: {nested_tuple}\\n')\n",
    "\n",
    "print(f'First Nested Tuple: {nested_tuple[2]}')\n",
    "print(f'Second Element of First Nested Tuple: {nested_tuple[2][1]}\\n')\n",
    "\n",
    "print(nested_tuple[4])\n",
    "print(f'Last Element of Last Nested Tuple: {nested_tuple[-1][-1][-1]}')"
   ]
  },
  {
   "cell_type": "markdown",
   "metadata": {},
   "source": [
    "### Lists\n",
    "* Lists are also Ordered sequences\n",
    "* Lists are Mutable\n",
    "* Lists can contain elements of any/mixed data-types, including other lists or tuples (List Nesting)\n",
    "* "
   ]
  },
  {
   "cell_type": "code",
   "execution_count": 78,
   "metadata": {},
   "outputs": [
    {
     "name": "stdout",
     "output_type": "stream",
     "text": [
      "Full List: ['Alan Turing', 10.1, 1912]\n",
      "First Element of List: Alan Turing\n",
      "Last ELement of List: 1912\n"
     ]
    }
   ],
   "source": [
    "full_list = ['Alan Turing', 10.1, 1912]\n",
    "print(f'Full List: {full_list}')\n",
    "\n",
    "print(f'First Element of List: {full_list[0]}')\n",
    "print(f'Last ELement of List: {full_list[-1]}')"
   ]
  },
  {
   "cell_type": "markdown",
   "metadata": {},
   "source": [
    "#### List Concatenation\n",
    "* Adding lists\n",
    "* .extend() adds the items to the list"
   ]
  },
  {
   "cell_type": "code",
   "execution_count": 79,
   "metadata": {},
   "outputs": [
    {
     "name": "stdout",
     "output_type": "stream",
     "text": [
      "Full List: ['Alan Turing', 10.1, 1912]\n",
      "\n",
      "List to be added onto Full List: ['AT', 1]\n",
      "Concatenated List: ['Alan Turing', 10.1, 1912, 'AT', 1]\n"
     ]
    }
   ],
   "source": [
    "print(f'Full List: {full_list}\\n')\n",
    "\n",
    "initials = full_list[0][0] + full_list[0][5]\n",
    "add_on_list = [initials, 1]\n",
    "print(f'List to be added onto Full List: {add_on_list}')\n",
    "\n",
    "concatenated_list = full_list + add_on_list\n",
    "print(f'Concatenated List: {concatenated_list}')"
   ]
  },
  {
   "cell_type": "markdown",
   "metadata": {},
   "source": [
    "OR"
   ]
  },
  {
   "cell_type": "code",
   "execution_count": 80,
   "metadata": {},
   "outputs": [
    {
     "name": "stdout",
     "output_type": "stream",
     "text": [
      "Full List: ['Alan Turing', 10.1, 1912]\n",
      "\n",
      "List to be added onto Full List: ['AT', 1]\n",
      "Concatenated List (using .extend()): ['Alan Turing', 10.1, 1912, 'AT', 1]\n"
     ]
    }
   ],
   "source": [
    "print(f'Full List: {full_list}\\n')\n",
    "\n",
    "print(f'List to be added onto Full List: {add_on_list}')\n",
    "\n",
    "full_list.extend(add_on_list)\n",
    "print(f'Concatenated List (using .extend()): {full_list}')"
   ]
  },
  {
   "cell_type": "markdown",
   "metadata": {},
   "source": [
    "#### List Slicing"
   ]
  },
  {
   "cell_type": "code",
   "execution_count": 81,
   "metadata": {},
   "outputs": [
    {
     "name": "stdout",
     "output_type": "stream",
     "text": [
      "List Slice 1: ['AT', 1]\n"
     ]
    }
   ],
   "source": [
    "list_slice_1 = concatenated_list[3:5]\n",
    "print(f'List Slice 1: {list_slice_1}')"
   ]
  },
  {
   "cell_type": "code",
   "execution_count": 82,
   "metadata": {},
   "outputs": [
    {
     "name": "stdout",
     "output_type": "stream",
     "text": [
      "List Slice 2: ['Alan Turing', 10.1, 1912]\n"
     ]
    }
   ],
   "source": [
    "list_slice_2 = concatenated_list[-5:-2]\n",
    "print(f'List Slice 2: {list_slice_2}')"
   ]
  },
  {
   "cell_type": "markdown",
   "metadata": {},
   "source": [
    "#### List Appending"
   ]
  },
  {
   "cell_type": "code",
   "execution_count": 83,
   "metadata": {},
   "outputs": [
    {
     "name": "stdout",
     "output_type": "stream",
     "text": [
      "Full List: ['Alan Turing', 10.1, 1912, 'AT', 1]\n",
      "\n",
      "Appended List: ['Alan Turing', 10.1, 1912, 'AT', 1, ['Father of Artificial Intilligence', 'Machine Learning']]\n"
     ]
    }
   ],
   "source": [
    "print(f'Full List: {full_list}\\n')\n",
    "add_on_list_2 = ['Father of Artificial Intilligence', 'Machine Learning']\n",
    "full_list.append(add_on_list_2)\n",
    "print(f'Appended List: {full_list}')"
   ]
  },
  {
   "cell_type": "markdown",
   "metadata": {},
   "source": [
    "#### List Mutability"
   ]
  },
  {
   "cell_type": "code",
   "execution_count": 84,
   "metadata": {},
   "outputs": [
    {
     "name": "stdout",
     "output_type": "stream",
     "text": [
      "Full List: ['Alan Turing', 10.1, 1912, 'AT', 1, ['Father of Artificial Intilligence', 'Machine Learning']]\n",
      "\n",
      "Full List after modifying element 5: ['Alan Turing', 10.1, 1912, 'AT', '41 Years Old', ['Father of Artificial Intilligence', 'Machine Learning']]\n"
     ]
    }
   ],
   "source": [
    "print(f'Full List: {full_list}\\n')\n",
    "full_list[4] = '41 Years Old'\n",
    "print(f'Full List after modifying element 5: {full_list}')"
   ]
  },
  {
   "cell_type": "markdown",
   "metadata": {},
   "source": [
    "#### Deleting an Element from a List"
   ]
  },
  {
   "cell_type": "code",
   "execution_count": 86,
   "metadata": {},
   "outputs": [
    {
     "name": "stdout",
     "output_type": "stream",
     "text": [
      "Full List: ['Alan Turing', 10.1, 1912, 'AT', '41 Years Old', ['Father of Artificial Intilligence', 'Machine Learning']]\n",
      "\n",
      "Full List after Deleting: ['Alan Turing', 1912, 'AT', '41 Years Old', ['Father of Artificial Intilligence', 'Machine Learning']]\n"
     ]
    }
   ],
   "source": [
    "print(f'Full List: {full_list}\\n')\n",
    "del(full_list[1])\n",
    "print(f'Full List after Deleting: {full_list}')"
   ]
  },
  {
   "cell_type": "markdown",
   "metadata": {},
   "source": [
    "#### Turning a String into a List"
   ]
  },
  {
   "cell_type": "code",
   "execution_count": 92,
   "metadata": {},
   "outputs": [
    {
     "name": "stdout",
     "output_type": "stream",
     "text": [
      "Compound String \"Machine Learning\" -> List of strings ['Machine', 'Learning']\n"
     ]
    }
   ],
   "source": [
    "example_compound_string_1 = \"Machine Learning\"\n",
    "string_to_list_1 = example_compound_string_1.split()\n",
    "print(f'Compound String \"{example_compound_string_1}\" -> List of strings {string_to_list_1}')"
   ]
  },
  {
   "cell_type": "code",
   "execution_count": 94,
   "metadata": {},
   "outputs": [
    {
     "name": "stdout",
     "output_type": "stream",
     "text": [
      "Compound String \"Machine Learning, Data Science, Data Analytics, Data Engineering, Python, SQL\" -> List of strings ['Machine Learning', 'Data Science', 'Data Analytics', 'Data Engineering', 'Python', 'SQL']\n"
     ]
    }
   ],
   "source": [
    "example_compound_string_2 = \"Machine Learning, Data Science, Data Analytics, Data Engineering, Python, SQL\"\n",
    "string_to_list_2 = example_compound_string_2.split(', ')\n",
    "print(f'Compound String \"{example_compound_string_2}\" -> List of strings {string_to_list_2}')"
   ]
  }
 ],
 "metadata": {
  "kernelspec": {
   "display_name": "Python 3.10.4 ('Python_Essentials_Github')",
   "language": "python",
   "name": "python3"
  },
  "language_info": {
   "codemirror_mode": {
    "name": "ipython",
    "version": 3
   },
   "file_extension": ".py",
   "mimetype": "text/x-python",
   "name": "python",
   "nbconvert_exporter": "python",
   "pygments_lexer": "ipython3",
   "version": "3.10.4"
  },
  "orig_nbformat": 4,
  "vscode": {
   "interpreter": {
    "hash": "a92a794119949382cfb5b11c14ff263b01df46fe10f9c42f8aa7fc83345d2959"
   }
  }
 },
 "nbformat": 4,
 "nbformat_minor": 2
}
