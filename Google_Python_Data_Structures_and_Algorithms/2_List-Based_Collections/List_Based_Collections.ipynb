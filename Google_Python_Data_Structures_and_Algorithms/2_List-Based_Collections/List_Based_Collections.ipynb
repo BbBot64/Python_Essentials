{
 "cells": [
  {
   "cell_type": "markdown",
   "metadata": {},
   "source": [
    "# Google/Udemy DSA Course: List-Based Collections"
   ]
  },
  {
   "cell_type": "markdown",
   "metadata": {},
   "source": [
    "## Welcome to Collections\n",
    "Collections include, but aren't limited to:\n",
    "* Lists\n",
    "* Arrays\n",
    "* Linked Lists\n",
    "* Stacks\n",
    "\n",
    "Properties of Collections (with exceptions):\n",
    "* Store multiple items\n",
    "* No inherent order\n",
    "* Don't need to have the same time of object\n"
   ]
  },
  {
   "cell_type": "markdown",
   "metadata": {},
   "source": [
    "### Lists\n",
    "* Have an order\n",
    "* "
   ]
  },
  {
   "cell_type": "markdown",
   "metadata": {},
   "source": [
    "### Arrays"
   ]
  },
  {
   "cell_type": "markdown",
   "metadata": {},
   "source": []
  },
  {
   "cell_type": "markdown",
   "metadata": {},
   "source": [
    "### Python Lists"
   ]
  },
  {
   "cell_type": "markdown",
   "metadata": {},
   "source": []
  },
  {
   "cell_type": "markdown",
   "metadata": {},
   "source": [
    "### Linked Lists"
   ]
  },
  {
   "cell_type": "code",
   "execution_count": 12,
   "metadata": {},
   "outputs": [],
   "source": [
    "\"\"\"The LinkedList code from before is provided below.\n",
    "Add three functions to the LinkedList.\n",
    "\"get_position\" returns the node/element at a certain position.\n",
    "The \"insert\" function will add an node/element to a particular\n",
    "spot in the list.\n",
    "\"delete\" will delete the first node/element with that\n",
    "particular value.\"\"\"\n",
    "\n",
    "class Node(object):\n",
    "\n",
    "\n",
    "    def __init__(self, value):\n",
    "        self.value = value\n",
    "        self.next = None\n",
    "\n",
    "class LinkedList(object):\n",
    "    def __init__(self, head=None):\n",
    "        self.head = head\n",
    "\n",
    "    def append(self, new_node):\n",
    "        current = self.head\n",
    "        if self.head:\n",
    "            while(current.next):\n",
    "                current = current.next\n",
    "            current.next = new_node\n",
    "\n",
    "    def print_linked_list(self):\n",
    "        # create an empty list to later store the contents of the linked list\n",
    "        values = []\n",
    "        # current is the first node in the linked list\n",
    "        current = self.head\n",
    "        # loop until the end of the linked list\n",
    "        while current:\n",
    "            # append the values of each node of the linked list to the values list\n",
    "            values.append(current.value)\n",
    "            # move to the next node on the list\n",
    "            current = current.next\n",
    "        return values\n",
    "    \n",
    "    def get_position(self, position):\n",
    "        \"\"\"Get an element from a particular position.\n",
    "        Assume the first position is \"1\".\n",
    "        Return \"None\" if position is not in the list.\"\"\"\n",
    "        # Assume the first position is \"1\"\n",
    "        current_position = 1\n",
    "        # current is the first node in the linked list\n",
    "        current = self.head\n",
    "        # None if the position is an invalid number: aka 0 or negative\n",
    "        if position < 1:\n",
    "            return None\n",
    "        # Loop until either the end of the linked list or the given position is reached\n",
    "        while current and current_position <= position:\n",
    "            # return the element found at the given position if found\n",
    "            if current_position == position:\n",
    "                return current\n",
    "            # move to the next node in the linked list\n",
    "            # guarenteed to exist due to while loop condition\n",
    "            current = current.next\n",
    "            # increase the position to match the node position \n",
    "            current_position += 1\n",
    "        # return None if the position is not in the list.\n",
    "        return None\n",
    "        \n",
    "    \n",
    "    def insert(self, new_node, position):\n",
    "        \"\"\"Insert a new node at the given position.\n",
    "        Assume the first position is \"1\".\n",
    "        Inserting at position 3 means between\n",
    "        the 2nd and 3rd nodes/elements.\"\"\"\n",
    "        current_position = 1\n",
    "        current = self.head\n",
    "        if position > 1:\n",
    "            while current and current_position < position:\n",
    "                if current_position == position - 1:\n",
    "                    new_node.next = current.next\n",
    "                    current.next = new_node\n",
    "                current = current.next\n",
    "                current_position += 1\n",
    "        elif position == 1:\n",
    "            new_node.next = self.head\n",
    "            self.head = new_node\n",
    "\n",
    "    def delete(self, value):\n",
    "        \"\"\"Delete the first node with a given value.\"\"\"\n",
    "        current = self.head\n",
    "        previous = None\n",
    "        while current.value != value and current.next:\n",
    "            previous = current\n",
    "            current = current.next\n",
    "        if self.head.value == value:\n",
    "            if previous:\n",
    "                previous.next = current.next\n",
    "            else:\n",
    "                self.head = current.next\n",
    "        "
   ]
  },
  {
   "cell_type": "markdown",
   "metadata": {},
   "source": [
    "#### Test Cases"
   ]
  },
  {
   "cell_type": "markdown",
   "metadata": {},
   "source": [
    "Set up some Nodes/Elements"
   ]
  },
  {
   "cell_type": "code",
   "execution_count": 2,
   "metadata": {},
   "outputs": [],
   "source": [
    "node_1 = Node(1)\n",
    "node_2 = Node(2)\n",
    "node_3 = Node(3)\n",
    "node_4 = Node(4)"
   ]
  },
  {
   "cell_type": "markdown",
   "metadata": {},
   "source": [
    "Start setting up a LinkedList"
   ]
  },
  {
   "cell_type": "code",
   "execution_count": 3,
   "metadata": {},
   "outputs": [
    {
     "name": "stdout",
     "output_type": "stream",
     "text": [
      "1\n"
     ]
    }
   ],
   "source": [
    "linked_list_1 = LinkedList(node_1)\n",
    "# Should be 1\n",
    "print(linked_list_1.head.value)"
   ]
  },
  {
   "cell_type": "code",
   "execution_count": 6,
   "metadata": {},
   "outputs": [],
   "source": [
    "# Finish appending elements\n",
    "linked_list_1.append(node_2)\n",
    "linked_list_1.append(node_3)"
   ]
  },
  {
   "cell_type": "code",
   "execution_count": 7,
   "metadata": {},
   "outputs": [
    {
     "name": "stdout",
     "output_type": "stream",
     "text": [
      "[1, 2, 3]\n"
     ]
    }
   ],
   "source": [
    "# Test print_linked_list()\n",
    "print(linked_list_1.print_linked_list())"
   ]
  },
  {
   "cell_type": "code",
   "execution_count": 8,
   "metadata": {},
   "outputs": [
    {
     "name": "stdout",
     "output_type": "stream",
     "text": [
      "3\n",
      "3\n"
     ]
    }
   ],
   "source": [
    "# Test get_position()\n",
    "# Should print 3\n",
    "print(linked_list_1.head.next.next.value)\n",
    "# Should also print 3\n",
    "print(linked_list_1.get_position(3).value)"
   ]
  },
  {
   "cell_type": "code",
   "execution_count": 9,
   "metadata": {},
   "outputs": [
    {
     "name": "stdout",
     "output_type": "stream",
     "text": [
      "4\n"
     ]
    }
   ],
   "source": [
    "# Test insert()\n",
    "linked_list_1.insert(node_4, 3)\n",
    "# Should print 4 now\n",
    "print(linked_list_1.get_position(3).value)"
   ]
  },
  {
   "cell_type": "code",
   "execution_count": 11,
   "metadata": {},
   "outputs": [
    {
     "name": "stdout",
     "output_type": "stream",
     "text": [
      "[1, 2, 4, 3]\n"
     ]
    }
   ],
   "source": [
    "# Test delete()\n",
    "linked_list_1.delete(1)\n",
    "# Should be [2, 2, 3]\n",
    "print(linked_list_1.print_linked_list())"
   ]
  },
  {
   "cell_type": "markdown",
   "metadata": {},
   "source": [
    "### Stacks"
   ]
  },
  {
   "cell_type": "markdown",
   "metadata": {},
   "source": []
  }
 ],
 "metadata": {
  "kernelspec": {
   "display_name": "Python 3.10.4 64-bit",
   "language": "python",
   "name": "python3"
  },
  "language_info": {
   "codemirror_mode": {
    "name": "ipython",
    "version": 3
   },
   "file_extension": ".py",
   "mimetype": "text/x-python",
   "name": "python",
   "nbconvert_exporter": "python",
   "pygments_lexer": "ipython3",
   "version": "3.10.4"
  },
  "orig_nbformat": 4,
  "vscode": {
   "interpreter": {
    "hash": "369f2c481f4da34e4445cda3fffd2e751bd1c4d706f27375911949ba6bb62e1c"
   }
  }
 },
 "nbformat": 4,
 "nbformat_minor": 2
}
