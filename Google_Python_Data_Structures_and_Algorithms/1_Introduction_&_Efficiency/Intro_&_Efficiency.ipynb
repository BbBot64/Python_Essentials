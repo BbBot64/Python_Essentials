{
 "cells": [
  {
   "cell_type": "markdown",
   "metadata": {},
   "source": [
    "# Google/Udemy DSA Course: Introduction and Efficiency"
   ]
  },
  {
   "cell_type": "markdown",
   "metadata": {},
   "source": [
    "## Python Practice"
   ]
  },
  {
   "cell_type": "code",
   "execution_count": 25,
   "metadata": {},
   "outputs": [],
   "source": [
    "\"\"\"You can use this class to represent how classy someone\n",
    "or something is.\n",
    "\"Classy\" is interchangable with \"fancy\".\n",
    "If you add fancy-looking items, you will increase\n",
    "your \"classiness\".\n",
    "Create a function in \"Classy\" that takes a string as\n",
    "input and adds it to the \"items\" list.\n",
    "Another method should calculate the \"classiness\"\n",
    "value based on the items.\n",
    "The following items have classiness points associated\n",
    "with them:\n",
    "\"tophat\" = 2\n",
    "\"bowtie\" = 4\n",
    "\"monocle\" = 5\n",
    "Everything else has 0 points.\n",
    "Use the test cases below to guide you!\"\"\"\n",
    "\n",
    "class Classy(object):\n",
    "    def __init__(self):\n",
    "        self.items = []\n",
    "    \n",
    "    def addItem(self, item):\n",
    "        self.items.append(item)\n",
    "\n",
    "    def getClassiness(self):\n",
    "        classiness = 0\n",
    "        for item in self.items:\n",
    "            if(item == \"tophat\"):\n",
    "                classiness += 2\n",
    "            elif(item == \"bowtie\"):\n",
    "                classiness += 4\n",
    "            elif(item == \"monocle\"):\n",
    "                classiness += 5\n",
    "            else:\n",
    "                classiness += 0\n",
    "        return classiness"
   ]
  },
  {
   "cell_type": "code",
   "execution_count": 26,
   "metadata": {},
   "outputs": [],
   "source": [
    "# Test Cases\n",
    "me = Classy()"
   ]
  },
  {
   "cell_type": "code",
   "execution_count": 27,
   "metadata": {},
   "outputs": [
    {
     "name": "stdout",
     "output_type": "stream",
     "text": [
      "0\n"
     ]
    }
   ],
   "source": [
    "# Should be 0\n",
    "print(me.getClassiness())"
   ]
  },
  {
   "cell_type": "code",
   "execution_count": 28,
   "metadata": {},
   "outputs": [
    {
     "name": "stdout",
     "output_type": "stream",
     "text": [
      "['tophat']\n",
      "2\n"
     ]
    }
   ],
   "source": [
    "me.addItem(\"tophat\")\n",
    "\n",
    "# Should be 2\n",
    "print(me.items)\n",
    "print(me.getClassiness())"
   ]
  },
  {
   "cell_type": "code",
   "execution_count": 29,
   "metadata": {},
   "outputs": [
    {
     "name": "stdout",
     "output_type": "stream",
     "text": [
      "11\n"
     ]
    }
   ],
   "source": [
    "me.addItem(\"bowtie\")\n",
    "me.addItem(\"jacket\")\n",
    "me.addItem(\"monocle\")\n",
    "\n",
    "# Should be 11\n",
    "print(me.getClassiness())"
   ]
  },
  {
   "cell_type": "code",
   "execution_count": 30,
   "metadata": {},
   "outputs": [
    {
     "name": "stdout",
     "output_type": "stream",
     "text": [
      "15\n"
     ]
    }
   ],
   "source": [
    "me.addItem(\"bowtie\")\n",
    "\n",
    "# Should be 15\n",
    "print(me.getClassiness())"
   ]
  },
  {
   "cell_type": "markdown",
   "metadata": {},
   "source": [
    "## Python: The Basics"
   ]
  },
  {
   "cell_type": "code",
   "execution_count": 40,
   "metadata": {},
   "outputs": [
    {
     "name": "stdout",
     "output_type": "stream",
     "text": [
      "I am super excited for this course! I am super excited for this course! I am super excited for this course! I am super excited for this course! I am super excited for this course! \n"
     ]
    }
   ],
   "source": [
    "# Write a function called \"show_excitement\" where the string\n",
    "# \"I am super excited for this course!\" is returned exactly\n",
    "# 5 times, where each sentence is separated by a single space.\n",
    "# Return the string with \"return\".\n",
    "# You can only have the string once in your code.\n",
    "# Don't just copy/paste it 5 times into a single variable!\n",
    "\n",
    "def show_excitement():\n",
    "    phrase = \"I am super excited for this course! \"\n",
    "    repeated_phrase = phrase * 5\n",
    "    return repeated_phrase\n",
    "\n",
    "\n",
    "print(show_excitement())"
   ]
  },
  {
   "cell_type": "markdown",
   "metadata": {},
   "source": [
    "## Efficiency\n",
    "* Efficiency/Complexity is how well you are using your computers resources\n",
    "  * Usually referencing Space or Time complexity with Big-O notation: O(1), O(n), O(n**2), O(log(n)), O(nlog(n)), etc."
   ]
  },
  {
   "cell_type": "markdown",
   "metadata": {},
   "source": [
    "### Efficiency Practice"
   ]
  },
  {
   "cell_type": "code",
   "execution_count": null,
   "metadata": {},
   "outputs": [],
   "source": [
    "\"\"\"input manatees: a list of \"manatees\", where one manatee is represented by a dictionary\n",
    "a single manatee has properties like \"name\", \"age\", et cetera\n",
    "n = the number of elements in \"manatees\"\n",
    "m = the number of properties per \"manatee\" (i.e. the number of keys in a manatee dictionary)\"\"\"\n",
    "\n",
    "def example1(manatees):\n",
    "    # O(n)\n",
    "    for manatee in manatees:\n",
    "        print(manatee['name'])\n",
    "\n",
    "def example2(manatees):\n",
    "    # O(1)\n",
    "    print(manatees[0]['name'])\n",
    "    print(manatees[0]['age'])\n",
    "\n",
    "def example3(manatees):\n",
    "    # O(n**2)\n",
    "    for manatee in manatees:\n",
    "        for manatee_property in manatee:\n",
    "            print(manatee_property, \": \", manatee[manatee_property])\n",
    "\n",
    "def example4(manatees):\n",
    "    # O(n**2)\n",
    "    oldest_manatee = \"No manatees here!\"\n",
    "    for manatee1 in manatees:\n",
    "        for manatee2 in manatees:\n",
    "            if manatee1['age'] < manatee2['age']:\n",
    "                oldest_manatee = manatee2['name']\n",
    "            else:\n",
    "                oldest_manatee = manatee1['name']\n",
    "    print(oldest_manatee)"
   ]
  }
 ],
 "metadata": {
  "kernelspec": {
   "display_name": "Python 3.10.4 64-bit",
   "language": "python",
   "name": "python3"
  },
  "language_info": {
   "codemirror_mode": {
    "name": "ipython",
    "version": 3
   },
   "file_extension": ".py",
   "mimetype": "text/x-python",
   "name": "python",
   "nbconvert_exporter": "python",
   "pygments_lexer": "ipython3",
   "version": "3.10.4"
  },
  "orig_nbformat": 4,
  "vscode": {
   "interpreter": {
    "hash": "369f2c481f4da34e4445cda3fffd2e751bd1c4d706f27375911949ba6bb62e1c"
   }
  }
 },
 "nbformat": 4,
 "nbformat_minor": 2
}
